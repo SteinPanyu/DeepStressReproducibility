{
 "cells": [
  {
   "cell_type": "markdown",
   "metadata": {},
   "source": [
    "# App Usage"
   ]
  },
  {
   "cell_type": "code",
   "execution_count": 1,
   "metadata": {},
   "outputs": [],
   "source": [
    "from Funcs.Utility import *"
   ]
  },
  {
   "cell_type": "code",
   "execution_count": 2,
   "metadata": {},
   "outputs": [
    {
     "name": "stdout",
     "output_type": "stream",
     "text": [
      "['P23', 'P13', 'P10', 'P05', 'P04', 'P15', 'P21', 'P22', 'P03', 'P08', 'P02', 'P11', 'P12', 'P14', 'P24', 'P27', 'P19', 'P07', 'P06', 'P18', 'P20', 'P25', 'P17', 'P26']\n"
     ]
    },
    {
     "name": "stderr",
     "output_type": "stream",
     "text": [
      "  0%|          | 0/24 [00:00<?, ?it/s]/tmp/ipykernel_431580/3956866718.py:35: SettingWithCopyWarning: \n",
      "A value is trying to be set on a copy of a slice from a DataFrame\n",
      "\n",
      "See the caveats in the documentation: https://pandas.pydata.org/pandas-docs/stable/user_guide/indexing.html#returning-a-view-versus-a-copy\n",
      "  app_usage_event_df.drop_duplicates(subset=['timestamp'] , keep='first', inplace=True)\n",
      "  4%|▍         | 1/24 [00:01<00:43,  1.91s/it]/tmp/ipykernel_431580/3956866718.py:35: SettingWithCopyWarning: \n",
      "A value is trying to be set on a copy of a slice from a DataFrame\n",
      "\n",
      "See the caveats in the documentation: https://pandas.pydata.org/pandas-docs/stable/user_guide/indexing.html#returning-a-view-versus-a-copy\n",
      "  app_usage_event_df.drop_duplicates(subset=['timestamp'] , keep='first', inplace=True)\n",
      "  8%|▊         | 2/24 [00:03<00:32,  1.48s/it]/tmp/ipykernel_431580/3956866718.py:35: SettingWithCopyWarning: \n",
      "A value is trying to be set on a copy of a slice from a DataFrame\n",
      "\n",
      "See the caveats in the documentation: https://pandas.pydata.org/pandas-docs/stable/user_guide/indexing.html#returning-a-view-versus-a-copy\n",
      "  app_usage_event_df.drop_duplicates(subset=['timestamp'] , keep='first', inplace=True)\n",
      " 12%|█▎        | 3/24 [00:04<00:28,  1.34s/it]/tmp/ipykernel_431580/3956866718.py:35: SettingWithCopyWarning: \n",
      "A value is trying to be set on a copy of a slice from a DataFrame\n",
      "\n",
      "See the caveats in the documentation: https://pandas.pydata.org/pandas-docs/stable/user_guide/indexing.html#returning-a-view-versus-a-copy\n",
      "  app_usage_event_df.drop_duplicates(subset=['timestamp'] , keep='first', inplace=True)\n",
      " 17%|█▋        | 4/24 [00:05<00:25,  1.29s/it]/tmp/ipykernel_431580/3956866718.py:35: SettingWithCopyWarning: \n",
      "A value is trying to be set on a copy of a slice from a DataFrame\n",
      "\n",
      "See the caveats in the documentation: https://pandas.pydata.org/pandas-docs/stable/user_guide/indexing.html#returning-a-view-versus-a-copy\n",
      "  app_usage_event_df.drop_duplicates(subset=['timestamp'] , keep='first', inplace=True)\n",
      " 21%|██        | 5/24 [00:06<00:22,  1.17s/it]/tmp/ipykernel_431580/3956866718.py:35: SettingWithCopyWarning: \n",
      "A value is trying to be set on a copy of a slice from a DataFrame\n",
      "\n",
      "See the caveats in the documentation: https://pandas.pydata.org/pandas-docs/stable/user_guide/indexing.html#returning-a-view-versus-a-copy\n",
      "  app_usage_event_df.drop_duplicates(subset=['timestamp'] , keep='first', inplace=True)\n",
      " 25%|██▌       | 6/24 [00:07<00:20,  1.15s/it]/tmp/ipykernel_431580/3956866718.py:35: SettingWithCopyWarning: \n",
      "A value is trying to be set on a copy of a slice from a DataFrame\n",
      "\n",
      "See the caveats in the documentation: https://pandas.pydata.org/pandas-docs/stable/user_guide/indexing.html#returning-a-view-versus-a-copy\n",
      "  app_usage_event_df.drop_duplicates(subset=['timestamp'] , keep='first', inplace=True)\n",
      " 29%|██▉       | 7/24 [00:08<00:17,  1.04s/it]/tmp/ipykernel_431580/3956866718.py:35: SettingWithCopyWarning: \n",
      "A value is trying to be set on a copy of a slice from a DataFrame\n",
      "\n",
      "See the caveats in the documentation: https://pandas.pydata.org/pandas-docs/stable/user_guide/indexing.html#returning-a-view-versus-a-copy\n",
      "  app_usage_event_df.drop_duplicates(subset=['timestamp'] , keep='first', inplace=True)\n",
      " 33%|███▎      | 8/24 [00:09<00:17,  1.10s/it]/tmp/ipykernel_431580/3956866718.py:35: SettingWithCopyWarning: \n",
      "A value is trying to be set on a copy of a slice from a DataFrame\n",
      "\n",
      "See the caveats in the documentation: https://pandas.pydata.org/pandas-docs/stable/user_guide/indexing.html#returning-a-view-versus-a-copy\n",
      "  app_usage_event_df.drop_duplicates(subset=['timestamp'] , keep='first', inplace=True)\n",
      " 38%|███▊      | 9/24 [00:10<00:17,  1.19s/it]/tmp/ipykernel_431580/3956866718.py:35: SettingWithCopyWarning: \n",
      "A value is trying to be set on a copy of a slice from a DataFrame\n",
      "\n",
      "See the caveats in the documentation: https://pandas.pydata.org/pandas-docs/stable/user_guide/indexing.html#returning-a-view-versus-a-copy\n",
      "  app_usage_event_df.drop_duplicates(subset=['timestamp'] , keep='first', inplace=True)\n",
      " 42%|████▏     | 10/24 [00:12<00:18,  1.29s/it]/tmp/ipykernel_431580/3956866718.py:35: SettingWithCopyWarning: \n",
      "A value is trying to be set on a copy of a slice from a DataFrame\n",
      "\n",
      "See the caveats in the documentation: https://pandas.pydata.org/pandas-docs/stable/user_guide/indexing.html#returning-a-view-versus-a-copy\n",
      "  app_usage_event_df.drop_duplicates(subset=['timestamp'] , keep='first', inplace=True)\n",
      " 46%|████▌     | 11/24 [00:14<00:17,  1.36s/it]/tmp/ipykernel_431580/3956866718.py:35: SettingWithCopyWarning: \n",
      "A value is trying to be set on a copy of a slice from a DataFrame\n",
      "\n",
      "See the caveats in the documentation: https://pandas.pydata.org/pandas-docs/stable/user_guide/indexing.html#returning-a-view-versus-a-copy\n",
      "  app_usage_event_df.drop_duplicates(subset=['timestamp'] , keep='first', inplace=True)\n",
      " 50%|█████     | 12/24 [00:14<00:14,  1.25s/it]/tmp/ipykernel_431580/3956866718.py:35: SettingWithCopyWarning: \n",
      "A value is trying to be set on a copy of a slice from a DataFrame\n",
      "\n",
      "See the caveats in the documentation: https://pandas.pydata.org/pandas-docs/stable/user_guide/indexing.html#returning-a-view-versus-a-copy\n",
      "  app_usage_event_df.drop_duplicates(subset=['timestamp'] , keep='first', inplace=True)\n",
      " 54%|█████▍    | 13/24 [00:15<00:12,  1.15s/it]/tmp/ipykernel_431580/3956866718.py:35: SettingWithCopyWarning: \n",
      "A value is trying to be set on a copy of a slice from a DataFrame\n",
      "\n",
      "See the caveats in the documentation: https://pandas.pydata.org/pandas-docs/stable/user_guide/indexing.html#returning-a-view-versus-a-copy\n",
      "  app_usage_event_df.drop_duplicates(subset=['timestamp'] , keep='first', inplace=True)\n",
      " 58%|█████▊    | 14/24 [00:17<00:12,  1.24s/it]/tmp/ipykernel_431580/3956866718.py:35: SettingWithCopyWarning: \n",
      "A value is trying to be set on a copy of a slice from a DataFrame\n",
      "\n",
      "See the caveats in the documentation: https://pandas.pydata.org/pandas-docs/stable/user_guide/indexing.html#returning-a-view-versus-a-copy\n",
      "  app_usage_event_df.drop_duplicates(subset=['timestamp'] , keep='first', inplace=True)\n",
      " 62%|██████▎   | 15/24 [00:18<00:10,  1.22s/it]/tmp/ipykernel_431580/3956866718.py:35: SettingWithCopyWarning: \n",
      "A value is trying to be set on a copy of a slice from a DataFrame\n",
      "\n",
      "See the caveats in the documentation: https://pandas.pydata.org/pandas-docs/stable/user_guide/indexing.html#returning-a-view-versus-a-copy\n",
      "  app_usage_event_df.drop_duplicates(subset=['timestamp'] , keep='first', inplace=True)\n",
      " 67%|██████▋   | 16/24 [00:19<00:08,  1.10s/it]/tmp/ipykernel_431580/3956866718.py:35: SettingWithCopyWarning: \n",
      "A value is trying to be set on a copy of a slice from a DataFrame\n",
      "\n",
      "See the caveats in the documentation: https://pandas.pydata.org/pandas-docs/stable/user_guide/indexing.html#returning-a-view-versus-a-copy\n",
      "  app_usage_event_df.drop_duplicates(subset=['timestamp'] , keep='first', inplace=True)\n",
      " 71%|███████   | 17/24 [00:21<00:09,  1.31s/it]/tmp/ipykernel_431580/3956866718.py:35: SettingWithCopyWarning: \n",
      "A value is trying to be set on a copy of a slice from a DataFrame\n",
      "\n",
      "See the caveats in the documentation: https://pandas.pydata.org/pandas-docs/stable/user_guide/indexing.html#returning-a-view-versus-a-copy\n",
      "  app_usage_event_df.drop_duplicates(subset=['timestamp'] , keep='first', inplace=True)\n",
      " 75%|███████▌  | 18/24 [00:21<00:06,  1.16s/it]/tmp/ipykernel_431580/3956866718.py:35: SettingWithCopyWarning: \n",
      "A value is trying to be set on a copy of a slice from a DataFrame\n",
      "\n",
      "See the caveats in the documentation: https://pandas.pydata.org/pandas-docs/stable/user_guide/indexing.html#returning-a-view-versus-a-copy\n",
      "  app_usage_event_df.drop_duplicates(subset=['timestamp'] , keep='first', inplace=True)\n",
      " 79%|███████▉  | 19/24 [00:23<00:05,  1.15s/it]/tmp/ipykernel_431580/3956866718.py:35: SettingWithCopyWarning: \n",
      "A value is trying to be set on a copy of a slice from a DataFrame\n",
      "\n",
      "See the caveats in the documentation: https://pandas.pydata.org/pandas-docs/stable/user_guide/indexing.html#returning-a-view-versus-a-copy\n",
      "  app_usage_event_df.drop_duplicates(subset=['timestamp'] , keep='first', inplace=True)\n",
      " 83%|████████▎ | 20/24 [00:24<00:05,  1.32s/it]/tmp/ipykernel_431580/3956866718.py:35: SettingWithCopyWarning: \n",
      "A value is trying to be set on a copy of a slice from a DataFrame\n",
      "\n",
      "See the caveats in the documentation: https://pandas.pydata.org/pandas-docs/stable/user_guide/indexing.html#returning-a-view-versus-a-copy\n",
      "  app_usage_event_df.drop_duplicates(subset=['timestamp'] , keep='first', inplace=True)\n",
      " 88%|████████▊ | 21/24 [00:25<00:03,  1.27s/it]/tmp/ipykernel_431580/3956866718.py:35: SettingWithCopyWarning: \n",
      "A value is trying to be set on a copy of a slice from a DataFrame\n",
      "\n",
      "See the caveats in the documentation: https://pandas.pydata.org/pandas-docs/stable/user_guide/indexing.html#returning-a-view-versus-a-copy\n",
      "  app_usage_event_df.drop_duplicates(subset=['timestamp'] , keep='first', inplace=True)\n",
      " 92%|█████████▏| 22/24 [00:26<00:02,  1.12s/it]/tmp/ipykernel_431580/3956866718.py:35: SettingWithCopyWarning: \n",
      "A value is trying to be set on a copy of a slice from a DataFrame\n",
      "\n",
      "See the caveats in the documentation: https://pandas.pydata.org/pandas-docs/stable/user_guide/indexing.html#returning-a-view-versus-a-copy\n",
      "  app_usage_event_df.drop_duplicates(subset=['timestamp'] , keep='first', inplace=True)\n",
      " 96%|█████████▌| 23/24 [00:28<00:01,  1.30s/it]/tmp/ipykernel_431580/3956866718.py:35: SettingWithCopyWarning: \n",
      "A value is trying to be set on a copy of a slice from a DataFrame\n",
      "\n",
      "See the caveats in the documentation: https://pandas.pydata.org/pandas-docs/stable/user_guide/indexing.html#returning-a-view-versus-a-copy\n",
      "  app_usage_event_df.drop_duplicates(subset=['timestamp'] , keep='first', inplace=True)\n",
      "100%|██████████| 24/24 [00:29<00:00,  1.25s/it]"
     ]
    },
    {
     "name": "stdout",
     "output_type": "stream",
     "text": [
      "Done\n"
     ]
    },
    {
     "name": "stderr",
     "output_type": "stream",
     "text": [
      "\n"
     ]
    }
   ],
   "source": [
    "import os\n",
    "import pandas as pd\n",
    "from tqdm import tqdm\n",
    "import os\n",
    "\n",
    "# Get the list of folders in PATH_SENSOR\n",
    "folders = os.listdir(PATH_SENSOR)\n",
    "\n",
    "# Filter out only the directories\n",
    "directories = [folder for folder in folders if os.path.isdir(os.path.join(PATH_SENSOR, folder))]\n",
    "\n",
    "print(directories)\n",
    "\n",
    "# Iterate over the folders\n",
    "for folder in tqdm(directories):\n",
    "    # Extract the user ID from the folder name\n",
    "    user_id = folder[1:]\n",
    "    \n",
    "    #Get the folder path:\n",
    "    folder_path = os.path.join(PATH_PREPROCESSED, f'P{user_id}')\n",
    "    if not os.path.exists(folder_path):\n",
    "        os.makedirs(folder_path)\n",
    "        \n",
    "    if not os.path.exists(os.path.join(os.path.join(os.path.join(PATH_SENSOR, f'P{user_id}')), 'APP_USAGE_EVENT.csv')): continue\n",
    "    # Get the list of CSV files in the user folder\n",
    "    tmp = pd.read_csv(os.path.join(os.path.join(PATH_SENSOR, f'P{user_id}'), 'APP_USAGE_EVENT.csv'))\n",
    "    \n",
    "    #Retrieve the necessary variables:\n",
    "    app_usage_event_df = tmp[['timestamp', 'name', 'packageName', 'type', 'isSystemApp', 'isUpdatedSystemApp','category']]\n",
    "\n",
    "    #Check for missing values:\n",
    "    # print( f'[user ID: {user_id}]: \\n', f\"Null Values:\\n{app_usage_event_df.isnull().sum()}\", f\"Missing Values:\\n{app_usage_event_df.isna().sum()}\")\n",
    "\n",
    "    #Ignore duplicates:\n",
    "    app_usage_event_df.drop_duplicates(subset=['timestamp'] , keep='first', inplace=True)\n",
    "\n",
    "    # Save the concatenated CSV file into the respective user folder in PATH_PREPROCESSED\n",
    "    if os.path.exists(os.path.join(folder_path, 'APP_USAGE_EVENT.csv')): os.remove(os.path.join(folder_path, 'APP_USAGE_EVENT.csv'))\n",
    "    \n",
    "    app_usage_event_df.to_csv(os.path.join(folder_path, 'APP_USAGE_EVENT.csv'))\n",
    "    \n",
    "\n",
    "print('Done')"
   ]
  },
  {
   "cell_type": "markdown",
   "metadata": {},
   "source": [
    "# Physicial Activity"
   ]
  },
  {
   "cell_type": "code",
   "execution_count": 24,
   "metadata": {},
   "outputs": [
    {
     "name": "stdout",
     "output_type": "stream",
     "text": [
      "['P23', 'P13', 'P10', 'P05', 'P04', 'P15', 'P21', 'P22', 'P03', 'P08', 'P02', 'P11', 'P12', 'P14', 'P24', 'P27', 'P19', 'P07', 'P06', 'P18', 'P20', 'P25', 'P17', 'P26']\n"
     ]
    },
    {
     "name": "stderr",
     "output_type": "stream",
     "text": [
      "  0%|          | 0/24 [00:00<?, ?it/s]"
     ]
    },
    {
     "name": "stdout",
     "output_type": "stream",
     "text": [
      "23\n"
     ]
    },
    {
     "name": "stderr",
     "output_type": "stream",
     "text": [
      "  4%|▍         | 1/24 [00:00<00:07,  2.99it/s]"
     ]
    },
    {
     "name": "stdout",
     "output_type": "stream",
     "text": [
      "13\n"
     ]
    },
    {
     "name": "stderr",
     "output_type": "stream",
     "text": [
      " 12%|█▎        | 3/24 [00:00<00:04,  4.29it/s]"
     ]
    },
    {
     "name": "stdout",
     "output_type": "stream",
     "text": [
      "10\n",
      "05\n"
     ]
    },
    {
     "name": "stderr",
     "output_type": "stream",
     "text": [
      " 21%|██        | 5/24 [00:01<00:03,  4.86it/s]"
     ]
    },
    {
     "name": "stdout",
     "output_type": "stream",
     "text": [
      "04\n",
      "15\n"
     ]
    },
    {
     "name": "stderr",
     "output_type": "stream",
     "text": [
      " 29%|██▉       | 7/24 [00:01<00:03,  5.10it/s]"
     ]
    },
    {
     "name": "stdout",
     "output_type": "stream",
     "text": [
      "21\n",
      "22\n"
     ]
    },
    {
     "name": "stderr",
     "output_type": "stream",
     "text": [
      " 38%|███▊      | 9/24 [00:01<00:02,  5.56it/s]"
     ]
    },
    {
     "name": "stdout",
     "output_type": "stream",
     "text": [
      "03\n",
      "08\n"
     ]
    },
    {
     "name": "stderr",
     "output_type": "stream",
     "text": [
      " 46%|████▌     | 11/24 [00:02<00:02,  5.32it/s]"
     ]
    },
    {
     "name": "stdout",
     "output_type": "stream",
     "text": [
      "02\n",
      "11\n"
     ]
    },
    {
     "name": "stderr",
     "output_type": "stream",
     "text": [
      " 54%|█████▍    | 13/24 [00:02<00:01,  5.61it/s]"
     ]
    },
    {
     "name": "stdout",
     "output_type": "stream",
     "text": [
      "12\n",
      "14\n"
     ]
    },
    {
     "name": "stderr",
     "output_type": "stream",
     "text": [
      " 62%|██████▎   | 15/24 [00:02<00:01,  5.81it/s]"
     ]
    },
    {
     "name": "stdout",
     "output_type": "stream",
     "text": [
      "24\n",
      "27\n"
     ]
    },
    {
     "name": "stderr",
     "output_type": "stream",
     "text": [
      " 71%|███████   | 17/24 [00:03<00:01,  5.54it/s]"
     ]
    },
    {
     "name": "stdout",
     "output_type": "stream",
     "text": [
      "19\n",
      "07\n"
     ]
    },
    {
     "name": "stderr",
     "output_type": "stream",
     "text": [
      " 75%|███████▌  | 18/24 [00:03<00:01,  5.40it/s]"
     ]
    },
    {
     "name": "stdout",
     "output_type": "stream",
     "text": [
      "06\n"
     ]
    },
    {
     "name": "stderr",
     "output_type": "stream",
     "text": [
      " 79%|███████▉  | 19/24 [00:03<00:00,  5.25it/s]"
     ]
    },
    {
     "name": "stdout",
     "output_type": "stream",
     "text": [
      "18\n"
     ]
    },
    {
     "name": "stderr",
     "output_type": "stream",
     "text": [
      " 83%|████████▎ | 20/24 [00:03<00:00,  4.88it/s]"
     ]
    },
    {
     "name": "stdout",
     "output_type": "stream",
     "text": [
      "20\n"
     ]
    },
    {
     "name": "stderr",
     "output_type": "stream",
     "text": [
      " 92%|█████████▏| 22/24 [00:04<00:00,  5.01it/s]"
     ]
    },
    {
     "name": "stdout",
     "output_type": "stream",
     "text": [
      "25\n",
      "17\n"
     ]
    },
    {
     "name": "stderr",
     "output_type": "stream",
     "text": [
      " 96%|█████████▌| 23/24 [00:04<00:00,  5.04it/s]"
     ]
    },
    {
     "name": "stdout",
     "output_type": "stream",
     "text": [
      "26\n"
     ]
    },
    {
     "name": "stderr",
     "output_type": "stream",
     "text": [
      "100%|██████████| 24/24 [00:04<00:00,  5.02it/s]"
     ]
    },
    {
     "name": "stdout",
     "output_type": "stream",
     "text": [
      "Done\n"
     ]
    },
    {
     "name": "stderr",
     "output_type": "stream",
     "text": [
      "\n"
     ]
    }
   ],
   "source": [
    "import os\n",
    "import pandas as pd\n",
    "\n",
    "# Get the list of folders in PATH_SENSOR\n",
    "folders = os.listdir(PATH_SENSOR)\n",
    "\n",
    "# Filter out only the directories\n",
    "directories = [folder for folder in folders if os.path.isdir(os.path.join(PATH_SENSOR, folder))]\n",
    "\n",
    "print(directories)\n",
    "\n",
    "# Iterate over the folders\n",
    "for folder in tqdm(directories):\n",
    "    # Extract the user ID from the folder name\n",
    "    user_id = folder[1:]\n",
    "\n",
    "    print(user_id)\n",
    "    \n",
    "    # Retrieve the user folder in PATH_PREPROCESSED\n",
    "    folder_path = os.path.join(PATH_PREPROCESSED, f'P{user_id}')\n",
    "    \n",
    "    # Get the list of CSV files in the user folder\n",
    "    if not os.path.exists(os.path.join(os.path.join(os.path.join(PATH_SENSOR, f'P{user_id}')), 'PHYSICAL_ACTIVITY.csv')): continue\n",
    "    tmp = pd.read_csv(os.path.join(os.path.join(os.path.join(PATH_SENSOR, f'P{user_id}')), 'PHYSICAL_ACTIVITY.csv'), index_col=0)\n",
    "    \n",
    "    #Retrieve the necessary variables:\n",
    "    \n",
    "    values = ['confidenceStill', 'confidenceTilting',\\\n",
    "        'confidenceUnknown', 'confidenceInVehicle', 'confidenceOnBicycle', \\\n",
    "        'confidenceOnFoot', 'confidenceWalking', 'confidenceRunning']\n",
    "    \n",
    "    unique_vals = ['STILL', 'TILTING', 'UNDEFINED', 'IN_VEHICLE',\\\n",
    "                    'ON_BICYCLE', 'ON_FOOT', 'WALKING', 'RUNNING']\n",
    "    \n",
    "    # activity_map = dict(zip(unique_vals, list(range(8))))\n",
    "    \n",
    "    activities = []\n",
    "    \n",
    "    # Calculate the column value over all columns' sum values\n",
    "    for col in unique_vals:\n",
    "        tmp[col] = tmp[col].fillna(0)\n",
    "        tmp[col] = tmp[col] / tmp[unique_vals].sum(axis=1)\n",
    "\n",
    "    tmp = tmp.rename(columns=dict(zip(unique_vals, values)))\n",
    "\n",
    "    \n",
    "    #Check for missing values:\n",
    "    # print( f'[user ID: {user_id}]: \\n', f\"Null Values:\\n{activities_df.isnull().sum()}\", f\"Missing Values:\\n{activities_df.isna().sum()}\")\n",
    "\n",
    "    #Ignore duplicates:\n",
    "    tmp.drop_duplicates(keep='first', inplace=True)\n",
    "\n",
    "    # Save the concatenated CSV file into the respective user folder in PATH_PREPROCESSED\n",
    "    if os.path.exists(os.path.join(folder_path, 'PHYSICAL_ACTIVITY.csv')): os.remove(os.path.join(folder_path, 'PHYSICAL_ACTIVITY.csv'))\n",
    "    tmp.to_csv(os.path.join(folder_path, 'PHYSICAL_ACTIVITY.csv'))\n",
    "\n",
    "print('Done')"
   ]
  },
  {
   "cell_type": "markdown",
   "metadata": {},
   "source": [
    "# Physicial Activity Transition"
   ]
  },
  {
   "cell_type": "code",
   "execution_count": 25,
   "metadata": {},
   "outputs": [
    {
     "name": "stdout",
     "output_type": "stream",
     "text": [
      "['P23', 'P13', 'P10', 'P05', 'P04', 'P15', 'P21', 'P22', 'P03', 'P08', 'P02', 'P11', 'P12', 'P14', 'P24', 'P27', 'P19', 'P07', 'P06', 'P18', 'P20', 'P25', 'P17', 'P26']\n"
     ]
    },
    {
     "name": "stderr",
     "output_type": "stream",
     "text": [
      "100%|██████████| 24/24 [00:05<00:00,  4.37it/s]"
     ]
    },
    {
     "name": "stdout",
     "output_type": "stream",
     "text": [
      "Done\n"
     ]
    },
    {
     "name": "stderr",
     "output_type": "stream",
     "text": [
      "\n"
     ]
    }
   ],
   "source": [
    "import os\n",
    "import pandas as pd\n",
    "from tqdm import tqdm\n",
    "from Funcs.Utility import *\n",
    "#TODO: Check the entry-exit pair existance (e.g. entry to building, then there should be exit from the building.).\n",
    "# Get the list of folders in PATH_SENSOR\n",
    "folders = os.listdir(PATH_SENSOR)\n",
    "\n",
    "# Filter out only the directories\n",
    "directories = [folder for folder in folders if os.path.isdir(os.path.join(PATH_SENSOR, folder))]\n",
    "\n",
    "print(directories)\n",
    "\n",
    "# Iterate over the folders\n",
    "for folder in tqdm(directories):\n",
    "    # Extract the user ID from the folder name\n",
    "    user_id = folder[1:]\n",
    "    \n",
    "    # Retrieve the user folder in PATH_PREPROCESSED\n",
    "    folder_path = os.path.join(PATH_PREPROCESSED, f'P{user_id}')\n",
    "    \n",
    "    # Get the list of CSV files in the user folder\n",
    "    if not os.path.exists(os.path.join(os.path.join(os.path.join(PATH_SENSOR, f'P{user_id}')), 'PHYSICAL_ACTIVITY_TRANSITION.csv')): continue\n",
    "    tmp = pd.read_csv(os.path.join(os.path.join(os.path.join(PATH_SENSOR, f'P{user_id}')), 'PHYSICAL_ACTIVITY_TRANSITION.csv'))\n",
    "    \n",
    "    #Retrieve the necessary variables:\n",
    "    physical_activity_transition_df = tmp[tmp['isEntered']==True][['timestamp', 'Type']]\n",
    "    \n",
    "    #Check for missing values:\n",
    "    # print( f'[user ID: {user_id}]: \\n', f\"Null Values:\\n{physical_activity_transition_df.isnull().sum()}\", f\"Missing Values:\\n{physical_activity_transition_df.isna().sum()}\")\n",
    "\n",
    "    #Ignore duplicates:\n",
    "    physical_activity_transition_df.drop_duplicates(subset=['timestamp'], keep='first', inplace=True)\n",
    "\n",
    "    # Save the concatenated CSV file into the respective user folder in PATH_PREPROCESSED\n",
    "    if os.path.exists(os.path.join(folder_path, 'PHYSICAL_ACTIVITY_TRANSITION.csv')): os.remove(os.path.join(folder_path, 'PHYSICAL_ACTIVITY_TRANSITION.csv'))\n",
    "    physical_activity_transition_df.to_csv(os.path.join(folder_path, 'PHYSICAL_ACTIVITY_TRANSITION.csv'))\n",
    "    \n",
    "print('Done')"
   ]
  },
  {
   "cell_type": "code",
   "execution_count": 26,
   "metadata": {},
   "outputs": [
    {
     "name": "stderr",
     "output_type": "stream",
     "text": [
      "100%|██████████| 24/24 [00:01<00:00, 15.20it/s]\n"
     ]
    }
   ],
   "source": [
    "import os\n",
    "import pandas as pd\n",
    "from tqdm import tqdm\n",
    "\n",
    "# tmp_d1 = pd.read_csv(os.path.join(\"/var/nfs_share/D#1/Sensor/P01/ActivityTransition.csv\"), index_col=0)\n",
    "# print(tmp_d1.columns)\n",
    "\n",
    "# tmp_lg = pd.read_csv(os.path.join(PATH_PREPROCESSED, \"P1\", \"PHYSICAL_ACTIVITY_TRANSITION.csv\"), index_col=0)\n",
    "# print(tmp_lg.columns)\n",
    "\n",
    "for uid in tqdm(os.listdir(os.path.join(PATH_PREPROCESSED))):\n",
    "    if not os.path.exists(os.path.join(os.path.join(os.path.join(PATH_PREPROCESSED, uid)), 'PHYSICAL_ACTIVITY_TRANSITION.csv')): continue\n",
    "    tmp_lg = pd.read_csv(os.path.join(PATH_PREPROCESSED, uid, \"PHYSICAL_ACTIVITY_TRANSITION.csv\"), index_col=0)\n",
    "    # Rearrange columns in the desired order\n",
    "    tmp_lg.rename(columns={\"Type\": \"transitionType\"}, inplace=True)\n",
    "    tmp_lg.to_csv(os.path.join(PATH_PREPROCESSED, uid, \"PHYSICAL_ACTIVITY_TRANSITION.csv\"), index=False)\n",
    "#Done"
   ]
  },
  {
   "cell_type": "markdown",
   "metadata": {},
   "source": [
    "# Location"
   ]
  },
  {
   "cell_type": "code",
   "execution_count": 30,
   "metadata": {},
   "outputs": [
    {
     "name": "stderr",
     "output_type": "stream",
     "text": [
      "  7%|▋         | 2/27 [00:00<00:01, 15.25it/s]"
     ]
    },
    {
     "name": "stdout",
     "output_type": "stream",
     "text": [
      "pp_category_1.csv\n",
      "23\n",
      "13\n"
     ]
    },
    {
     "name": "stderr",
     "output_type": "stream",
     "text": [
      "/tmp/ipykernel_3924615/4241970984.py:31: SettingWithCopyWarning: \n",
      "A value is trying to be set on a copy of a slice from a DataFrame\n",
      "\n",
      "See the caveats in the documentation: https://pandas.pydata.org/pandas-docs/stable/user_guide/indexing.html#returning-a-view-versus-a-copy\n",
      "  location_df.drop_duplicates(keep='first', inplace=True)\n",
      " 15%|█▍        | 4/27 [00:00<00:02,  8.95it/s]"
     ]
    },
    {
     "name": "stdout",
     "output_type": "stream",
     "text": [
      "10\n",
      "05\n"
     ]
    },
    {
     "name": "stderr",
     "output_type": "stream",
     "text": [
      "/tmp/ipykernel_3924615/4241970984.py:31: SettingWithCopyWarning: \n",
      "A value is trying to be set on a copy of a slice from a DataFrame\n",
      "\n",
      "See the caveats in the documentation: https://pandas.pydata.org/pandas-docs/stable/user_guide/indexing.html#returning-a-view-versus-a-copy\n",
      "  location_df.drop_duplicates(keep='first', inplace=True)\n",
      " 22%|██▏       | 6/27 [00:00<00:02,  7.46it/s]"
     ]
    },
    {
     "name": "stdout",
     "output_type": "stream",
     "text": [
      "04\n",
      "15\n"
     ]
    },
    {
     "name": "stderr",
     "output_type": "stream",
     "text": [
      "/tmp/ipykernel_3924615/4241970984.py:31: SettingWithCopyWarning: \n",
      "A value is trying to be set on a copy of a slice from a DataFrame\n",
      "\n",
      "See the caveats in the documentation: https://pandas.pydata.org/pandas-docs/stable/user_guide/indexing.html#returning-a-view-versus-a-copy\n",
      "  location_df.drop_duplicates(keep='first', inplace=True)\n",
      " 26%|██▌       | 7/27 [00:00<00:02,  6.98it/s]/tmp/ipykernel_3924615/4241970984.py:31: SettingWithCopyWarning: \n",
      "A value is trying to be set on a copy of a slice from a DataFrame\n",
      "\n",
      "See the caveats in the documentation: https://pandas.pydata.org/pandas-docs/stable/user_guide/indexing.html#returning-a-view-versus-a-copy\n",
      "  location_df.drop_duplicates(keep='first', inplace=True)\n",
      " 30%|██▉       | 8/27 [00:01<00:02,  6.66it/s]"
     ]
    },
    {
     "name": "stdout",
     "output_type": "stream",
     "text": [
      "21\n",
      "22\n"
     ]
    },
    {
     "name": "stderr",
     "output_type": "stream",
     "text": [
      " 37%|███▋      | 10/27 [00:01<00:02,  6.20it/s]"
     ]
    },
    {
     "name": "stdout",
     "output_type": "stream",
     "text": [
      "03\n",
      "08\n"
     ]
    },
    {
     "name": "stderr",
     "output_type": "stream",
     "text": [
      "/tmp/ipykernel_3924615/4241970984.py:31: SettingWithCopyWarning: \n",
      "A value is trying to be set on a copy of a slice from a DataFrame\n",
      "\n",
      "See the caveats in the documentation: https://pandas.pydata.org/pandas-docs/stable/user_guide/indexing.html#returning-a-view-versus-a-copy\n",
      "  location_df.drop_duplicates(keep='first', inplace=True)\n",
      " 41%|████      | 11/27 [00:01<00:02,  6.50it/s]/tmp/ipykernel_3924615/4241970984.py:31: SettingWithCopyWarning: \n",
      "A value is trying to be set on a copy of a slice from a DataFrame\n",
      "\n",
      "See the caveats in the documentation: https://pandas.pydata.org/pandas-docs/stable/user_guide/indexing.html#returning-a-view-versus-a-copy\n",
      "  location_df.drop_duplicates(keep='first', inplace=True)\n"
     ]
    },
    {
     "name": "stdout",
     "output_type": "stream",
     "text": [
      "02\n"
     ]
    },
    {
     "name": "stderr",
     "output_type": "stream",
     "text": [
      " 44%|████▍     | 12/27 [00:01<00:02,  5.64it/s]/tmp/ipykernel_3924615/4241970984.py:31: SettingWithCopyWarning: \n",
      "A value is trying to be set on a copy of a slice from a DataFrame\n",
      "\n",
      "See the caveats in the documentation: https://pandas.pydata.org/pandas-docs/stable/user_guide/indexing.html#returning-a-view-versus-a-copy\n",
      "  location_df.drop_duplicates(keep='first', inplace=True)\n",
      " 48%|████▊     | 13/27 [00:01<00:02,  6.15it/s]/tmp/ipykernel_3924615/4241970984.py:31: SettingWithCopyWarning: \n",
      "A value is trying to be set on a copy of a slice from a DataFrame\n",
      "\n",
      "See the caveats in the documentation: https://pandas.pydata.org/pandas-docs/stable/user_guide/indexing.html#returning-a-view-versus-a-copy\n",
      "  location_df.drop_duplicates(keep='first', inplace=True)\n"
     ]
    },
    {
     "name": "stdout",
     "output_type": "stream",
     "text": [
      "11\n",
      "12\n"
     ]
    },
    {
     "name": "stderr",
     "output_type": "stream",
     "text": [
      " 56%|█████▌    | 15/27 [00:02<00:02,  5.99it/s]/tmp/ipykernel_3924615/4241970984.py:31: SettingWithCopyWarning: \n",
      "A value is trying to be set on a copy of a slice from a DataFrame\n",
      "\n",
      "See the caveats in the documentation: https://pandas.pydata.org/pandas-docs/stable/user_guide/indexing.html#returning-a-view-versus-a-copy\n",
      "  location_df.drop_duplicates(keep='first', inplace=True)\n"
     ]
    },
    {
     "name": "stdout",
     "output_type": "stream",
     "text": [
      "14\n",
      "24\n"
     ]
    },
    {
     "name": "stderr",
     "output_type": "stream",
     "text": [
      " 59%|█████▉    | 16/27 [00:02<00:01,  6.34it/s]/tmp/ipykernel_3924615/4241970984.py:31: SettingWithCopyWarning: \n",
      "A value is trying to be set on a copy of a slice from a DataFrame\n",
      "\n",
      "See the caveats in the documentation: https://pandas.pydata.org/pandas-docs/stable/user_guide/indexing.html#returning-a-view-versus-a-copy\n",
      "  location_df.drop_duplicates(keep='first', inplace=True)\n",
      " 63%|██████▎   | 17/27 [00:02<00:01,  6.42it/s]/tmp/ipykernel_3924615/4241970984.py:31: SettingWithCopyWarning: \n",
      "A value is trying to be set on a copy of a slice from a DataFrame\n",
      "\n",
      "See the caveats in the documentation: https://pandas.pydata.org/pandas-docs/stable/user_guide/indexing.html#returning-a-view-versus-a-copy\n",
      "  location_df.drop_duplicates(keep='first', inplace=True)\n"
     ]
    },
    {
     "name": "stdout",
     "output_type": "stream",
     "text": [
      "27\n",
      "pp_category.csv\n",
      "19\n"
     ]
    },
    {
     "name": "stderr",
     "output_type": "stream",
     "text": [
      " 70%|███████   | 19/27 [00:02<00:00,  8.43it/s]/tmp/ipykernel_3924615/4241970984.py:31: SettingWithCopyWarning: \n",
      "A value is trying to be set on a copy of a slice from a DataFrame\n",
      "\n",
      "See the caveats in the documentation: https://pandas.pydata.org/pandas-docs/stable/user_guide/indexing.html#returning-a-view-versus-a-copy\n",
      "  location_df.drop_duplicates(keep='first', inplace=True)\n",
      " 74%|███████▍  | 20/27 [00:02<00:00,  7.35it/s]"
     ]
    },
    {
     "name": "stdout",
     "output_type": "stream",
     "text": [
      "07\n",
      "06\n"
     ]
    },
    {
     "name": "stderr",
     "output_type": "stream",
     "text": [
      "/tmp/ipykernel_3924615/4241970984.py:31: SettingWithCopyWarning: \n",
      "A value is trying to be set on a copy of a slice from a DataFrame\n",
      "\n",
      "See the caveats in the documentation: https://pandas.pydata.org/pandas-docs/stable/user_guide/indexing.html#returning-a-view-versus-a-copy\n",
      "  location_df.drop_duplicates(keep='first', inplace=True)\n",
      " 78%|███████▊  | 21/27 [00:03<00:00,  7.27it/s]/tmp/ipykernel_3924615/4241970984.py:31: SettingWithCopyWarning: \n",
      "A value is trying to be set on a copy of a slice from a DataFrame\n",
      "\n",
      "See the caveats in the documentation: https://pandas.pydata.org/pandas-docs/stable/user_guide/indexing.html#returning-a-view-versus-a-copy\n",
      "  location_df.drop_duplicates(keep='first', inplace=True)\n"
     ]
    },
    {
     "name": "stdout",
     "output_type": "stream",
     "text": [
      "18\n"
     ]
    },
    {
     "name": "stderr",
     "output_type": "stream",
     "text": [
      " 81%|████████▏ | 22/27 [00:03<00:00,  6.15it/s]/tmp/ipykernel_3924615/4241970984.py:31: SettingWithCopyWarning: \n",
      "A value is trying to be set on a copy of a slice from a DataFrame\n",
      "\n",
      "See the caveats in the documentation: https://pandas.pydata.org/pandas-docs/stable/user_guide/indexing.html#returning-a-view-versus-a-copy\n",
      "  location_df.drop_duplicates(keep='first', inplace=True)\n",
      " 89%|████████▉ | 24/27 [00:03<00:00,  7.80it/s]"
     ]
    },
    {
     "name": "stdout",
     "output_type": "stream",
     "text": [
      "ncategorized_apps.csv\n",
      "20\n",
      "25\n"
     ]
    },
    {
     "name": "stderr",
     "output_type": "stream",
     "text": [
      "/tmp/ipykernel_3924615/4241970984.py:31: SettingWithCopyWarning: \n",
      "A value is trying to be set on a copy of a slice from a DataFrame\n",
      "\n",
      "See the caveats in the documentation: https://pandas.pydata.org/pandas-docs/stable/user_guide/indexing.html#returning-a-view-versus-a-copy\n",
      "  location_df.drop_duplicates(keep='first', inplace=True)\n",
      " 93%|█████████▎| 25/27 [00:03<00:00,  7.38it/s]/tmp/ipykernel_3924615/4241970984.py:31: SettingWithCopyWarning: \n",
      "A value is trying to be set on a copy of a slice from a DataFrame\n",
      "\n",
      "See the caveats in the documentation: https://pandas.pydata.org/pandas-docs/stable/user_guide/indexing.html#returning-a-view-versus-a-copy\n",
      "  location_df.drop_duplicates(keep='first', inplace=True)\n",
      " 96%|█████████▋| 26/27 [00:03<00:00,  6.63it/s]"
     ]
    },
    {
     "name": "stdout",
     "output_type": "stream",
     "text": [
      "17\n",
      "26\n"
     ]
    },
    {
     "name": "stderr",
     "output_type": "stream",
     "text": [
      "100%|██████████| 27/27 [00:03<00:00,  6.84it/s]"
     ]
    },
    {
     "name": "stdout",
     "output_type": "stream",
     "text": [
      "Done\n"
     ]
    },
    {
     "name": "stderr",
     "output_type": "stream",
     "text": [
      "\n"
     ]
    }
   ],
   "source": [
    "import os\n",
    "import pandas as pd\n",
    "\n",
    "# Get the list of folders in PATH_SENSOR\n",
    "folders = os.listdir(PATH_SENSOR)\n",
    "\n",
    "# Filter out only the directories\n",
    "directories = [folder for folder in folders if os.path.isdir(os.path.join(PATH_SENSOR, folder))]\n",
    "\n",
    "# Iterate over the folders\n",
    "for folder in tqdm(folders):\n",
    "    # Extract the user ID from the folder name\n",
    "    user_id = folder[1:]\n",
    "\n",
    "    print(user_id)\n",
    "    \n",
    "    # Retrieve the user folder in PATH_PREPROCESSED\n",
    "    folder_path = os.path.join(PATH_PREPROCESSED, f'P{user_id}')\n",
    "    \n",
    "    # Get the list of CSV files in the user folder\n",
    "    if not os.path.exists(os.path.join(os.path.join(os.path.join(PATH_SENSOR, f'P{user_id}')), 'LOCATION.csv')): continue\n",
    "    tmp = pd.read_csv(os.path.join(os.path.join(os.path.join(PATH_SENSOR, f'P{user_id}')), 'LOCATION.csv'))\n",
    "    \n",
    "    #Retrieve the necessary variables:\n",
    "    location_df = tmp[['timestamp', 'latitude', 'longitude', 'altitude', 'accuracy', 'speed']]\n",
    "    \n",
    "    #Check for missing values:\n",
    "    # print( f'[user ID: {user_id}]: \\n', f\"Null Values:\\n{location_df.isnull().sum()}\", f\"Missing Values:\\n{location_df.isna().sum()}\")\n",
    "\n",
    "    #Ignore duplicates:\n",
    "    location_df.drop_duplicates(keep='first', inplace=True)\n",
    "\n",
    "    # Save the concatenated CSV file into the respective user folder in PATH_PREPROCESSED\n",
    "    if os.path.exists(os.path.join(folder_path, 'LOCATION.csv')): os.remove(os.path.join(folder_path, 'LOCATION.csv'))\n",
    "    location_df.to_csv(os.path.join(folder_path, 'LOCATION.csv'))\n",
    "\n",
    "print('Done')    "
   ]
  }
 ],
 "metadata": {
  "kernelspec": {
   "display_name": "sci-data",
   "language": "python",
   "name": "python3"
  },
  "language_info": {
   "codemirror_mode": {
    "name": "ipython",
    "version": 3
   },
   "file_extension": ".py",
   "mimetype": "text/x-python",
   "name": "python",
   "nbconvert_exporter": "python",
   "pygments_lexer": "ipython3",
   "version": "3.9.15"
  }
 },
 "nbformat": 4,
 "nbformat_minor": 2
}
