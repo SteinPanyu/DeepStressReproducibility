{
 "cells": [
  {
   "cell_type": "code",
   "execution_count": 2,
   "metadata": {},
   "outputs": [],
   "source": [
    "import os\n",
    "import shutil\n",
    "import numpy as np\n",
    "import pandas as pd\n",
    "import matplotlib.pyplot as plt\n",
    "import seaborn as sns\n",
    "import ast\n",
    "import requests\n",
    "from bs4 import BeautifulSoup\n",
    "import json\n",
    "from typing import List\n",
    "from Funcs.Utility import *\n",
    "from tqdm import tqdm\n",
    "from glob import glob\n",
    "from time import sleep\n",
    "\n",
    "from selenium import webdriver as webdriver\n",
    "from selenium.webdriver.common.by import By\n",
    "from selenium.webdriver.support.ui import WebDriverWait\n",
    "from selenium.webdriver.chrome.service import Service\n",
    "from webdriver_manager.chrome import ChromeDriverManager\n",
    "from selenium.webdriver.support import expected_conditions as EC\n",
    "from selenium.webdriver.chrome.options import Options\n",
    "from selenium.common.exceptions import InvalidSessionIdException\n",
    "from selenium.webdriver import FirefoxOptions\n",
    "from selenium.webdriver.common.keys import Keys\n",
    "import warnings\n",
    "warnings.filterwarnings(\"ignore\")\n",
    "\n",
    "uids = os.listdir(PATH_SENSOR)\n",
    "columns = [\"packageName\",\"name\",\"category\",\"source\"]\n",
    "types = [\"ACTIVITY_RESUMED\",\"ACTIVITY_PAUSED\"]\n",
    "\n"
   ]
  },
  {
   "cell_type": "code",
   "execution_count": 9,
   "metadata": {},
   "outputs": [
    {
     "name": "stdout",
     "output_type": "stream",
     "text": [
      "# Total Apps: 836\n",
      "                                   packageName\n",
      "0  advanced.scientific.calculator.calc991.plus\n",
      "1         air.kr.paikdabang.android.membership\n",
      "2                                      android\n",
      "3                          app.heymoon.release\n",
      "4                                    app.intra \n",
      " Index(['packageName'], dtype='object') \n",
      " (836, 1) \n",
      "\n"
     ]
    }
   ],
   "source": [
    "#Part 1: Get the list of uncategorized apps\n",
    "\n",
    "if os.path.exists(os.path.join(PATH_SENSOR, \"uncategorized_apps.csv\")):\n",
    "    os.remove(os.path.join(PATH_SENSOR, \"uncategorized_apps.csv\"))\n",
    "\n",
    "\n",
    "# Make Entire app List from the data\n",
    "app_list = []\n",
    "for uid in uids:\n",
    "    dfs = []\n",
    "    for path in sorted(glob(os.path.join(PATH_SENSOR, uid, 'APP_USAGE_EVENT.csv'))):\n",
    "        dfs.append(pd.read_csv(path, index_col = False, header = 0))\n",
    "    if len(dfs) != 0: df = pd.concat(dfs)\n",
    "    df = df.query('type in @types')\n",
    "    app_list += df['packageName'].unique().tolist()\n",
    "app_list = sorted(set(app_list))\n",
    "print(\"# Total Apps:\", len(app_list))\n",
    "\n",
    "df = pd.DataFrame(app_list, columns=['packageName'])\n",
    "df.drop(columns=[col for col in df.columns if 'Unnamed' in col], inplace=True)\n",
    "print(df.head(), \"\\n\", df.columns, \"\\n\", df.shape, \"\\n\")\n",
    "df.to_csv(os.path.join(PATH_SENSOR, \"uncategorized_apps.csv\"))\n"
   ]
  },
  {
   "cell_type": "code",
   "execution_count": 10,
   "metadata": {},
   "outputs": [
    {
     "name": "stdout",
     "output_type": "stream",
     "text": [
      "<<<<<<<<<<<<<<<<<<<< First Extraction Began >>>>>>>>>>>>>>>>>>>>\n"
     ]
    },
    {
     "name": "stderr",
     "output_type": "stream",
     "text": [
      "  0%|          | 1/836 [00:02<32:05,  2.31s/it]"
     ]
    },
    {
     "name": "stdout",
     "output_type": "stream",
     "text": [
      "['advanced.scientific.calculator.calc991.plus', 'SCIENTIFIC CALCULATOR PLUS 991', 'EDUCATION', 'https://apkcombo.com']\n"
     ]
    },
    {
     "name": "stderr",
     "output_type": "stream",
     "text": [
      "  0%|          | 2/836 [00:03<26:26,  1.90s/it]"
     ]
    },
    {
     "name": "stdout",
     "output_type": "stream",
     "text": [
      "['air.kr.paikdabang.android.membership', '빽다방', 'FOOD & DRINK', 'https://apkcombo.com']\n"
     ]
    },
    {
     "name": "stderr",
     "output_type": "stream",
     "text": [
      "  0%|          | 3/836 [00:08<43:45,  3.15s/it]"
     ]
    },
    {
     "name": "stdout",
     "output_type": "stream",
     "text": [
      "Error\n",
      "['android', None, None, 'https://apkcombo.com']\n"
     ]
    },
    {
     "name": "stderr",
     "output_type": "stream",
     "text": [
      "  0%|          | 4/836 [00:10<35:52,  2.59s/it]"
     ]
    },
    {
     "name": "stdout",
     "output_type": "stream",
     "text": [
      "['app.heymoon.release', '헤이문 - 월경 건강 앱', 'HEALTH & FITNESS', 'https://apkcombo.com']\n"
     ]
    },
    {
     "name": "stderr",
     "output_type": "stream",
     "text": [
      "  1%|          | 5/836 [00:11<30:40,  2.22s/it]"
     ]
    },
    {
     "name": "stdout",
     "output_type": "stream",
     "text": [
      "['app.intra', 'INTRA', 'TOOLS', 'https://apkcombo.com']\n"
     ]
    },
    {
     "name": "stderr",
     "output_type": "stream",
     "text": [
      "  1%|          | 6/836 [00:13<27:30,  1.99s/it]"
     ]
    },
    {
     "name": "stdout",
     "output_type": "stream",
     "text": [
      "['biz.codespark.xcalendarapp', 'ONE CALENDAR', 'PRODUCTIVITY', 'https://apkcombo.com']\n"
     ]
    },
    {
     "name": "stderr",
     "output_type": "stream",
     "text": [
      "  1%|          | 7/836 [00:15<25:46,  1.87s/it]"
     ]
    },
    {
     "name": "stdout",
     "output_type": "stream",
     "text": [
      "['biz.uniquegood.realworld.sunguard', '리얼월드', 'ENTERTAINMENT', 'https://apkcombo.com']\n"
     ]
    },
    {
     "name": "stderr",
     "output_type": "stream",
     "text": [
      "  1%|          | 8/836 [00:16<25:19,  1.84s/it]"
     ]
    },
    {
     "name": "stdout",
     "output_type": "stream",
     "text": [
      "['cashbook.app.hs', '좋은 가계부', 'FINANCE', 'https://apkcombo.com']\n"
     ]
    },
    {
     "name": "stderr",
     "output_type": "stream",
     "text": [
      "  1%|          | 9/836 [00:18<23:53,  1.73s/it]"
     ]
    },
    {
     "name": "stdout",
     "output_type": "stream",
     "text": [
      "['cc.relive.reliveapp', 'RELIVE', 'HEALTH & FITNESS', 'https://apkcombo.com']\n"
     ]
    },
    {
     "name": "stderr",
     "output_type": "stream",
     "text": [
      "  1%|          | 10/836 [00:19<23:09,  1.68s/it]"
     ]
    },
    {
     "name": "stdout",
     "output_type": "stream",
     "text": [
      "['cc.shoplink.mobile', '윙잇 - 일상을 편하고 맛있게', 'FOOD & DRINK', 'https://apkcombo.com']\n"
     ]
    },
    {
     "name": "stderr",
     "output_type": "stream",
     "text": [
      "  1%|▏         | 11/836 [00:21<22:51,  1.66s/it]"
     ]
    },
    {
     "name": "stdout",
     "output_type": "stream",
     "text": [
      "['ch.coop.supercard', 'COOP SUPERCARD', 'SHOPPING', 'https://apkcombo.com']\n"
     ]
    },
    {
     "name": "stderr",
     "output_type": "stream",
     "text": [
      "  1%|▏         | 12/836 [00:23<23:06,  1.68s/it]"
     ]
    },
    {
     "name": "stdout",
     "output_type": "stream",
     "text": [
      "['ch.eeproperty.vesta', 'EEPROPERTY', 'HOUSE & HOME', 'https://apkcombo.com']\n"
     ]
    },
    {
     "name": "stderr",
     "output_type": "stream",
     "text": [
      "  2%|▏         | 13/836 [00:24<23:32,  1.72s/it]"
     ]
    },
    {
     "name": "stdout",
     "output_type": "stream",
     "text": [
      "['ch.protonvpn.android', 'PROTON VPN', 'TOOLS', 'https://apkcombo.com']\n"
     ]
    },
    {
     "name": "stderr",
     "output_type": "stream",
     "text": [
      "  2%|▏         | 14/836 [00:26<22:33,  1.65s/it]"
     ]
    },
    {
     "name": "stdout",
     "output_type": "stream",
     "text": [
      "['ch.swype', 'SWYPE', 'COMMUNICATION', 'https://apkcombo.com']\n"
     ]
    },
    {
     "name": "stderr",
     "output_type": "stream",
     "text": [
      "  2%|▏         | 15/836 [00:28<22:18,  1.63s/it]"
     ]
    },
    {
     "name": "stdout",
     "output_type": "stream",
     "text": [
      "['cn.danatech.xingseus', 'PICTURETHIS - PLANT IDENTIFIER', 'EDUCATION', 'https://apkcombo.com']\n"
     ]
    },
    {
     "name": "stderr",
     "output_type": "stream",
     "text": [
      "  2%|▏         | 16/836 [00:30<23:39,  1.73s/it]"
     ]
    },
    {
     "name": "stdout",
     "output_type": "stream",
     "text": [
      "['co.benx.weply', 'WEVERSE SHOP', 'SHOPPING', 'https://apkcombo.com']\n"
     ]
    },
    {
     "name": "stderr",
     "output_type": "stream",
     "text": [
      "  2%|▏         | 17/836 [00:31<22:43,  1.67s/it]"
     ]
    },
    {
     "name": "stdout",
     "output_type": "stream",
     "text": [
      "['co.benx.weverse', 'WEVERSE', 'SOCIAL', 'https://apkcombo.com']\n"
     ]
    },
    {
     "name": "stderr",
     "output_type": "stream",
     "text": [
      "  2%|▏         | 18/836 [00:33<22:23,  1.64s/it]"
     ]
    },
    {
     "name": "stdout",
     "output_type": "stream",
     "text": [
      "['co.bird.android', 'BIRD — RIDE ELECTRIC', 'TRAVEL & LOCAL', 'https://apkcombo.com']\n"
     ]
    },
    {
     "name": "stderr",
     "output_type": "stream",
     "text": [
      "  2%|▏         | 19/836 [00:34<22:51,  1.68s/it]"
     ]
    },
    {
     "name": "stdout",
     "output_type": "stream",
     "text": [
      "['co.deering.deer', '디어 DEER', 'TRAVEL & LOCAL', 'https://apkcombo.com']\n"
     ]
    },
    {
     "name": "stderr",
     "output_type": "stream",
     "text": [
      "  2%|▏         | 20/836 [00:36<22:06,  1.63s/it]"
     ]
    },
    {
     "name": "stdout",
     "output_type": "stream",
     "text": [
      "['co.jobis.szs', '삼쩜삼 - 세금 신고/환급 도우미', 'FINANCE', 'https://apkcombo.com']\n"
     ]
    },
    {
     "name": "stderr",
     "output_type": "stream",
     "text": [
      "  3%|▎         | 21/836 [00:37<21:36,  1.59s/it]"
     ]
    },
    {
     "name": "stdout",
     "output_type": "stream",
     "text": [
      "['co.kr.catchtable.android.catchtable_app', '캐치테이블', 'FOOD & DRINK', 'https://apkcombo.com']\n"
     ]
    },
    {
     "name": "stderr",
     "output_type": "stream",
     "text": [
      "  3%|▎         | 22/836 [00:39<21:40,  1.60s/it]"
     ]
    },
    {
     "name": "stdout",
     "output_type": "stream",
     "text": [
      "['co.kr.waldlust.megacoffee', '메가MGC커피 멤버십', 'FOOD & DRINK', 'https://apkcombo.com']\n"
     ]
    },
    {
     "name": "stderr",
     "output_type": "stream",
     "text": [
      "  3%|▎         | 23/836 [00:41<21:57,  1.62s/it]"
     ]
    },
    {
     "name": "stdout",
     "output_type": "stream",
     "text": [
      "['co.reby.app', 'REBY - RIDE AWAY', 'TRAVEL & LOCAL', 'https://apkcombo.com']\n"
     ]
    },
    {
     "name": "stderr",
     "output_type": "stream",
     "text": [
      "  3%|▎         | 24/836 [00:42<22:03,  1.63s/it]"
     ]
    },
    {
     "name": "stdout",
     "output_type": "stream",
     "text": [
      "['co.riiid.vida', 'SANTA - AI TOEIC', 'EDUCATION', 'https://apkcombo.com']\n"
     ]
    },
    {
     "name": "stderr",
     "output_type": "stream",
     "text": [
      "  3%|▎         | 25/836 [00:44<21:56,  1.62s/it]"
     ]
    },
    {
     "name": "stdout",
     "output_type": "stream",
     "text": [
      "['co.uk.fanstudio.traffic3d', 'TRAFFICVILLE 3D', 'SIMULATION', 'https://apkcombo.com']\n"
     ]
    },
    {
     "name": "stderr",
     "output_type": "stream",
     "text": [
      "  3%|▎         | 26/836 [00:48<31:05,  2.30s/it]"
     ]
    },
    {
     "name": "stdout",
     "output_type": "stream",
     "text": [
      "Error\n",
      "['com.agentsoft.s1', None, None, 'https://apkcombo.com']\n"
     ]
    },
    {
     "name": "stderr",
     "output_type": "stream",
     "text": [
      "  3%|▎         | 27/836 [00:54<44:36,  3.31s/it]"
     ]
    },
    {
     "name": "stdout",
     "output_type": "stream",
     "text": [
      "Error\n",
      "['com.b.gamesimulator', None, None, 'https://apkcombo.com']\n"
     ]
    },
    {
     "name": "stderr",
     "output_type": "stream",
     "text": [
      "  3%|▎         | 28/836 [00:57<45:24,  3.37s/it]"
     ]
    },
    {
     "name": "stdout",
     "output_type": "stream",
     "text": [
      "Error\n",
      "['com.exlix.shambles', None, None, 'https://apkcombo.com']\n"
     ]
    },
    {
     "name": "stderr",
     "output_type": "stream",
     "text": [
      "  3%|▎         | 29/836 [00:59<38:09,  2.84s/it]"
     ]
    },
    {
     "name": "stdout",
     "output_type": "stream",
     "text": [
      "['com.f1.shinsg', '신세계백화점', 'LIFESTYLE', 'https://apkcombo.com']\n"
     ]
    },
    {
     "name": "stderr",
     "output_type": "stream",
     "text": [
      "  4%|▎         | 30/836 [01:02<42:13,  3.14s/it]"
     ]
    },
    {
     "name": "stdout",
     "output_type": "stream",
     "text": [
      "Error\n",
      "['com.hirameku.iqdungeon', None, None, 'https://apkcombo.com']\n"
     ]
    },
    {
     "name": "stderr",
     "output_type": "stream",
     "text": [
      "  4%|▎         | 31/836 [01:07<47:15,  3.52s/it]"
     ]
    },
    {
     "name": "stdout",
     "output_type": "stream",
     "text": [
      "Error\n",
      "['com.iiblocks.datadefense', None, None, 'https://apkcombo.com']\n"
     ]
    },
    {
     "name": "stderr",
     "output_type": "stream",
     "text": [
      "  4%|▍         | 32/836 [01:11<48:03,  3.59s/it]"
     ]
    },
    {
     "name": "stdout",
     "output_type": "stream",
     "text": [
      "['com.projectmoon.limbuscompany', 'LIMBUS COMPANY', 'TOOLS', 'https://apkcombo.com']\n"
     ]
    },
    {
     "name": "stderr",
     "output_type": "stream",
     "text": [
      "  4%|▍         | 33/836 [01:12<39:33,  2.96s/it]"
     ]
    },
    {
     "name": "stdout",
     "output_type": "stream",
     "text": [
      "['com.slack', 'ANDROIDINAPPPURCHASE', 'SOCIAL', 'https://apkcombo.com']\n"
     ]
    },
    {
     "name": "stderr",
     "output_type": "stream",
     "text": [
      "  4%|▍         | 34/836 [01:14<34:43,  2.60s/it]"
     ]
    },
    {
     "name": "stdout",
     "output_type": "stream",
     "text": [
      "['com.touchen.mvaccine.webs', '터치엔 엠백신 FOR WEB(기업용)', 'FINANCE', 'https://apkcombo.com']\n"
     ]
    },
    {
     "name": "stderr",
     "output_type": "stream",
     "text": [
      "  4%|▍         | 35/836 [01:15<30:49,  2.31s/it]"
     ]
    },
    {
     "name": "stdout",
     "output_type": "stream",
     "text": [
      "['com.aboutjsp.thedaybefore', 'THEDAYBEFORE (DAYS COUNTDOWN)', 'LIFESTYLE', 'https://apkcombo.com']\n"
     ]
    },
    {
     "name": "stderr",
     "output_type": "stream",
     "text": [
      "  4%|▍         | 36/836 [01:17<27:36,  2.07s/it]"
     ]
    },
    {
     "name": "stdout",
     "output_type": "stream",
     "text": [
      "['com.accuweather.android', 'ACCUWEATHER', 'WEATHER', 'https://apkcombo.com']\n"
     ]
    },
    {
     "name": "stderr",
     "output_type": "stream",
     "text": [
      "  4%|▍         | 37/836 [01:19<28:33,  2.15s/it]"
     ]
    },
    {
     "name": "stdout",
     "output_type": "stream",
     "text": [
      "['com.acelifestyle.user.acepiano', 'ACE PIANO', 'MUSIC & AUDIO', 'https://apkcombo.com']\n"
     ]
    },
    {
     "name": "stderr",
     "output_type": "stream",
     "text": [
      "  5%|▍         | 38/836 [01:21<27:13,  2.05s/it]"
     ]
    },
    {
     "name": "stdout",
     "output_type": "stream",
     "text": [
      "['com.adobe.lrmobile', 'LIGHTROOM', 'PHOTOGRAPHY', 'https://apkcombo.com']\n"
     ]
    },
    {
     "name": "stderr",
     "output_type": "stream",
     "text": [
      "  5%|▍         | 39/836 [01:23<27:36,  2.08s/it]"
     ]
    },
    {
     "name": "stdout",
     "output_type": "stream",
     "text": [
      "['com.adobe.reader', 'ADOBE ACROBAT READER', 'PRODUCTIVITY', 'https://apkcombo.com']\n"
     ]
    },
    {
     "name": "stderr",
     "output_type": "stream",
     "text": [
      "  5%|▍         | 40/836 [01:26<28:14,  2.13s/it]"
     ]
    },
    {
     "name": "stdout",
     "output_type": "stream",
     "text": [
      "['com.adobe.scan.android', 'ADOBE SCAN', 'BUSINESS', 'https://apkcombo.com']\n"
     ]
    },
    {
     "name": "stderr",
     "output_type": "stream",
     "text": [
      "  5%|▍         | 41/836 [01:28<29:24,  2.22s/it]"
     ]
    },
    {
     "name": "stdout",
     "output_type": "stream",
     "text": [
      "['com.adrock.driverlicense300', '운전면허 PLUS - 운전면허필기시험 (2024최신판)', 'EDUCATION', 'https://apkcombo.com']\n"
     ]
    },
    {
     "name": "stderr",
     "output_type": "stream",
     "text": [
      "  5%|▌         | 42/836 [01:30<30:10,  2.28s/it]"
     ]
    },
    {
     "name": "stdout",
     "output_type": "stream",
     "text": [
      "['com.agoda.mobile.consumer', 'AGODA: CHEAP FLIGHTS & HOTELS', 'TRAVEL & LOCAL', 'https://apkcombo.com']\n"
     ]
    },
    {
     "name": "stderr",
     "output_type": "stream",
     "text": [
      "  5%|▌         | 43/836 [01:33<29:47,  2.25s/it]"
     ]
    },
    {
     "name": "stdout",
     "output_type": "stream",
     "text": [
      "['com.ahnlab.v3mobileplus', 'V3 MOBILE PLUS', 'TOOLS', 'https://apkcombo.com']\n"
     ]
    },
    {
     "name": "stderr",
     "output_type": "stream",
     "text": [
      "  5%|▌         | 44/836 [01:34<26:25,  2.00s/it]"
     ]
    },
    {
     "name": "stdout",
     "output_type": "stream",
     "text": [
      "Error\n",
      "['com.airbnb.android', None, None, 'https://apkcombo.com']\n"
     ]
    },
    {
     "name": "stderr",
     "output_type": "stream",
     "text": [
      "  5%|▌         | 45/836 [01:36<27:19,  2.07s/it]"
     ]
    },
    {
     "name": "stdout",
     "output_type": "stream",
     "text": [
      "['com.aircuve.aircuvemobile', 'AIRCUVE MOBILE', 'TOOLS', 'https://apkcombo.com']\n"
     ]
    },
    {
     "name": "stderr",
     "output_type": "stream",
     "text": [
      "  6%|▌         | 46/836 [01:39<28:06,  2.13s/it]"
     ]
    },
    {
     "name": "stdout",
     "output_type": "stream",
     "text": [
      "['com.akbobada.mobile', '악보바다', 'MUSIC & AUDIO', 'https://apkcombo.com']\n"
     ]
    },
    {
     "name": "stderr",
     "output_type": "stream",
     "text": [
      "  6%|▌         | 47/836 [01:41<29:35,  2.25s/it]"
     ]
    },
    {
     "name": "stdout",
     "output_type": "stream",
     "text": [
      "['com.albamon.app', '알바몬 앱 - 알바 채용 구인구직 취업정보검색', 'BUSINESS', 'https://apkcombo.com']\n"
     ]
    },
    {
     "name": "stderr",
     "output_type": "stream",
     "text": [
      "  6%|▌         | 48/836 [01:43<28:21,  2.16s/it]"
     ]
    },
    {
     "name": "stdout",
     "output_type": "stream",
     "text": [
      "['com.allabout.katok', '만능톡 - 삭제된 메시지 보기, 자동응답기', 'DATING', 'https://apkcombo.com']\n"
     ]
    },
    {
     "name": "stderr",
     "output_type": "stream",
     "text": [
      "  6%|▌         | 49/836 [01:46<30:25,  2.32s/it]"
     ]
    },
    {
     "name": "stdout",
     "output_type": "stream",
     "text": [
      "['com.alldocument.allfile.office.editor', 'DOCUMENT READER: PDF, WORD DOC', 'PRODUCTIVITY', 'https://apkcombo.com']\n"
     ]
    },
    {
     "name": "stderr",
     "output_type": "stream",
     "text": [
      "  6%|▌         | 50/836 [01:48<28:50,  2.20s/it]"
     ]
    },
    {
     "name": "stdout",
     "output_type": "stream",
     "text": [
      "['com.amazon.mshop.android.shopping', 'AMAZON SHOPPING', 'SHOPPING', 'https://apkcombo.com']\n"
     ]
    },
    {
     "name": "stderr",
     "output_type": "stream",
     "text": [
      "  6%|▌         | 51/836 [01:50<29:23,  2.25s/it]"
     ]
    },
    {
     "name": "stdout",
     "output_type": "stream",
     "text": [
      "['com.anchoreer.jasoseol', '자소설닷컴 - 채용공고 취업정보 자소서문항 제공 취준', 'BUSINESS', 'https://apkcombo.com']\n"
     ]
    },
    {
     "name": "stderr",
     "output_type": "stream",
     "text": [
      "  6%|▌         | 52/836 [01:55<40:39,  3.11s/it]"
     ]
    },
    {
     "name": "stdout",
     "output_type": "stream",
     "text": [
      "['com.android.bluetooth', 'BLUETOOTH SHARE', 'TOOLS', 'https://apkcombo.com']\n"
     ]
    },
    {
     "name": "stderr",
     "output_type": "stream",
     "text": [
      "  6%|▋         | 53/836 [02:00<46:14,  3.54s/it]"
     ]
    },
    {
     "name": "stdout",
     "output_type": "stream",
     "text": [
      "['com.android.calendar', 'MI CALENDAR', 'TOOLS', 'https://apkcombo.com']\n"
     ]
    },
    {
     "name": "stderr",
     "output_type": "stream",
     "text": [
      "  6%|▋         | 54/836 [02:02<42:18,  3.25s/it]"
     ]
    },
    {
     "name": "stdout",
     "output_type": "stream",
     "text": [
      "['com.android.captiveportallogin', 'CAPTIVEPORTALLOGIN', 'TOOLS', 'https://apkcombo.com']\n"
     ]
    },
    {
     "name": "stderr",
     "output_type": "stream",
     "text": [
      "  7%|▋         | 55/836 [02:06<43:13,  3.32s/it]"
     ]
    },
    {
     "name": "stdout",
     "output_type": "stream",
     "text": [
      "['com.android.cellbroadcastreceiver', 'EMERGENCY ALERTS', 'TOOLS', 'https://apkcombo.com']\n"
     ]
    },
    {
     "name": "stderr",
     "output_type": "stream",
     "text": [
      "  7%|▋         | 56/836 [02:08<38:10,  2.94s/it]"
     ]
    },
    {
     "name": "stdout",
     "output_type": "stream",
     "text": [
      "['com.android.chrome', 'CHROME', 'COMMUNICATION', 'https://apkcombo.com']\n"
     ]
    },
    {
     "name": "stderr",
     "output_type": "stream",
     "text": [
      "  7%|▋         | 57/836 [02:09<33:30,  2.58s/it]"
     ]
    },
    {
     "name": "stdout",
     "output_type": "stream",
     "text": [
      "['com.android.companiondevicemanager', 'COMPANION DEVICE MANAGER', 'TOOLS', 'https://apkcombo.com']\n"
     ]
    },
    {
     "name": "stderr",
     "output_type": "stream",
     "text": [
      "  7%|▋         | 58/836 [02:14<42:28,  3.28s/it]"
     ]
    },
    {
     "name": "stdout",
     "output_type": "stream",
     "text": [
      "['com.android.contacts', 'XIAOMI CONTACTS AND DIALER', 'TOOLS', 'https://apkcombo.com']\n"
     ]
    },
    {
     "name": "stderr",
     "output_type": "stream",
     "text": [
      "  7%|▋         | 59/836 [02:16<36:54,  2.85s/it]"
     ]
    },
    {
     "name": "stdout",
     "output_type": "stream",
     "text": [
      "['com.android.documentsui', 'FILES', 'TOOLS', 'https://apkcombo.com']\n"
     ]
    },
    {
     "name": "stderr",
     "output_type": "stream",
     "text": [
      "  7%|▋         | 60/836 [02:18<34:16,  2.65s/it]"
     ]
    },
    {
     "name": "stdout",
     "output_type": "stream",
     "text": [
      "['com.android.gallery3d', 'LG GALLERY', 'TOOLS', 'https://apkcombo.com']\n"
     ]
    },
    {
     "name": "stderr",
     "output_type": "stream",
     "text": [
      "  7%|▋         | 61/836 [02:20<31:22,  2.43s/it]"
     ]
    },
    {
     "name": "stdout",
     "output_type": "stream",
     "text": [
      "['com.android.htmlviewer', 'HTML VIEWER', 'TOOLS', 'https://apkcombo.com']\n"
     ]
    },
    {
     "name": "stderr",
     "output_type": "stream",
     "text": [
      "  7%|▋         | 62/836 [02:22<29:45,  2.31s/it]"
     ]
    },
    {
     "name": "stdout",
     "output_type": "stream",
     "text": [
      "['com.android.incallui', 'HTC PHONE', 'TOOLS', 'https://apkcombo.com']\n"
     ]
    },
    {
     "name": "stderr",
     "output_type": "stream",
     "text": [
      "  8%|▊         | 63/836 [02:24<28:10,  2.19s/it]"
     ]
    },
    {
     "name": "stdout",
     "output_type": "stream",
     "text": [
      "['com.android.mms', 'MIUI MESSAGING', 'TOOLS', 'https://apkcombo.com']\n"
     ]
    },
    {
     "name": "stderr",
     "output_type": "stream",
     "text": [
      "  8%|▊         | 64/836 [02:26<27:16,  2.12s/it]"
     ]
    },
    {
     "name": "stdout",
     "output_type": "stream",
     "text": [
      "['com.android.nfc', 'NFC SERVICE', 'TOOLS', 'https://apkcombo.com']\n"
     ]
    },
    {
     "name": "stderr",
     "output_type": "stream",
     "text": [
      "  8%|▊         | 65/836 [02:28<27:13,  2.12s/it]"
     ]
    },
    {
     "name": "stdout",
     "output_type": "stream",
     "text": [
      "['com.android.printspooler', 'PRINT SPOOLER', 'TOOLS', 'https://apkcombo.com']\n"
     ]
    },
    {
     "name": "stderr",
     "output_type": "stream",
     "text": [
      "  8%|▊         | 66/836 [02:31<27:45,  2.16s/it]"
     ]
    },
    {
     "name": "stdout",
     "output_type": "stream",
     "text": [
      "['com.android.samsung.utilityapp', 'SAMSUNG GALAXY LABS', 'TOOLS', 'https://apkcombo.com']\n"
     ]
    },
    {
     "name": "stderr",
     "output_type": "stream",
     "text": [
      "  8%|▊         | 67/836 [02:35<37:53,  2.96s/it]"
     ]
    },
    {
     "name": "stdout",
     "output_type": "stream",
     "text": [
      "['com.android.server.telecom', 'PHONE CALL MANAGEMENT', 'TOOLS', 'https://apkcombo.com']\n"
     ]
    },
    {
     "name": "stderr",
     "output_type": "stream",
     "text": [
      "  8%|▊         | 68/836 [02:37<33:08,  2.59s/it]"
     ]
    },
    {
     "name": "stdout",
     "output_type": "stream",
     "text": [
      "['com.android.settings', 'SETTINGS', 'TOOLS', 'https://apkcombo.com']\n"
     ]
    },
    {
     "name": "stderr",
     "output_type": "stream",
     "text": [
      "  8%|▊         | 69/836 [02:41<39:36,  3.10s/it]"
     ]
    },
    {
     "name": "stdout",
     "output_type": "stream",
     "text": [
      "['com.android.settings.intelligence', 'SETTINGS SUGGESTIONS', 'TOOLS', 'https://apkcombo.com']\n"
     ]
    },
    {
     "name": "stderr",
     "output_type": "stream",
     "text": [
      "  8%|▊         | 70/836 [02:44<36:01,  2.82s/it]"
     ]
    },
    {
     "name": "stdout",
     "output_type": "stream",
     "text": [
      "['com.android.stk', 'SIM TOOLKIT', 'TOOLS', 'https://apkcombo.com']\n"
     ]
    },
    {
     "name": "stderr",
     "output_type": "stream",
     "text": [
      "  8%|▊         | 71/836 [02:45<32:13,  2.53s/it]"
     ]
    },
    {
     "name": "stdout",
     "output_type": "stream",
     "text": [
      "['com.android.systemui', 'SYSTEM UI', 'TOOLS', 'https://apkcombo.com']\n"
     ]
    },
    {
     "name": "stderr",
     "output_type": "stream",
     "text": [
      "  9%|▊         | 72/836 [02:47<29:26,  2.31s/it]"
     ]
    },
    {
     "name": "stdout",
     "output_type": "stream",
     "text": [
      "['com.android.vending', 'GOOGLE PLAY STORE', 'TOOLS', 'https://apkcombo.com']\n"
     ]
    },
    {
     "name": "stderr",
     "output_type": "stream",
     "text": [
      "  9%|▊         | 73/836 [02:49<27:34,  2.17s/it]"
     ]
    },
    {
     "name": "stdout",
     "output_type": "stream",
     "text": [
      "['com.android.vpndialogs', 'VPNDIALOGS', 'TOOLS', 'https://apkcombo.com']\n"
     ]
    },
    {
     "name": "stderr",
     "output_type": "stream",
     "text": [
      "  9%|▉         | 74/836 [02:51<27:02,  2.13s/it]"
     ]
    },
    {
     "name": "stdout",
     "output_type": "stream",
     "text": [
      "['com.android.wifi.dialog', 'COM.ANDROID.WIFI.DIALOG', 'TOOLS', 'https://apkcombo.com']\n"
     ]
    },
    {
     "name": "stderr",
     "output_type": "stream",
     "text": [
      "  9%|▉         | 75/836 [02:53<27:32,  2.17s/it]"
     ]
    },
    {
     "name": "stdout",
     "output_type": "stream",
     "text": [
      "['com.ant.anat', 'ANT', 'SHOPPING', 'https://apkcombo.com']\n"
     ]
    },
    {
     "name": "stderr",
     "output_type": "stream",
     "text": [
      "  9%|▉         | 76/836 [02:56<27:43,  2.19s/it]"
     ]
    },
    {
     "name": "stdout",
     "output_type": "stream",
     "text": [
      "['com.artifyapp.timestamp', 'TIMESTAMP CAMERA', 'PHOTOGRAPHY', 'https://apkcombo.com']\n"
     ]
    },
    {
     "name": "stderr",
     "output_type": "stream",
     "text": [
      "  9%|▉         | 77/836 [02:58<26:50,  2.12s/it]"
     ]
    },
    {
     "name": "stdout",
     "output_type": "stream",
     "text": [
      "['com.astroframe.seoulbus', 'KAKAOBUS', 'MAPS & NAVIGATION', 'https://apkcombo.com']\n"
     ]
    },
    {
     "name": "stderr",
     "output_type": "stream",
     "text": [
      "  9%|▉         | 78/836 [03:00<29:37,  2.35s/it]"
     ]
    },
    {
     "name": "stdout",
     "output_type": "stream",
     "text": [
      "['com.avast.android.mobilesecurity', 'AVAST', 'TOOLS', 'https://apkcombo.com']\n"
     ]
    },
    {
     "name": "stderr",
     "output_type": "stream",
     "text": [
      "  9%|▉         | 79/836 [03:02<28:24,  2.25s/it]"
     ]
    },
    {
     "name": "stdout",
     "output_type": "stream",
     "text": [
      "['com.azure.authenticator', 'MICROSOFT AUTHENTICATOR', 'BUSINESS', 'https://apkcombo.com']\n"
     ]
    },
    {
     "name": "stderr",
     "output_type": "stream",
     "text": [
      " 10%|▉         | 80/836 [03:04<27:12,  2.16s/it]"
     ]
    },
    {
     "name": "stdout",
     "output_type": "stream",
     "text": [
      "['com.banhala.android', '에이블리 - 4천만의 AI 쇼핑메이트', 'SHOPPING', 'https://apkcombo.com']\n"
     ]
    },
    {
     "name": "stderr",
     "output_type": "stream",
     "text": [
      " 10%|▉         | 81/836 [03:09<37:17,  2.96s/it]"
     ]
    },
    {
     "name": "stdout",
     "output_type": "stream",
     "text": [
      "['com.banilaco', '바닐라닷컴', 'SHOPPING', 'https://apkcombo.com']\n"
     ]
    },
    {
     "name": "stderr",
     "output_type": "stream",
     "text": [
      " 10%|▉         | 82/836 [03:14<42:36,  3.39s/it]"
     ]
    },
    {
     "name": "stdout",
     "output_type": "stream",
     "text": [
      "['com.bbq.chicken202001', 'BBQ치킨', 'FOOD & DRINK', 'https://apkcombo.com']\n"
     ]
    },
    {
     "name": "stderr",
     "output_type": "stream",
     "text": [
      " 10%|▉         | 83/836 [03:16<38:12,  3.04s/it]"
     ]
    },
    {
     "name": "stdout",
     "output_type": "stream",
     "text": [
      "['com.bereal.ft', 'BEREAL', 'SOCIAL', 'https://apkcombo.com']\n"
     ]
    },
    {
     "name": "stderr",
     "output_type": "stream",
     "text": [
      " 10%|█         | 84/836 [03:18<34:12,  2.73s/it]"
     ]
    },
    {
     "name": "stdout",
     "output_type": "stream",
     "text": [
      "['com.bgfcu.membership', '포켓CU', 'LIFESTYLE', 'https://apkcombo.com']\n"
     ]
    },
    {
     "name": "stderr",
     "output_type": "stream",
     "text": [
      " 10%|█         | 85/836 [03:20<33:15,  2.66s/it]"
     ]
    },
    {
     "name": "stdout",
     "output_type": "stream",
     "text": [
      "['com.binance.dev', 'BINANCE', 'FINANCE', 'https://apkcombo.com']\n"
     ]
    },
    {
     "name": "stderr",
     "output_type": "stream",
     "text": [
      " 10%|█         | 86/836 [03:24<37:53,  3.03s/it]"
     ]
    },
    {
     "name": "stdout",
     "output_type": "stream",
     "text": [
      "['com.bitsmedia.android.muslimpro', 'MUSLIM PRO', 'LIFESTYLE', 'https://apkcombo.com']\n"
     ]
    },
    {
     "name": "stderr",
     "output_type": "stream",
     "text": [
      " 10%|█         | 87/836 [03:27<35:25,  2.84s/it]"
     ]
    },
    {
     "name": "stdout",
     "output_type": "stream",
     "text": [
      "['com.blackout', 'BLACKOUT: STAY FOCUSED', 'PRODUCTIVITY', 'https://apkcombo.com']\n"
     ]
    },
    {
     "name": "stderr",
     "output_type": "stream",
     "text": [
      " 11%|█         | 88/836 [03:29<32:50,  2.63s/it]"
     ]
    },
    {
     "name": "stdout",
     "output_type": "stream",
     "text": [
      "['com.blizzard.messenger', 'BATTLE.NET', 'ENTERTAINMENT', 'https://apkcombo.com']\n"
     ]
    },
    {
     "name": "stderr",
     "output_type": "stream",
     "text": [
      " 11%|█         | 89/836 [03:32<36:16,  2.91s/it]"
     ]
    },
    {
     "name": "stdout",
     "output_type": "stream",
     "text": [
      "['com.blizzard.wtcg.hearthstone', 'HEARTHSTONE', 'CARD', 'https://apkcombo.com']\n"
     ]
    },
    {
     "name": "stderr",
     "output_type": "stream",
     "text": [
      " 11%|█         | 90/836 [03:35<34:49,  2.80s/it]"
     ]
    },
    {
     "name": "stdout",
     "output_type": "stream",
     "text": [
      "['com.booking', 'BOOKING.COM', 'TRAVEL & LOCAL', 'https://apkcombo.com']\n"
     ]
    },
    {
     "name": "stderr",
     "output_type": "stream",
     "text": [
      " 11%|█         | 91/836 [03:37<32:33,  2.62s/it]"
     ]
    },
    {
     "name": "stdout",
     "output_type": "stream",
     "text": [
      "['com.bose.monet', 'BOSE CONNECT', 'MUSIC & AUDIO', 'https://apkcombo.com']\n"
     ]
    },
    {
     "name": "stderr",
     "output_type": "stream",
     "text": [
      " 11%|█         | 92/836 [03:40<32:48,  2.65s/it]"
     ]
    },
    {
     "name": "stdout",
     "output_type": "stream",
     "text": [
      "['com.brandicorp.brandi3', '브랜디 - 인기 쇼핑몰을 한곳에', 'SHOPPING', 'https://apkcombo.com']\n"
     ]
    },
    {
     "name": "stderr",
     "output_type": "stream",
     "text": [
      " 11%|█         | 93/836 [03:42<30:33,  2.47s/it]"
     ]
    },
    {
     "name": "stdout",
     "output_type": "stream",
     "text": [
      "['com.cafe24.ec.pluscostume1', 'COSTUMEOCLOCK', 'SHOPPING', 'https://apkcombo.com']\n"
     ]
    },
    {
     "name": "stderr",
     "output_type": "stream",
     "text": [
      " 11%|█         | 94/836 [03:44<30:14,  2.45s/it]"
     ]
    },
    {
     "name": "stdout",
     "output_type": "stream",
     "text": [
      "['com.cafe24.ec.plusguessunderwear', 'GUESSUNDERWEAR', 'SHOPPING', 'https://apkcombo.com']\n"
     ]
    },
    {
     "name": "stderr",
     "output_type": "stream",
     "text": [
      " 11%|█▏        | 95/836 [03:46<28:53,  2.34s/it]"
     ]
    },
    {
     "name": "stdout",
     "output_type": "stream",
     "text": [
      "['com.cafe24.ec.plusmedicube0', 'MEDICUBE', 'SHOPPING', 'https://apkcombo.com']\n"
     ]
    },
    {
     "name": "stderr",
     "output_type": "stream",
     "text": [
      " 11%|█▏        | 96/836 [03:49<29:45,  2.41s/it]"
     ]
    },
    {
     "name": "stdout",
     "output_type": "stream",
     "text": [
      "['com.cafe24.ec.plusmixxo', 'MIXXO', 'SHOPPING', 'https://apkcombo.com']\n"
     ]
    },
    {
     "name": "stderr",
     "output_type": "stream",
     "text": [
      " 12%|█▏        | 97/836 [03:51<29:33,  2.40s/it]"
     ]
    },
    {
     "name": "stdout",
     "output_type": "stream",
     "text": [
      "['com.cafe24.ec.plusroemkr', 'ROEM', 'SHOPPING', 'https://apkcombo.com']\n"
     ]
    },
    {
     "name": "stderr",
     "output_type": "stream",
     "text": [
      " 12%|█▏        | 98/836 [03:53<28:01,  2.28s/it]"
     ]
    },
    {
     "name": "stdout",
     "output_type": "stream",
     "text": [
      "['com.campmobile.snow', 'SNOW', 'PHOTOGRAPHY', 'https://apkcombo.com']\n"
     ]
    },
    {
     "name": "stderr",
     "output_type": "stream",
     "text": [
      " 12%|█▏        | 99/836 [03:56<28:25,  2.31s/it]"
     ]
    },
    {
     "name": "stdout",
     "output_type": "stream",
     "text": [
      "['com.carrotins.www', '캐롯손해보험', 'FINANCE', 'https://apkcombo.com']\n"
     ]
    },
    {
     "name": "stderr",
     "output_type": "stream",
     "text": [
      " 12%|█▏        | 100/836 [03:58<28:49,  2.35s/it]"
     ]
    },
    {
     "name": "stdout",
     "output_type": "stream",
     "text": [
      "['com.cashwalk.cashwalk', '캐시워크 - 적립형 만보기 첫화면', 'HEALTH & FITNESS', 'https://apkcombo.com']\n"
     ]
    },
    {
     "name": "stderr",
     "output_type": "stream",
     "text": [
      " 12%|█▏        | 101/836 [04:02<34:23,  2.81s/it]"
     ]
    },
    {
     "name": "stdout",
     "output_type": "stream",
     "text": [
      "Error\n",
      "['com.causalvis.esm', None, None, 'https://apkcombo.com']\n"
     ]
    },
    {
     "name": "stderr",
     "output_type": "stream",
     "text": [
      " 12%|█▏        | 102/836 [04:04<32:41,  2.67s/it]"
     ]
    },
    {
     "name": "stdout",
     "output_type": "stream",
     "text": [
      "['com.cgv.android.movieapp', 'CGV', 'ENTERTAINMENT', 'https://apkcombo.com']\n"
     ]
    },
    {
     "name": "stderr",
     "output_type": "stream",
     "text": [
      " 12%|█▏        | 103/836 [04:06<30:03,  2.46s/it]"
     ]
    },
    {
     "name": "stdout",
     "output_type": "stream",
     "text": [
      "['com.chbreeze.jikbang4a', 'ZIGBANG', 'HOUSE & HOME', 'https://apkcombo.com']\n"
     ]
    },
    {
     "name": "stderr",
     "output_type": "stream",
     "text": [
      " 12%|█▏        | 104/836 [04:08<26:33,  2.18s/it]"
     ]
    },
    {
     "name": "stdout",
     "output_type": "stream",
     "text": [
      "Error\n",
      "['com.chegg', None, None, 'https://apkcombo.com']\n"
     ]
    },
    {
     "name": "stderr",
     "output_type": "stream",
     "text": [
      " 13%|█▎        | 105/836 [04:10<27:39,  2.27s/it]"
     ]
    },
    {
     "name": "stdout",
     "output_type": "stream",
     "text": [
      "['com.chngas.hpage', 'CNCITY에너지 모바일 앱', 'LIFESTYLE', 'https://apkcombo.com']\n"
     ]
    },
    {
     "name": "stderr",
     "output_type": "stream",
     "text": [
      " 13%|█▎        | 106/836 [04:15<37:55,  3.12s/it]"
     ]
    },
    {
     "name": "stdout",
     "output_type": "stream",
     "text": [
      "['com.cider', 'CIDER', 'SHOPPING', 'https://apkcombo.com']\n"
     ]
    },
    {
     "name": "stderr",
     "output_type": "stream",
     "text": [
      " 13%|█▎        | 107/836 [04:18<34:52,  2.87s/it]"
     ]
    },
    {
     "name": "stdout",
     "output_type": "stream",
     "text": [
      "['com.cj.twosome', '투썸하트', 'LIFESTYLE', 'https://apkcombo.com']\n"
     ]
    },
    {
     "name": "stderr",
     "output_type": "stream",
     "text": [
      " 13%|█▎        | 108/836 [04:20<33:20,  2.75s/it]"
     ]
    },
    {
     "name": "stdout",
     "output_type": "stream",
     "text": [
      "['com.cjkoreaexpress', 'CJ대한통운 택배', 'LIFESTYLE', 'https://apkcombo.com']\n"
     ]
    },
    {
     "name": "stderr",
     "output_type": "stream",
     "text": [
      " 13%|█▎        | 109/836 [04:23<34:19,  2.83s/it]"
     ]
    },
    {
     "name": "stdout",
     "output_type": "stream",
     "text": [
      "['com.classumreactnativeapp.android', 'CLASSUM', 'COMMUNICATION', 'https://apkcombo.com']\n"
     ]
    },
    {
     "name": "stderr",
     "output_type": "stream",
     "text": [
      " 13%|█▎        | 110/836 [04:25<32:10,  2.66s/it]"
     ]
    },
    {
     "name": "stdout",
     "output_type": "stream",
     "text": [
      "['com.cloudflare.onedotonedotonedotone', '1.1.1.1 VPN', 'TOOLS', 'https://apkcombo.com']\n"
     ]
    },
    {
     "name": "stderr",
     "output_type": "stream",
     "text": [
      " 13%|█▎        | 111/836 [04:28<32:35,  2.70s/it]"
     ]
    },
    {
     "name": "stdout",
     "output_type": "stream",
     "text": [
      "['com.cloudmosa.puffinfree', 'PUFFIN', 'TOOLS', 'https://apkcombo.com']\n"
     ]
    },
    {
     "name": "stderr",
     "output_type": "stream",
     "text": [
      " 13%|█▎        | 112/836 [04:30<30:15,  2.51s/it]"
     ]
    },
    {
     "name": "stdout",
     "output_type": "stream",
     "text": [
      "['com.co.swing', 'SWING, YOUR SMART WING', 'TRAVEL & LOCAL', 'https://apkcombo.com']\n"
     ]
    },
    {
     "name": "stderr",
     "output_type": "stream",
     "text": [
      " 14%|█▎        | 113/836 [04:33<29:44,  2.47s/it]"
     ]
    },
    {
     "name": "stdout",
     "output_type": "stream",
     "text": [
      "['com.coden.android.ebs', 'EBSI 고교강의', 'EDUCATION', 'https://apkcombo.com']\n"
     ]
    },
    {
     "name": "stderr",
     "output_type": "stream",
     "text": [
      " 14%|█▎        | 114/836 [04:35<27:54,  2.32s/it]"
     ]
    },
    {
     "name": "stdout",
     "output_type": "stream",
     "text": [
      "['com.com2us.probaseball3d.normal.freefull.google.global.android.common', '컴투스프로야구2024', 'SPORTS', 'https://apkcombo.com']\n"
     ]
    },
    {
     "name": "stderr",
     "output_type": "stream",
     "text": [
      " 14%|█▍        | 115/836 [04:40<37:39,  3.13s/it]"
     ]
    },
    {
     "name": "stdout",
     "output_type": "stream",
     "text": [
      "['com.comikin.reader2', 'MANGA READER - MANGA APP', 'ENTERTAINMENT', 'https://apkcombo.com']\n"
     ]
    },
    {
     "name": "stderr",
     "output_type": "stream",
     "text": [
      " 14%|█▍        | 116/836 [04:42<34:10,  2.85s/it]"
     ]
    },
    {
     "name": "stdout",
     "output_type": "stream",
     "text": [
      "['com.commonunique.byapps', 'COMMONUNIQUE', 'SHOPPING', 'https://apkcombo.com']\n"
     ]
    },
    {
     "name": "stderr",
     "output_type": "stream",
     "text": [
      " 14%|█▍        | 117/836 [04:45<34:07,  2.85s/it]"
     ]
    },
    {
     "name": "stdout",
     "output_type": "stream",
     "text": [
      "['com.consideredhamster.yetanotherpixeldungeon', 'YET ANOTHER PIXEL DUNGEON', 'ROLE PLAYING', 'https://apkcombo.com']\n"
     ]
    },
    {
     "name": "stderr",
     "output_type": "stream",
     "text": [
      " 14%|█▍        | 118/836 [04:46<28:40,  2.40s/it]"
     ]
    },
    {
     "name": "stdout",
     "output_type": "stream",
     "text": [
      "Error\n",
      "['com.coupang.mobile', None, None, 'https://apkcombo.com']\n"
     ]
    },
    {
     "name": "stderr",
     "output_type": "stream",
     "text": [
      " 14%|█▍        | 119/836 [04:48<25:35,  2.14s/it]"
     ]
    },
    {
     "name": "stdout",
     "output_type": "stream",
     "text": [
      "Error\n",
      "['com.coupang.mobile.eats', None, None, 'https://apkcombo.com']\n"
     ]
    },
    {
     "name": "stderr",
     "output_type": "stream",
     "text": [
      " 14%|█▍        | 120/836 [04:49<23:38,  1.98s/it]"
     ]
    },
    {
     "name": "stdout",
     "output_type": "stream",
     "text": [
      "Error\n",
      "['com.coupang.mobile.play', None, None, 'https://apkcombo.com']\n"
     ]
    },
    {
     "name": "stderr",
     "output_type": "stream",
     "text": [
      " 14%|█▍        | 121/836 [04:51<24:09,  2.03s/it]"
     ]
    },
    {
     "name": "stdout",
     "output_type": "stream",
     "text": [
      "['com.croquis.zigzag', 'ZIGZAG', 'SHOPPING', 'https://apkcombo.com']\n"
     ]
    },
    {
     "name": "stderr",
     "output_type": "stream",
     "text": [
      " 15%|█▍        | 122/836 [04:54<24:27,  2.06s/it]"
     ]
    },
    {
     "name": "stdout",
     "output_type": "stream",
     "text": [
      "['com.cultsotry.yanolja.nativeapp', '야놀자', 'TRAVEL & LOCAL', 'https://apkcombo.com']\n"
     ]
    },
    {
     "name": "stderr",
     "output_type": "stream",
     "text": [
      " 15%|█▍        | 123/836 [04:56<25:01,  2.11s/it]"
     ]
    },
    {
     "name": "stdout",
     "output_type": "stream",
     "text": [
      "['com.cultureland.ver2', '컬쳐랜드[컬쳐캐쉬]', 'LIFESTYLE', 'https://apkcombo.com']\n"
     ]
    },
    {
     "name": "stderr",
     "output_type": "stream",
     "text": [
      " 15%|█▍        | 124/836 [04:58<25:12,  2.12s/it]"
     ]
    },
    {
     "name": "stdout",
     "output_type": "stream",
     "text": [
      "['com.cvsnet.app.mobile.android.postbox', 'GS25편의점택배', 'LIFESTYLE', 'https://apkcombo.com']\n"
     ]
    },
    {
     "name": "stderr",
     "output_type": "stream",
     "text": [
      " 15%|█▍        | 125/836 [05:00<25:59,  2.19s/it]"
     ]
    },
    {
     "name": "stdout",
     "output_type": "stream",
     "text": [
      "['com.cxinventor.file.explorer', 'CX FILE EXPLORER', 'TOOLS', 'https://apkcombo.com']\n"
     ]
    },
    {
     "name": "stderr",
     "output_type": "stream",
     "text": [
      " 15%|█▌        | 126/836 [05:02<25:15,  2.13s/it]"
     ]
    },
    {
     "name": "stdout",
     "output_type": "stream",
     "text": [
      "['com.cyworld.camera', 'CYMERA', 'PHOTOGRAPHY', 'https://apkcombo.com']\n"
     ]
    },
    {
     "name": "stderr",
     "output_type": "stream",
     "text": [
      " 15%|█▌        | 127/836 [05:04<25:00,  2.12s/it]"
     ]
    },
    {
     "name": "stdout",
     "output_type": "stream",
     "text": [
      "['com.cyworld.minihompy', '싸이월드 CYWORLD', 'SOCIAL', 'https://apkcombo.com']\n"
     ]
    },
    {
     "name": "stderr",
     "output_type": "stream",
     "text": [
      " 15%|█▌        | 128/836 [05:06<24:23,  2.07s/it]"
     ]
    },
    {
     "name": "stdout",
     "output_type": "stream",
     "text": [
      "['com.daishin', '대신증권 CYBOS TOUCH', 'FINANCE', 'https://apkcombo.com']\n"
     ]
    },
    {
     "name": "stderr",
     "output_type": "stream",
     "text": [
      " 15%|█▌        | 129/836 [05:08<23:44,  2.01s/it]"
     ]
    },
    {
     "name": "stdout",
     "output_type": "stream",
     "text": [
      "['com.dalcomsoft.ssyg', 'SUPERSTAR YG', 'MUSIC', 'https://apkcombo.com']\n"
     ]
    },
    {
     "name": "stderr",
     "output_type": "stream",
     "text": [
      " 16%|█▌        | 130/836 [05:10<24:03,  2.04s/it]"
     ]
    },
    {
     "name": "stdout",
     "output_type": "stream",
     "text": [
      "['com.danawa.estimate', '다나와 PC견적', 'SHOPPING', 'https://apkcombo.com']\n"
     ]
    },
    {
     "name": "stderr",
     "output_type": "stream",
     "text": [
      " 16%|█▌        | 131/836 [05:12<23:57,  2.04s/it]"
     ]
    },
    {
     "name": "stdout",
     "output_type": "stream",
     "text": [
      "['com.dbs.kurly.m2', '컬리 - 마켓컬리, 뷰티컬리', 'FOOD & DRINK', 'https://apkcombo.com']\n"
     ]
    },
    {
     "name": "stderr",
     "output_type": "stream",
     "text": [
      " 16%|█▌        | 132/836 [05:15<25:56,  2.21s/it]"
     ]
    },
    {
     "name": "stdout",
     "output_type": "stream",
     "text": [
      "['com.dearu.bubble.jellyfish', 'BUBBLE FOR JELLYFISH', 'SOCIAL', 'https://apkcombo.com']\n"
     ]
    },
    {
     "name": "stderr",
     "output_type": "stream",
     "text": [
      " 16%|█▌        | 133/836 [05:17<26:59,  2.30s/it]"
     ]
    },
    {
     "name": "stdout",
     "output_type": "stream",
     "text": [
      "['com.dearu.bubble.playm', 'BUBBLE FOR IST', 'SOCIAL', 'https://apkcombo.com']\n"
     ]
    },
    {
     "name": "stderr",
     "output_type": "stream",
     "text": [
      " 16%|█▌        | 134/836 [05:20<26:56,  2.30s/it]"
     ]
    },
    {
     "name": "stdout",
     "output_type": "stream",
     "text": [
      "['com.dearu.bubble.th', 'BUBBLE FOR TREASURE HUNTER', 'SOCIAL', 'https://apkcombo.com']\n"
     ]
    },
    {
     "name": "stderr",
     "output_type": "stream",
     "text": [
      " 16%|█▌        | 135/836 [05:22<28:01,  2.40s/it]"
     ]
    },
    {
     "name": "stdout",
     "output_type": "stream",
     "text": [
      "['com.dencreak.spbook', 'CLEVMONEY - PERSONAL FINANCE', 'FINANCE', 'https://apkcombo.com']\n"
     ]
    },
    {
     "name": "stderr",
     "output_type": "stream",
     "text": [
      " 16%|█▋        | 136/836 [05:27<35:34,  3.05s/it]"
     ]
    },
    {
     "name": "stdout",
     "output_type": "stream",
     "text": [
      "['com.deviwear.byapps', '데비웨어', 'SHOPPING', 'https://apkcombo.com']\n"
     ]
    },
    {
     "name": "stderr",
     "output_type": "stream",
     "text": [
      " 16%|█▋        | 137/836 [05:29<32:58,  2.83s/it]"
     ]
    },
    {
     "name": "stdout",
     "output_type": "stream",
     "text": [
      "['com.dianping.v1', 'DIANPING', 'FOOD & DRINK', 'https://apkcombo.com']\n"
     ]
    },
    {
     "name": "stderr",
     "output_type": "stream",
     "text": [
      " 17%|█▋        | 138/836 [05:31<30:15,  2.60s/it]"
     ]
    },
    {
     "name": "stdout",
     "output_type": "stream",
     "text": [
      "['com.discord', 'DISCORD', 'COMMUNICATION', 'https://apkcombo.com']\n"
     ]
    },
    {
     "name": "stderr",
     "output_type": "stream",
     "text": [
      " 17%|█▋        | 139/836 [05:33<27:47,  2.39s/it]"
     ]
    },
    {
     "name": "stdout",
     "output_type": "stream",
     "text": [
      "['com.disney.disneyplus', 'DISNEY PLUS', 'ENTERTAINMENT', 'https://apkcombo.com']\n"
     ]
    },
    {
     "name": "stderr",
     "output_type": "stream",
     "text": [
      " 17%|█▋        | 140/836 [05:38<34:41,  2.99s/it]"
     ]
    },
    {
     "name": "stdout",
     "output_type": "stream",
     "text": [
      "['com.dooray.all', 'DOORAY', 'BUSINESS', 'https://apkcombo.com']\n"
     ]
    },
    {
     "name": "stderr",
     "output_type": "stream",
     "text": [
      " 17%|█▋        | 141/836 [05:40<32:01,  2.77s/it]"
     ]
    },
    {
     "name": "stdout",
     "output_type": "stream",
     "text": [
      "['com.dunamu.exchange', '업비트 - 가장 신뢰받는 디지털 자산(비트코인) 거래소', 'FINANCE', 'https://apkcombo.com']\n"
     ]
    },
    {
     "name": "stderr",
     "output_type": "stream",
     "text": [
      " 17%|█▋        | 142/836 [05:42<30:54,  2.67s/it]"
     ]
    },
    {
     "name": "stdout",
     "output_type": "stream",
     "text": [
      "['com.duolingo', 'DUOLINGO', 'EDUCATION', 'https://apkcombo.com']\n"
     ]
    },
    {
     "name": "stderr",
     "output_type": "stream",
     "text": [
      " 17%|█▋        | 143/836 [05:45<29:21,  2.54s/it]"
     ]
    },
    {
     "name": "stdout",
     "output_type": "stream",
     "text": [
      "['com.ea.game.simcitymobile_row', 'SIMCITY', 'SIMULATION', 'https://apkcombo.com']\n"
     ]
    },
    {
     "name": "stderr",
     "output_type": "stream",
     "text": [
      " 17%|█▋        | 144/836 [05:49<36:48,  3.19s/it]"
     ]
    },
    {
     "name": "stdout",
     "output_type": "stream",
     "text": [
      "['com.easybrain.killer.sudoku.free', 'KILLER SUDOKU BY SUDOKU.COM', 'PUZZLE', 'https://apkcombo.com']\n"
     ]
    },
    {
     "name": "stderr",
     "output_type": "stream",
     "text": [
      " 17%|█▋        | 145/836 [05:52<33:37,  2.92s/it]"
     ]
    },
    {
     "name": "stdout",
     "output_type": "stream",
     "text": [
      "['com.easymembership.gongcha', '공차 멤버십', 'FOOD & DRINK', 'https://apkcombo.com']\n"
     ]
    },
    {
     "name": "stderr",
     "output_type": "stream",
     "text": [
      " 17%|█▋        | 146/836 [05:54<30:24,  2.64s/it]"
     ]
    },
    {
     "name": "stdout",
     "output_type": "stream",
     "text": [
      "['com.ebcard.bustago', '[공식]전국 시외버스 승차권 통합 예매(버스타고)', 'MAPS & NAVIGATION', 'https://apkcombo.com']\n"
     ]
    },
    {
     "name": "stderr",
     "output_type": "stream",
     "text": [
      " 18%|█▊        | 147/836 [05:56<28:37,  2.49s/it]"
     ]
    },
    {
     "name": "stdout",
     "output_type": "stream",
     "text": [
      "['com.ebcard.cashbee3', '모바일이즐(구, 모바일캐시비) - 캐시비 충전, 만보기', 'MAPS & NAVIGATION', 'https://apkcombo.com']\n"
     ]
    },
    {
     "name": "stderr",
     "output_type": "stream",
     "text": [
      " 18%|█▊        | 148/836 [05:58<27:17,  2.38s/it]"
     ]
    },
    {
     "name": "stdout",
     "output_type": "stream",
     "text": [
      "['com.eg.android.alipaygphone', 'ALIPAY', 'FINANCE', 'https://apkcombo.com']\n"
     ]
    },
    {
     "name": "stderr",
     "output_type": "stream",
     "text": [
      " 18%|█▊        | 149/836 [06:00<26:08,  2.28s/it]"
     ]
    },
    {
     "name": "stdout",
     "output_type": "stream",
     "text": [
      "['com.eland.mall.member', '이멤버(EMEMBER)', 'LIFESTYLE', 'https://apkcombo.com']\n"
     ]
    },
    {
     "name": "stderr",
     "output_type": "stream",
     "text": [
      " 18%|█▊        | 150/836 [06:02<27:03,  2.37s/it]"
     ]
    },
    {
     "name": "stdout",
     "output_type": "stream",
     "text": [
      "['com.elevenst', '11ST', 'SHOPPING', 'https://apkcombo.com']\n"
     ]
    },
    {
     "name": "stderr",
     "output_type": "stream",
     "text": [
      " 18%|█▊        | 151/836 [06:04<23:29,  2.06s/it]"
     ]
    },
    {
     "name": "stdout",
     "output_type": "stream",
     "text": [
      "Error\n",
      "['com.emirates.ek.android', None, None, 'https://apkcombo.com']\n"
     ]
    },
    {
     "name": "stderr",
     "output_type": "stream",
     "text": [
      " 18%|█▊        | 152/836 [06:06<23:35,  2.07s/it]"
     ]
    },
    {
     "name": "stdout",
     "output_type": "stream",
     "text": [
      "['com.enabledaonsoft.thecamp', '대국민 국군 소통 서비스 더캠프(THE CAMP)', 'COMMUNICATION', 'https://apkcombo.com']\n"
     ]
    },
    {
     "name": "stderr",
     "output_type": "stream",
     "text": [
      " 18%|█▊        | 153/836 [06:10<31:39,  2.78s/it]"
     ]
    },
    {
     "name": "stdout",
     "output_type": "stream",
     "text": [
      "['com.entbc.indipl', '어랏 - 취향이 자산이 되다', 'SOCIAL', 'https://apkcombo.com']\n"
     ]
    },
    {
     "name": "stderr",
     "output_type": "stream",
     "text": [
      " 18%|█▊        | 154/836 [06:13<30:16,  2.66s/it]"
     ]
    },
    {
     "name": "stdout",
     "output_type": "stream",
     "text": [
      "['com.escooterapp', 'BEAM - ESCOOTER SHARING', 'TRAVEL & LOCAL', 'https://apkcombo.com']\n"
     ]
    },
    {
     "name": "stderr",
     "output_type": "stream",
     "text": [
      " 19%|█▊        | 155/836 [06:15<29:29,  2.60s/it]"
     ]
    },
    {
     "name": "stdout",
     "output_type": "stream",
     "text": [
      "['com.estsoft.alsong', 'ALSONG', 'MUSIC & AUDIO', 'https://apkcombo.com']\n"
     ]
    },
    {
     "name": "stderr",
     "output_type": "stream",
     "text": [
      " 19%|█▊        | 156/836 [06:17<28:27,  2.51s/it]"
     ]
    },
    {
     "name": "stdout",
     "output_type": "stream",
     "text": [
      "['com.estsoft.alyac', 'DR.CAPSULE ANTIVIRUS, CLEANER', 'TOOLS', 'https://apkcombo.com']\n"
     ]
    },
    {
     "name": "stderr",
     "output_type": "stream",
     "text": [
      " 19%|█▉        | 157/836 [06:20<27:07,  2.40s/it]"
     ]
    },
    {
     "name": "stdout",
     "output_type": "stream",
     "text": [
      "['com.eunjin.awesome_led', '어썸 LED 전광판', 'TOOLS', 'https://apkcombo.com']\n"
     ]
    },
    {
     "name": "stderr",
     "output_type": "stream",
     "text": [
      " 19%|█▉        | 158/836 [06:22<27:51,  2.47s/it]"
     ]
    },
    {
     "name": "stdout",
     "output_type": "stream",
     "text": [
      "['com.evernote', 'EVERNOTE', 'PRODUCTIVITY', 'https://apkcombo.com']\n"
     ]
    },
    {
     "name": "stderr",
     "output_type": "stream",
     "text": [
      " 19%|█▉        | 159/836 [06:24<26:49,  2.38s/it]"
     ]
    },
    {
     "name": "stdout",
     "output_type": "stream",
     "text": [
      "['com.everytime.v2', '에브리타임 - 함께하는 대학생활', 'SOCIAL', 'https://apkcombo.com']\n"
     ]
    },
    {
     "name": "stderr",
     "output_type": "stream",
     "text": [
      " 19%|█▉        | 160/836 [06:29<33:11,  2.95s/it]"
     ]
    },
    {
     "name": "stdout",
     "output_type": "stream",
     "text": [
      "Error\n",
      "['com.example.nalia', None, None, 'https://apkcombo.com']\n"
     ]
    },
    {
     "name": "stderr",
     "output_type": "stream",
     "text": [
      " 19%|█▉        | 161/836 [06:31<32:07,  2.86s/it]"
     ]
    },
    {
     "name": "stdout",
     "output_type": "stream",
     "text": [
      "['com.ezhld.recipe', 'KOREAN FOOD RECIPES', 'FOOD & DRINK', 'https://apkcombo.com']\n"
     ]
    },
    {
     "name": "stderr",
     "output_type": "stream",
     "text": [
      " 19%|█▉        | 162/836 [06:33<29:14,  2.60s/it]"
     ]
    },
    {
     "name": "stdout",
     "output_type": "stream",
     "text": [
      "['com.facebook.katana', 'FACEBOOK', 'SOCIAL', 'https://apkcombo.com']\n"
     ]
    },
    {
     "name": "stderr",
     "output_type": "stream",
     "text": [
      " 19%|█▉        | 163/836 [06:35<26:41,  2.38s/it]"
     ]
    },
    {
     "name": "stdout",
     "output_type": "stream",
     "text": [
      "['com.facebook.orca', 'MESSENGER', 'COMMUNICATION', 'https://apkcombo.com']\n"
     ]
    },
    {
     "name": "stderr",
     "output_type": "stream",
     "text": [
      " 20%|█▉        | 164/836 [06:38<27:03,  2.42s/it]"
     ]
    },
    {
     "name": "stdout",
     "output_type": "stream",
     "text": [
      "['com.facefaster.android.box', 'VPN 365', 'TOOLS', 'https://apkcombo.com']\n"
     ]
    },
    {
     "name": "stderr",
     "output_type": "stream",
     "text": [
      " 20%|█▉        | 165/836 [06:40<25:38,  2.29s/it]"
     ]
    },
    {
     "name": "stdout",
     "output_type": "stream",
     "text": [
      "['com.fineapp.yogiyo', '배달요기요 - 기다림 없는 맛집 배달앱', 'FOOD & DRINK', 'https://apkcombo.com']\n"
     ]
    },
    {
     "name": "stderr",
     "output_type": "stream",
     "text": [
      " 20%|█▉        | 166/836 [06:42<25:23,  2.27s/it]"
     ]
    },
    {
     "name": "stdout",
     "output_type": "stream",
     "text": [
      "['com.finlim.forkapp', 'LH, SH, 민간, 국민 임대아파트 정보 - 내집다오', 'HOUSE & HOME', 'https://apkcombo.com']\n"
     ]
    },
    {
     "name": "stderr",
     "output_type": "stream",
     "text": [
      " 20%|█▉        | 167/836 [06:44<24:54,  2.23s/it]"
     ]
    },
    {
     "name": "stdout",
     "output_type": "stream",
     "text": [
      "['com.fitbit.fitbitmobile', 'FITBIT', 'HEALTH & FITNESS', 'https://apkcombo.com']\n"
     ]
    },
    {
     "name": "stderr",
     "output_type": "stream",
     "text": [
      " 20%|██        | 168/836 [06:46<25:10,  2.26s/it]"
     ]
    },
    {
     "name": "stdout",
     "output_type": "stream",
     "text": [
      "['com.fiverr.fiverr', 'FIVERR', 'BUSINESS', 'https://apkcombo.com']\n"
     ]
    },
    {
     "name": "stderr",
     "output_type": "stream",
     "text": [
      " 20%|██        | 169/836 [06:48<23:48,  2.14s/it]"
     ]
    },
    {
     "name": "stdout",
     "output_type": "stream",
     "text": [
      "['com.fmkorea.m.fmk', 'FMKOREA 에펨코리아 - 펨코', 'SOCIAL', 'https://apkcombo.com']\n"
     ]
    },
    {
     "name": "stderr",
     "output_type": "stream",
     "text": [
      " 20%|██        | 170/836 [06:51<24:15,  2.19s/it]"
     ]
    },
    {
     "name": "stdout",
     "output_type": "stream",
     "text": [
      "['com.frograms.watcha', 'WATCHA PEDIA -MOVIE & TV GUIDE', 'ENTERTAINMENT', 'https://apkcombo.com']\n"
     ]
    },
    {
     "name": "stderr",
     "output_type": "stream",
     "text": [
      " 20%|██        | 171/836 [06:53<23:42,  2.14s/it]"
     ]
    },
    {
     "name": "stdout",
     "output_type": "stream",
     "text": [
      "['com.frograms.wplay', 'WATCHA', 'ENTERTAINMENT', 'https://apkcombo.com']\n"
     ]
    },
    {
     "name": "stderr",
     "output_type": "stream",
     "text": [
      " 21%|██        | 172/836 [06:55<25:14,  2.28s/it]"
     ]
    },
    {
     "name": "stdout",
     "output_type": "stream",
     "text": [
      "['com.fstudio.kream', 'KREAM (크림)', 'SHOPPING', 'https://apkcombo.com']\n"
     ]
    },
    {
     "name": "stderr",
     "output_type": "stream",
     "text": [
      " 21%|██        | 173/836 [06:57<25:08,  2.28s/it]"
     ]
    },
    {
     "name": "stdout",
     "output_type": "stream",
     "text": [
      "['com.fuseseoul.byapps', 'ACBF(에이씨비에프)', 'SHOPPING', 'https://apkcombo.com']\n"
     ]
    },
    {
     "name": "stderr",
     "output_type": "stream",
     "text": [
      " 21%|██        | 174/836 [07:00<24:45,  2.24s/it]"
     ]
    },
    {
     "name": "stdout",
     "output_type": "stream",
     "text": [
      "['com.fusionmedia.investing', 'INVESTING.COM: STOCK MARKET', 'FINANCE', 'https://apkcombo.com']\n"
     ]
    },
    {
     "name": "stderr",
     "output_type": "stream",
     "text": [
      " 21%|██        | 175/836 [07:02<24:14,  2.20s/it]"
     ]
    },
    {
     "name": "stdout",
     "output_type": "stream",
     "text": [
      "['com.gamestar.perfectpiano', 'PERFECT PIANO', 'MUSIC & AUDIO', 'https://apkcombo.com']\n"
     ]
    },
    {
     "name": "stderr",
     "output_type": "stream",
     "text": [
      " 21%|██        | 176/836 [07:05<26:17,  2.39s/it]"
     ]
    },
    {
     "name": "stdout",
     "output_type": "stream",
     "text": [
      "['com.ganaesra.byapps', '가내스라', 'SHOPPING', 'https://apkcombo.com']\n"
     ]
    },
    {
     "name": "stderr",
     "output_type": "stream",
     "text": [
      " 21%|██        | 177/836 [07:07<25:17,  2.30s/it]"
     ]
    },
    {
     "name": "stdout",
     "output_type": "stream",
     "text": [
      "['com.gangnam.sister', 'UNNI: PLASTIC SURGERY & REVIEW', 'BEAUTY', 'https://apkcombo.com']\n"
     ]
    },
    {
     "name": "stderr",
     "output_type": "stream",
     "text": [
      " 21%|██▏       | 178/836 [07:09<24:39,  2.25s/it]"
     ]
    },
    {
     "name": "stdout",
     "output_type": "stream",
     "text": [
      "['com.github.android', 'GITHUB', 'PRODUCTIVITY', 'https://apkcombo.com']\n"
     ]
    },
    {
     "name": "stderr",
     "output_type": "stream",
     "text": [
      " 21%|██▏       | 179/836 [07:11<24:44,  2.26s/it]"
     ]
    },
    {
     "name": "stdout",
     "output_type": "stream",
     "text": [
      "['com.global.ztmslgkr', '퍼즐 오브 Z', 'ROLE PLAYING', 'https://apkcombo.com']\n"
     ]
    },
    {
     "name": "stderr",
     "output_type": "stream",
     "text": [
      " 22%|██▏       | 180/836 [07:16<34:54,  3.19s/it]"
     ]
    },
    {
     "name": "stdout",
     "output_type": "stream",
     "text": [
      "Error\n",
      "['com.godpeople.gpbible', None, None, 'https://apkcombo.com']\n"
     ]
    },
    {
     "name": "stderr",
     "output_type": "stream",
     "text": [
      " 22%|██▏       | 181/836 [07:18<30:39,  2.81s/it]"
     ]
    },
    {
     "name": "stdout",
     "output_type": "stream",
     "text": [
      "['com.google.android.apps.authenticator2', 'GOOGLE AUTHENTICATOR', 'TOOLS', 'https://apkcombo.com']\n"
     ]
    },
    {
     "name": "stderr",
     "output_type": "stream",
     "text": [
      " 22%|██▏       | 182/836 [07:20<28:31,  2.62s/it]"
     ]
    },
    {
     "name": "stdout",
     "output_type": "stream",
     "text": [
      "['com.google.android.apps.chromecast.app', 'GOOGLE HOME', 'LIFESTYLE', 'https://apkcombo.com']\n"
     ]
    },
    {
     "name": "stderr",
     "output_type": "stream",
     "text": [
      " 22%|██▏       | 183/836 [07:23<27:26,  2.52s/it]"
     ]
    },
    {
     "name": "stdout",
     "output_type": "stream",
     "text": [
      "['com.google.android.apps.docs', 'GOOGLE DRIVE', 'PRODUCTIVITY', 'https://apkcombo.com']\n"
     ]
    },
    {
     "name": "stderr",
     "output_type": "stream",
     "text": [
      " 22%|██▏       | 184/836 [07:25<25:55,  2.39s/it]"
     ]
    },
    {
     "name": "stdout",
     "output_type": "stream",
     "text": [
      "['com.google.android.apps.docs.editors.docs', 'GOOGLE DOCS', 'PRODUCTIVITY', 'https://apkcombo.com']\n"
     ]
    },
    {
     "name": "stderr",
     "output_type": "stream",
     "text": [
      " 22%|██▏       | 185/836 [07:29<31:31,  2.91s/it]"
     ]
    },
    {
     "name": "stdout",
     "output_type": "stream",
     "text": [
      "['com.google.android.apps.docs.editors.sheets', 'GOOGLE SHEETS', 'PRODUCTIVITY', 'https://apkcombo.com']\n"
     ]
    },
    {
     "name": "stderr",
     "output_type": "stream",
     "text": [
      " 22%|██▏       | 186/836 [07:33<36:47,  3.40s/it]"
     ]
    },
    {
     "name": "stdout",
     "output_type": "stream",
     "text": [
      "['com.google.android.apps.docs.editors.slides', 'GOOGLE SLIDES', 'PRODUCTIVITY', 'https://apkcombo.com']\n"
     ]
    },
    {
     "name": "stderr",
     "output_type": "stream",
     "text": [
      " 22%|██▏       | 187/836 [07:38<38:57,  3.60s/it]"
     ]
    },
    {
     "name": "stdout",
     "output_type": "stream",
     "text": [
      "['com.google.android.apps.magazines', 'GOOGLE NEWS', 'NEWS & MAGAZINES', 'https://apkcombo.com']\n"
     ]
    },
    {
     "name": "stderr",
     "output_type": "stream",
     "text": [
      " 22%|██▏       | 188/836 [07:40<35:23,  3.28s/it]"
     ]
    },
    {
     "name": "stdout",
     "output_type": "stream",
     "text": [
      "['com.google.android.apps.maps', 'GOOGLE MAPS', 'TRAVEL & LOCAL', 'https://apkcombo.com']\n"
     ]
    },
    {
     "name": "stderr",
     "output_type": "stream",
     "text": [
      " 23%|██▎       | 189/836 [07:44<38:04,  3.53s/it]"
     ]
    },
    {
     "name": "stdout",
     "output_type": "stream",
     "text": [
      "['com.google.android.apps.meetings', 'GOOGLE MEET', 'BUSINESS', 'https://apkcombo.com']\n"
     ]
    },
    {
     "name": "stderr",
     "output_type": "stream",
     "text": [
      " 23%|██▎       | 190/836 [07:47<34:04,  3.16s/it]"
     ]
    },
    {
     "name": "stdout",
     "output_type": "stream",
     "text": [
      "['com.google.android.apps.photos', 'GOOGLE PHOTOS', 'PHOTOGRAPHY', 'https://apkcombo.com']\n"
     ]
    },
    {
     "name": "stderr",
     "output_type": "stream",
     "text": [
      " 23%|██▎       | 191/836 [07:49<31:44,  2.95s/it]"
     ]
    },
    {
     "name": "stdout",
     "output_type": "stream",
     "text": [
      "['com.google.android.apps.tachyon', 'GOOGLE MEET', 'COMMUNICATION', 'https://apkcombo.com']\n"
     ]
    },
    {
     "name": "stderr",
     "output_type": "stream",
     "text": [
      " 23%|██▎       | 192/836 [07:51<29:48,  2.78s/it]"
     ]
    },
    {
     "name": "stdout",
     "output_type": "stream",
     "text": [
      "['com.google.android.apps.translate', 'GOOGLE TRANSLATE', 'TOOLS', 'https://apkcombo.com']\n"
     ]
    },
    {
     "name": "stderr",
     "output_type": "stream",
     "text": [
      " 23%|██▎       | 193/836 [07:55<31:04,  2.90s/it]"
     ]
    },
    {
     "name": "stdout",
     "output_type": "stream",
     "text": [
      "['com.google.android.apps.youtube.music', 'YOUTUBE MUSIC', 'MUSIC & AUDIO', 'https://apkcombo.com']\n"
     ]
    },
    {
     "name": "stderr",
     "output_type": "stream",
     "text": [
      " 23%|██▎       | 194/836 [07:57<28:36,  2.67s/it]"
     ]
    },
    {
     "name": "stdout",
     "output_type": "stream",
     "text": [
      "['com.google.android.calculator', 'GOOGLE CALCULATOR', 'TOOLS', 'https://apkcombo.com']\n"
     ]
    },
    {
     "name": "stderr",
     "output_type": "stream",
     "text": [
      " 23%|██▎       | 195/836 [07:59<28:14,  2.64s/it]"
     ]
    },
    {
     "name": "stdout",
     "output_type": "stream",
     "text": [
      "['com.google.android.calendar', 'GOOGLE CALENDAR', 'PRODUCTIVITY', 'https://apkcombo.com']\n"
     ]
    },
    {
     "name": "stderr",
     "output_type": "stream",
     "text": [
      " 23%|██▎       | 196/836 [08:01<25:48,  2.42s/it]"
     ]
    },
    {
     "name": "stdout",
     "output_type": "stream",
     "text": [
      "['com.google.android.captiveportallogin', 'CAPTIVEPORTALLOGIN', 'TOOLS', 'https://apkcombo.com']\n"
     ]
    },
    {
     "name": "stderr",
     "output_type": "stream",
     "text": [
      " 24%|██▎       | 197/836 [08:05<31:13,  2.93s/it]"
     ]
    },
    {
     "name": "stdout",
     "output_type": "stream",
     "text": [
      "['com.google.android.cellbroadcastreceiver', 'WIRELESS EMERGENCY ALERTS', 'TOOLS', 'https://apkcombo.com']\n"
     ]
    },
    {
     "name": "stderr",
     "output_type": "stream",
     "text": [
      " 24%|██▎       | 198/836 [08:09<34:58,  3.29s/it]"
     ]
    },
    {
     "name": "stdout",
     "output_type": "stream",
     "text": [
      "['com.google.android.documentsui', 'FILES', 'TOOLS', 'https://apkcombo.com']\n"
     ]
    },
    {
     "name": "stderr",
     "output_type": "stream",
     "text": [
      " 24%|██▍       | 199/836 [08:11<29:50,  2.81s/it]"
     ]
    },
    {
     "name": "stdout",
     "output_type": "stream",
     "text": [
      "['com.google.android.gm', 'GMAIL', 'COMMUNICATION', 'https://apkcombo.com']\n"
     ]
    },
    {
     "name": "stderr",
     "output_type": "stream",
     "text": [
      " 24%|██▍       | 200/836 [08:13<27:19,  2.58s/it]"
     ]
    },
    {
     "name": "stdout",
     "output_type": "stream",
     "text": [
      "['com.google.android.gms', 'GOOGLE PLAY SERVICES', 'TOOLS', 'https://apkcombo.com']\n"
     ]
    },
    {
     "name": "stderr",
     "output_type": "stream",
     "text": [
      " 24%|██▍       | 201/836 [08:15<24:37,  2.33s/it]"
     ]
    },
    {
     "name": "stdout",
     "output_type": "stream",
     "text": [
      "['com.google.android.googlequicksearchbox', 'GOOGLE', 'TOOLS', 'https://apkcombo.com']\n"
     ]
    },
    {
     "name": "stderr",
     "output_type": "stream",
     "text": [
      " 24%|██▍       | 202/836 [08:17<24:40,  2.34s/it]"
     ]
    },
    {
     "name": "stdout",
     "output_type": "stream",
     "text": [
      "['com.google.android.keep', 'GOOGLE KEEP', 'PRODUCTIVITY', 'https://apkcombo.com']\n"
     ]
    },
    {
     "name": "stderr",
     "output_type": "stream",
     "text": [
      " 24%|██▍       | 203/836 [08:19<23:06,  2.19s/it]"
     ]
    },
    {
     "name": "stdout",
     "output_type": "stream",
     "text": [
      "['com.google.android.packageinstaller', 'PACKAGE INSTALLER', 'TOOLS', 'https://apkcombo.com']\n"
     ]
    },
    {
     "name": "stderr",
     "output_type": "stream",
     "text": [
      " 24%|██▍       | 204/836 [08:21<23:36,  2.24s/it]"
     ]
    },
    {
     "name": "stdout",
     "output_type": "stream",
     "text": [
      "['com.google.android.permissioncontroller', 'PERMISSION CONTROLLER', 'TOOLS', 'https://apkcombo.com']\n"
     ]
    },
    {
     "name": "stderr",
     "output_type": "stream",
     "text": [
      " 25%|██▍       | 205/836 [08:23<22:40,  2.16s/it]"
     ]
    },
    {
     "name": "stdout",
     "output_type": "stream",
     "text": [
      "['com.google.android.play.games', 'GOOGLE PLAY GAMES', 'ENTERTAINMENT', 'https://apkcombo.com']\n"
     ]
    },
    {
     "name": "stderr",
     "output_type": "stream",
     "text": [
      " 25%|██▍       | 206/836 [08:25<22:04,  2.10s/it]"
     ]
    },
    {
     "name": "stdout",
     "output_type": "stream",
     "text": [
      "['com.google.android.projection.gearhead', 'ANDROID AUTO', 'AUTO & VEHICLES', 'https://apkcombo.com']\n"
     ]
    },
    {
     "name": "stderr",
     "output_type": "stream",
     "text": [
      " 25%|██▍       | 207/836 [08:27<21:26,  2.05s/it]"
     ]
    },
    {
     "name": "stdout",
     "output_type": "stream",
     "text": [
      "['com.google.android.providers.media.module', 'MEDIA STORAGE', 'TOOLS', 'https://apkcombo.com']\n"
     ]
    },
    {
     "name": "stderr",
     "output_type": "stream",
     "text": [
      " 25%|██▍       | 208/836 [08:30<22:51,  2.18s/it]"
     ]
    },
    {
     "name": "stdout",
     "output_type": "stream",
     "text": [
      "['com.google.android.tts', 'SPEECH RECOGNITION & SYNTHESIS', 'TOOLS', 'https://apkcombo.com']\n"
     ]
    },
    {
     "name": "stderr",
     "output_type": "stream",
     "text": [
      " 25%|██▌       | 209/836 [08:32<22:38,  2.17s/it]"
     ]
    },
    {
     "name": "stdout",
     "output_type": "stream",
     "text": [
      "['com.google.android.youtube', 'YOUTUBE', 'VIDEO PLAYERS & EDITORS', 'https://apkcombo.com']\n"
     ]
    },
    {
     "name": "stderr",
     "output_type": "stream",
     "text": [
      " 25%|██▌       | 210/836 [08:34<21:55,  2.10s/it]"
     ]
    },
    {
     "name": "stdout",
     "output_type": "stream",
     "text": [
      "['com.google.ar.lens', 'GOOGLE LENS', 'TOOLS', 'https://apkcombo.com']\n"
     ]
    },
    {
     "name": "stderr",
     "output_type": "stream",
     "text": [
      " 25%|██▌       | 211/836 [08:36<22:16,  2.14s/it]"
     ]
    },
    {
     "name": "stdout",
     "output_type": "stream",
     "text": [
      "['com.google.chromeremotedesktop', 'CHROME REMOTE DESKTOP', 'TOOLS', 'https://apkcombo.com']\n"
     ]
    },
    {
     "name": "stderr",
     "output_type": "stream",
     "text": [
      " 25%|██▌       | 212/836 [08:38<22:44,  2.19s/it]"
     ]
    },
    {
     "name": "stdout",
     "output_type": "stream",
     "text": [
      "['com.gorgeous.liteinternational', 'ULIKE', 'PHOTOGRAPHY', 'https://apkcombo.com']\n"
     ]
    },
    {
     "name": "stderr",
     "output_type": "stream",
     "text": [
      " 25%|██▌       | 213/836 [08:41<23:39,  2.28s/it]"
     ]
    },
    {
     "name": "stdout",
     "output_type": "stream",
     "text": [
      "['com.greencar', '그린카 – 이동을 새로 그리다', 'MAPS & NAVIGATION', 'https://apkcombo.com']\n"
     ]
    },
    {
     "name": "stderr",
     "output_type": "stream",
     "text": [
      " 26%|██▌       | 214/836 [08:43<23:35,  2.28s/it]"
     ]
    },
    {
     "name": "stdout",
     "output_type": "stream",
     "text": [
      "['com.grepp.monito', 'MONITO', 'EDUCATION', 'https://apkcombo.com']\n"
     ]
    },
    {
     "name": "stderr",
     "output_type": "stream",
     "text": [
      " 26%|██▌       | 215/836 [08:45<23:37,  2.28s/it]"
     ]
    },
    {
     "name": "stdout",
     "output_type": "stream",
     "text": [
      "['com.gsr.gs25', '우리동네GS (GS25, GS더프레시, 와인25플러스)', 'LIFESTYLE', 'https://apkcombo.com']\n"
     ]
    },
    {
     "name": "stderr",
     "output_type": "stream",
     "text": [
      " 26%|██▌       | 216/836 [08:48<24:27,  2.37s/it]"
     ]
    },
    {
     "name": "stdout",
     "output_type": "stream",
     "text": [
      "['com.h2m.englishvoca', '마이보카 - 내가 만드는 영어단어장', 'EDUCATION', 'https://apkcombo.com']\n"
     ]
    },
    {
     "name": "stderr",
     "output_type": "stream",
     "text": [
      " 26%|██▌       | 217/836 [08:51<24:53,  2.41s/it]"
     ]
    },
    {
     "name": "stdout",
     "output_type": "stream",
     "text": [
      "['com.h2m.japanesevoca', '일본어 단어장 - 내가 만드는 일본어 단어장', 'EDUCATION', 'https://apkcombo.com']\n"
     ]
    },
    {
     "name": "stderr",
     "output_type": "stream",
     "text": [
      " 26%|██▌       | 218/836 [08:53<24:13,  2.35s/it]"
     ]
    },
    {
     "name": "stdout",
     "output_type": "stream",
     "text": [
      "['com.habits.todolist.plan.wish', 'FUN HABIT - HABIT TRACKER', 'PRODUCTIVITY', 'https://apkcombo.com']\n"
     ]
    },
    {
     "name": "stderr",
     "output_type": "stream",
     "text": [
      " 26%|██▌       | 219/836 [08:55<24:38,  2.40s/it]"
     ]
    },
    {
     "name": "stdout",
     "output_type": "stream",
     "text": [
      "['com.hackers.app.hackersvoca', '해커스보카- 토플 아이엘츠 토플단어 편입 특목고 공무원', 'EDUCATION', 'https://apkcombo.com']\n"
     ]
    },
    {
     "name": "stderr",
     "output_type": "stream",
     "text": [
      " 26%|██▋       | 220/836 [08:58<25:13,  2.46s/it]"
     ]
    },
    {
     "name": "stdout",
     "output_type": "stream",
     "text": [
      "['com.hackers.app.toeicvoca', '해커스토익 기출보카 (토익 기출단어 30일 완성)', 'EDUCATION', 'https://apkcombo.com']\n"
     ]
    },
    {
     "name": "stderr",
     "output_type": "stream",
     "text": [
      " 26%|██▋       | 221/836 [09:00<25:01,  2.44s/it]"
     ]
    },
    {
     "name": "stdout",
     "output_type": "stream",
     "text": [
      "['com.hanaskcard.paycla', '하나PAY(하나카드)', 'FINANCE', 'https://apkcombo.com']\n"
     ]
    },
    {
     "name": "stderr",
     "output_type": "stream",
     "text": [
      " 27%|██▋       | 222/836 [09:04<27:47,  2.72s/it]"
     ]
    },
    {
     "name": "stdout",
     "output_type": "stream",
     "text": [
      "Error\n",
      "['com.hancom.office.editor.sec', None, None, 'https://apkcombo.com']\n"
     ]
    },
    {
     "name": "stderr",
     "output_type": "stream",
     "text": [
      " 27%|██▋       | 223/836 [09:07<29:09,  2.85s/it]"
     ]
    },
    {
     "name": "stdout",
     "output_type": "stream",
     "text": [
      "Error\n",
      "['com.hancom.office.hwp.editor.hwp_apk', None, None, 'https://apkcombo.com']\n"
     ]
    },
    {
     "name": "stderr",
     "output_type": "stream",
     "text": [
      " 27%|██▋       | 224/836 [09:09<27:09,  2.66s/it]"
     ]
    },
    {
     "name": "stdout",
     "output_type": "stream",
     "text": [
      "['com.hanwha.lifeplus.tribes.app', 'LIFEPLUS TRIBES - 라이프플러스 트라이브', 'LIFESTYLE', 'https://apkcombo.com']\n"
     ]
    },
    {
     "name": "stderr",
     "output_type": "stream",
     "text": [
      " 27%|██▋       | 225/836 [09:11<25:58,  2.55s/it]"
     ]
    },
    {
     "name": "stdout",
     "output_type": "stream",
     "text": [
      "['com.happyneko.stickit', 'ANOTHER NOTE WIDGET', 'PRODUCTIVITY', 'https://apkcombo.com']\n"
     ]
    },
    {
     "name": "stderr",
     "output_type": "stream",
     "text": [
      " 27%|██▋       | 226/836 [09:14<25:03,  2.46s/it]"
     ]
    },
    {
     "name": "stdout",
     "output_type": "stream",
     "text": [
      "['com.happypointcard.happyorder', '해피오더', 'FOOD & DRINK', 'https://apkcombo.com']\n"
     ]
    },
    {
     "name": "stderr",
     "output_type": "stream",
     "text": [
      " 27%|██▋       | 227/836 [09:16<24:26,  2.41s/it]"
     ]
    },
    {
     "name": "stdout",
     "output_type": "stream",
     "text": [
      "['com.happypool.bucacheck', '버카첵 - 교통카드 잔액조회', 'LIFESTYLE', 'https://apkcombo.com']\n"
     ]
    },
    {
     "name": "stderr",
     "output_type": "stream",
     "text": [
      " 27%|██▋       | 228/836 [09:18<23:10,  2.29s/it]"
     ]
    },
    {
     "name": "stdout",
     "output_type": "stream",
     "text": [
      "['com.harveanie.drinkinggames', 'TENTEN ARCADE', 'CASUAL', 'https://apkcombo.com']\n"
     ]
    },
    {
     "name": "stderr",
     "output_type": "stream",
     "text": [
      " 27%|██▋       | 229/836 [09:21<24:39,  2.44s/it]"
     ]
    },
    {
     "name": "stdout",
     "output_type": "stream",
     "text": [
      "['com.hellowo.day2life', 'TIMEBLOCKS -CALENDAR/TODO/NOTE', 'PRODUCTIVITY', 'https://apkcombo.com']\n"
     ]
    },
    {
     "name": "stderr",
     "output_type": "stream",
     "text": [
      " 28%|██▊       | 230/836 [09:23<23:47,  2.36s/it]"
     ]
    },
    {
     "name": "stdout",
     "output_type": "stream",
     "text": [
      "['com.hhyu.neuron', 'NEURON E-SCOOTERS AND E-BIKES', 'TRAVEL & LOCAL', 'https://apkcombo.com']\n"
     ]
    },
    {
     "name": "stderr",
     "output_type": "stream",
     "text": [
      " 28%|██▊       | 231/836 [09:24<20:23,  2.02s/it]"
     ]
    },
    {
     "name": "stdout",
     "output_type": "stream",
     "text": [
      "Error\n",
      "['com.hidea.cat', None, None, 'https://apkcombo.com']\n"
     ]
    },
    {
     "name": "stderr",
     "output_type": "stream",
     "text": [
      " 28%|██▊       | 232/836 [09:26<18:40,  1.86s/it]"
     ]
    },
    {
     "name": "stdout",
     "output_type": "stream",
     "text": [
      "Error\n",
      "['com.hm.goe', None, None, 'https://apkcombo.com']\n"
     ]
    },
    {
     "name": "stderr",
     "output_type": "stream",
     "text": [
      " 28%|██▊       | 233/836 [09:28<19:12,  1.91s/it]"
     ]
    },
    {
     "name": "stdout",
     "output_type": "stream",
     "text": [
      "['com.homeplus.myhomeplus', '마이 홈플러스', 'LIFESTYLE', 'https://apkcombo.com']\n"
     ]
    },
    {
     "name": "stderr",
     "output_type": "stream",
     "text": [
      " 28%|██▊       | 234/836 [09:30<20:06,  2.00s/it]"
     ]
    },
    {
     "name": "stdout",
     "output_type": "stream",
     "text": [
      "['com.hpapp', '해피포인트', 'LIFESTYLE', 'https://apkcombo.com']\n"
     ]
    },
    {
     "name": "stderr",
     "output_type": "stream",
     "text": [
      " 28%|██▊       | 235/836 [09:31<18:21,  1.83s/it]"
     ]
    },
    {
     "name": "stdout",
     "output_type": "stream",
     "text": [
      "Error\n",
      "['com.hsv.freeadblockerbrowser', None, None, 'https://apkcombo.com']\n"
     ]
    },
    {
     "name": "stderr",
     "output_type": "stream",
     "text": [
      " 28%|██▊       | 236/836 [09:33<19:33,  1.96s/it]"
     ]
    },
    {
     "name": "stdout",
     "output_type": "stream",
     "text": [
      "['com.humanhelper.forhuman.quick', 'REMEMBER TO DO', 'PRODUCTIVITY', 'https://apkcombo.com']\n"
     ]
    },
    {
     "name": "stderr",
     "output_type": "stream",
     "text": [
      " 28%|██▊       | 237/836 [09:37<24:35,  2.46s/it]"
     ]
    },
    {
     "name": "stdout",
     "output_type": "stream",
     "text": [
      "['com.humble.slaythespire', 'SLAY THE SPIRE', 'TOOLS', 'https://apkcombo.com']\n"
     ]
    },
    {
     "name": "stderr",
     "output_type": "stream",
     "text": [
      " 28%|██▊       | 238/836 [09:40<25:04,  2.52s/it]"
     ]
    },
    {
     "name": "stdout",
     "output_type": "stream",
     "text": [
      "['com.hwqgrhhjfd.idlefastfood', 'EATVENTURE', 'SIMULATION', 'https://apkcombo.com']\n"
     ]
    },
    {
     "name": "stderr",
     "output_type": "stream",
     "text": [
      " 29%|██▊       | 239/836 [09:42<24:03,  2.42s/it]"
     ]
    },
    {
     "name": "stdout",
     "output_type": "stream",
     "text": [
      "['com.hyundaicard.appcard', '현대카드', 'FINANCE', 'https://apkcombo.com']\n"
     ]
    },
    {
     "name": "stderr",
     "output_type": "stream",
     "text": [
      " 29%|██▊       | 240/836 [09:44<23:25,  2.36s/it]"
     ]
    },
    {
     "name": "stdout",
     "output_type": "stream",
     "text": [
      "['com.ibillstudio.thedaycouple', 'THE COUPLE (DAYS IN LOVE)', 'LIFESTYLE', 'https://apkcombo.com']\n"
     ]
    },
    {
     "name": "stderr",
     "output_type": "stream",
     "text": [
      " 29%|██▉       | 241/836 [09:46<22:09,  2.23s/it]"
     ]
    },
    {
     "name": "stdout",
     "output_type": "stream",
     "text": [
      "['com.ibk.android.ionebank', 'I-ONE BANK - 개인고객용', 'FINANCE', 'https://apkcombo.com']\n"
     ]
    },
    {
     "name": "stderr",
     "output_type": "stream",
     "text": [
      " 29%|██▉       | 242/836 [09:49<25:22,  2.56s/it]"
     ]
    },
    {
     "name": "stdout",
     "output_type": "stream",
     "text": [
      "Error\n",
      "['com.ibk.onebanka', None, None, 'https://apkcombo.com']\n"
     ]
    },
    {
     "name": "stderr",
     "output_type": "stream",
     "text": [
      " 29%|██▉       | 243/836 [09:52<24:12,  2.45s/it]"
     ]
    },
    {
     "name": "stdout",
     "output_type": "stream",
     "text": [
      "['com.ican.shortalarm', 'NAP ALARM(EARPHONE ALARM)', 'LIFESTYLE', 'https://apkcombo.com']\n"
     ]
    },
    {
     "name": "stderr",
     "output_type": "stream",
     "text": [
      " 29%|██▉       | 244/836 [09:54<22:52,  2.32s/it]"
     ]
    },
    {
     "name": "stdout",
     "output_type": "stream",
     "text": [
      "['com.ichi2.anki', 'ANKIDROID FLASHCARDS', 'EDUCATION', 'https://apkcombo.com']\n"
     ]
    },
    {
     "name": "stderr",
     "output_type": "stream",
     "text": [
      " 29%|██▉       | 245/836 [09:56<23:09,  2.35s/it]"
     ]
    },
    {
     "name": "stdout",
     "output_type": "stream",
     "text": [
      "['com.idewar.freevote', '프리보트-FREEVOTE', 'ENTERTAINMENT', 'https://apkcombo.com']\n"
     ]
    },
    {
     "name": "stderr",
     "output_type": "stream",
     "text": [
      " 29%|██▉       | 246/836 [09:58<23:11,  2.36s/it]"
     ]
    },
    {
     "name": "stdout",
     "output_type": "stream",
     "text": [
      "['com.idincu.ovey.android', 'OVEY - OPENSURVEY PANEL', 'LIFESTYLE', 'https://apkcombo.com']\n"
     ]
    },
    {
     "name": "stderr",
     "output_type": "stream",
     "text": [
      " 30%|██▉       | 247/836 [10:01<23:19,  2.38s/it]"
     ]
    },
    {
     "name": "stdout",
     "output_type": "stream",
     "text": [
      "['com.idongbusmart', 'DB손해보험', 'FINANCE', 'https://apkcombo.com']\n"
     ]
    },
    {
     "name": "stderr",
     "output_type": "stream",
     "text": [
      " 30%|██▉       | 248/836 [10:03<23:05,  2.36s/it]"
     ]
    },
    {
     "name": "stdout",
     "output_type": "stream",
     "text": [
      "['com.ignm.bokuneko.kr', '네코대모험', 'CASUAL', 'https://apkcombo.com']\n"
     ]
    },
    {
     "name": "stderr",
     "output_type": "stream",
     "text": [
      " 30%|██▉       | 249/836 [10:05<22:12,  2.27s/it]"
     ]
    },
    {
     "name": "stdout",
     "output_type": "stream",
     "text": [
      "['com.iherb', 'IHERB', 'SHOPPING', 'https://apkcombo.com']\n"
     ]
    },
    {
     "name": "stderr",
     "output_type": "stream",
     "text": [
      " 30%|██▉       | 250/836 [10:07<21:50,  2.24s/it]"
     ]
    },
    {
     "name": "stdout",
     "output_type": "stream",
     "text": [
      "['com.ilevit.alwayz.android', '올웨이즈 - 팀구매로 초특가 쇼핑', 'SHOPPING', 'https://apkcombo.com']\n"
     ]
    },
    {
     "name": "stderr",
     "output_type": "stream",
     "text": [
      " 30%|███       | 251/836 [10:09<21:03,  2.16s/it]"
     ]
    },
    {
     "name": "stdout",
     "output_type": "stream",
     "text": [
      "['com.iloen.melon', 'MELON', 'MUSIC & AUDIO', 'https://apkcombo.com']\n"
     ]
    },
    {
     "name": "stderr",
     "output_type": "stream",
     "text": [
      " 30%|███       | 252/836 [10:12<21:15,  2.18s/it]"
     ]
    },
    {
     "name": "stdout",
     "output_type": "stream",
     "text": [
      "['com.iloen.melonticket', '멜론티켓', 'ENTERTAINMENT', 'https://apkcombo.com']\n"
     ]
    },
    {
     "name": "stderr",
     "output_type": "stream",
     "text": [
      " 30%|███       | 253/836 [10:16<29:02,  2.99s/it]"
     ]
    },
    {
     "name": "stdout",
     "output_type": "stream",
     "text": [
      "['com.inbody2014.inbody', 'INBODY', 'HEALTH & FITNESS', 'https://apkcombo.com']\n"
     ]
    },
    {
     "name": "stderr",
     "output_type": "stream",
     "text": [
      " 30%|███       | 254/836 [10:18<25:51,  2.66s/it]"
     ]
    },
    {
     "name": "stdout",
     "output_type": "stream",
     "text": [
      "['com.incube.newepub', '예스24 도서관 (구)', 'BOOKS & REFERENCE', 'https://apkcombo.com']\n"
     ]
    },
    {
     "name": "stderr",
     "output_type": "stream",
     "text": [
      " 31%|███       | 255/836 [10:21<25:40,  2.65s/it]"
     ]
    },
    {
     "name": "stdout",
     "output_type": "stream",
     "text": [
      "['com.infraware.office.link', 'POLARIS OFFICE', 'PRODUCTIVITY', 'https://apkcombo.com']\n"
     ]
    },
    {
     "name": "stderr",
     "output_type": "stream",
     "text": [
      " 31%|███       | 256/836 [10:24<25:16,  2.62s/it]"
     ]
    },
    {
     "name": "stdout",
     "output_type": "stream",
     "text": [
      "['com.infraware.office.reader.team', 'POLARIS VIEWER - PDF, OFFICE', 'PRODUCTIVITY', 'https://apkcombo.com']\n"
     ]
    },
    {
     "name": "stderr",
     "output_type": "stream",
     "text": [
      " 31%|███       | 257/836 [10:28<30:36,  3.17s/it]"
     ]
    },
    {
     "name": "stdout",
     "output_type": "stream",
     "text": [
      "['com.inglesdivino.blurimage', 'BLUR IMAGE', 'PHOTOGRAPHY', 'https://apkcombo.com']\n"
     ]
    },
    {
     "name": "stderr",
     "output_type": "stream",
     "text": [
      " 31%|███       | 258/836 [10:32<33:12,  3.45s/it]"
     ]
    },
    {
     "name": "stdout",
     "output_type": "stream",
     "text": [
      "['com.initialcoms.ridi', '리디', 'COMICS', 'https://apkcombo.com']\n"
     ]
    },
    {
     "name": "stderr",
     "output_type": "stream",
     "text": [
      " 31%|███       | 259/836 [10:34<29:05,  3.03s/it]"
     ]
    },
    {
     "name": "stdout",
     "output_type": "stream",
     "text": [
      "['com.innov.lottecoupon', '롯데백화점', 'SHOPPING', 'https://apkcombo.com']\n"
     ]
    },
    {
     "name": "stderr",
     "output_type": "stream",
     "text": [
      " 31%|███       | 260/836 [10:37<27:23,  2.85s/it]"
     ]
    },
    {
     "name": "stdout",
     "output_type": "stream",
     "text": [
      "['com.inspiredsquare.jupiter', '2248 PUZZLE', 'PUZZLE', 'https://apkcombo.com']\n"
     ]
    },
    {
     "name": "stderr",
     "output_type": "stream",
     "text": [
      " 31%|███       | 261/836 [10:38<24:18,  2.54s/it]"
     ]
    },
    {
     "name": "stdout",
     "output_type": "stream",
     "text": [
      "['com.instagram.android', 'INSTAGRAM', 'SOCIAL', 'https://apkcombo.com']\n"
     ]
    },
    {
     "name": "stderr",
     "output_type": "stream",
     "text": [
      " 31%|███▏      | 262/836 [10:41<23:06,  2.42s/it]"
     ]
    },
    {
     "name": "stdout",
     "output_type": "stream",
     "text": [
      "['com.interpark.app.ticket', '인터파크 티켓 (INTERPARKTICKET)', 'ENTERTAINMENT', 'https://apkcombo.com']\n"
     ]
    },
    {
     "name": "stderr",
     "output_type": "stream",
     "text": [
      " 31%|███▏      | 263/836 [10:43<22:47,  2.39s/it]"
     ]
    },
    {
     "name": "stdout",
     "output_type": "stream",
     "text": [
      "['com.intsig.camscanner', 'CAMSCANNER', 'PRODUCTIVITY', 'https://apkcombo.com']\n"
     ]
    },
    {
     "name": "stderr",
     "output_type": "stream",
     "text": [
      " 32%|███▏      | 264/836 [10:45<22:20,  2.34s/it]"
     ]
    },
    {
     "name": "stdout",
     "output_type": "stream",
     "text": [
      "['com.jaeryoungka.kaist_bus', 'KAIST 버스 2.0', 'PRODUCTIVITY', 'https://apkcombo.com']\n"
     ]
    },
    {
     "name": "stderr",
     "output_type": "stream",
     "text": [
      " 32%|███▏      | 265/836 [10:47<21:51,  2.30s/it]"
     ]
    },
    {
     "name": "stdout",
     "output_type": "stream",
     "text": [
      "['com.jbt.android.bicyclehappysharing', '자전거 행복나눔', 'TRAVEL & LOCAL', 'https://apkcombo.com']\n"
     ]
    },
    {
     "name": "stderr",
     "output_type": "stream",
     "text": [
      " 32%|███▏      | 266/836 [10:51<26:43,  2.81s/it]"
     ]
    },
    {
     "name": "stdout",
     "output_type": "stream",
     "text": [
      "['com.joara.mobile', '조아라', 'BOOKS & REFERENCE', 'https://apkcombo.com']\n"
     ]
    },
    {
     "name": "stderr",
     "output_type": "stream",
     "text": [
      " 32%|███▏      | 267/836 [10:56<31:23,  3.31s/it]"
     ]
    },
    {
     "name": "stdout",
     "output_type": "stream",
     "text": [
      "['com.jotterpad.x', 'JOTTERPAD - WRITER, SCREENPLAY', 'PRODUCTIVITY', 'https://apkcombo.com']\n"
     ]
    },
    {
     "name": "stderr",
     "output_type": "stream",
     "text": [
      " 32%|███▏      | 268/836 [11:00<34:52,  3.68s/it]"
     ]
    },
    {
     "name": "stdout",
     "output_type": "stream",
     "text": [
      "['com.jsplash.tuner', 'TUNER T1', 'MUSIC & AUDIO', 'https://apkcombo.com']\n"
     ]
    },
    {
     "name": "stderr",
     "output_type": "stream",
     "text": [
      " 32%|███▏      | 269/836 [11:02<30:06,  3.19s/it]"
     ]
    },
    {
     "name": "stdout",
     "output_type": "stream",
     "text": [
      "['com.kaist.kaist_idcard', 'KAIST IDCARD', 'EDUCATION', 'https://apkcombo.com']\n"
     ]
    },
    {
     "name": "stderr",
     "output_type": "stream",
     "text": [
      " 32%|███▏      | 270/836 [11:05<27:32,  2.92s/it]"
     ]
    },
    {
     "name": "stdout",
     "output_type": "stream",
     "text": [
      "['com.kaist.kaistmotp', 'KAIST MOTP', 'EDUCATION', 'https://apkcombo.com']\n"
     ]
    },
    {
     "name": "stderr",
     "output_type": "stream",
     "text": [
      " 32%|███▏      | 271/836 [11:07<25:07,  2.67s/it]"
     ]
    },
    {
     "name": "stdout",
     "output_type": "stream",
     "text": [
      "['com.kaist.lms', 'KLMS', 'EDUCATION', 'https://apkcombo.com']\n"
     ]
    },
    {
     "name": "stderr",
     "output_type": "stream",
     "text": [
      " 33%|███▎      | 272/836 [11:09<24:21,  2.59s/it]"
     ]
    },
    {
     "name": "stdout",
     "output_type": "stream",
     "text": [
      "['com.kakao.beauty.hairshop', '카카오헤어샵', 'BEAUTY', 'https://apkcombo.com']\n"
     ]
    },
    {
     "name": "stderr",
     "output_type": "stream",
     "text": [
      " 33%|███▎      | 273/836 [11:11<22:18,  2.38s/it]"
     ]
    },
    {
     "name": "stdout",
     "output_type": "stream",
     "text": [
      "['com.kakao.page', '카카오페이지', 'ENTERTAINMENT', 'https://apkcombo.com']\n"
     ]
    },
    {
     "name": "stderr",
     "output_type": "stream",
     "text": [
      " 33%|███▎      | 274/836 [11:13<20:38,  2.20s/it]"
     ]
    },
    {
     "name": "stdout",
     "output_type": "stream",
     "text": [
      "['com.kakao.talk', 'KAKAOTALK', 'COMMUNICATION', 'https://apkcombo.com']\n"
     ]
    },
    {
     "name": "stderr",
     "output_type": "stream",
     "text": [
      " 33%|███▎      | 275/836 [11:15<20:50,  2.23s/it]"
     ]
    },
    {
     "name": "stdout",
     "output_type": "stream",
     "text": [
      "['com.kakao.taxi', 'KAKAO T - TAXI, DRIVER, BIKE', 'MAPS & NAVIGATION', 'https://apkcombo.com']\n"
     ]
    },
    {
     "name": "stderr",
     "output_type": "stream",
     "text": [
      " 33%|███▎      | 276/836 [11:17<20:47,  2.23s/it]"
     ]
    },
    {
     "name": "stdout",
     "output_type": "stream",
     "text": [
      "['com.kakao.yellowid', '카카오톡 채널 관리자', 'COMMUNICATION', 'https://apkcombo.com']\n"
     ]
    },
    {
     "name": "stderr",
     "output_type": "stream",
     "text": [
      " 33%|███▎      | 277/836 [11:20<21:28,  2.31s/it]"
     ]
    },
    {
     "name": "stdout",
     "output_type": "stream",
     "text": [
      "['com.kakaobank.channel', '카카오뱅크', 'FINANCE', 'https://apkcombo.com']\n"
     ]
    },
    {
     "name": "stderr",
     "output_type": "stream",
     "text": [
      " 33%|███▎      | 278/836 [11:22<21:21,  2.30s/it]"
     ]
    },
    {
     "name": "stdout",
     "output_type": "stream",
     "text": [
      "['com.kakaogames.bangdreamkr', '뱅드림 걸즈 밴드 파티', 'MUSIC', 'https://apkcombo.com']\n"
     ]
    },
    {
     "name": "stderr",
     "output_type": "stream",
     "text": [
      " 33%|███▎      | 279/836 [11:24<21:40,  2.34s/it]"
     ]
    },
    {
     "name": "stdout",
     "output_type": "stream",
     "text": [
      "['com.kakaopay.app', '카카오페이', 'FINANCE', 'https://apkcombo.com']\n"
     ]
    },
    {
     "name": "stderr",
     "output_type": "stream",
     "text": [
      " 33%|███▎      | 280/836 [11:26<20:07,  2.17s/it]"
     ]
    },
    {
     "name": "stdout",
     "output_type": "stream",
     "text": [
      "['com.kbankwith.smartbank', '케이뱅크 (KBANK) - MAKE MONEY', 'FINANCE', 'https://apkcombo.com']\n"
     ]
    },
    {
     "name": "stderr",
     "output_type": "stream",
     "text": [
      " 34%|███▎      | 281/836 [11:29<20:21,  2.20s/it]"
     ]
    },
    {
     "name": "stdout",
     "output_type": "stream",
     "text": [
      "['com.kbcard.cxh.appcard', 'KB PAY', 'FINANCE', 'https://apkcombo.com']\n"
     ]
    },
    {
     "name": "stderr",
     "output_type": "stream",
     "text": [
      " 34%|███▎      | 282/836 [11:31<20:52,  2.26s/it]"
     ]
    },
    {
     "name": "stdout",
     "output_type": "stream",
     "text": [
      "['com.kbsec.mts.iplustarngm2', \"KB증권 'M-ABLE' (마블) - 대표MTS\", 'FINANCE', 'https://apkcombo.com']\n"
     ]
    },
    {
     "name": "stderr",
     "output_type": "stream",
     "text": [
      " 34%|███▍      | 283/836 [11:33<21:00,  2.28s/it]"
     ]
    },
    {
     "name": "stdout",
     "output_type": "stream",
     "text": [
      "['com.kbstar.kbbank', 'KB국민은행 스타뱅킹', 'FINANCE', 'https://apkcombo.com']\n"
     ]
    },
    {
     "name": "stderr",
     "output_type": "stream",
     "text": [
      " 34%|███▍      | 284/836 [11:36<21:10,  2.30s/it]"
     ]
    },
    {
     "name": "stdout",
     "output_type": "stream",
     "text": [
      "['com.kbstar.starpush', 'KB스타알림', 'FINANCE', 'https://apkcombo.com']\n"
     ]
    },
    {
     "name": "stderr",
     "output_type": "stream",
     "text": [
      " 34%|███▍      | 285/836 [11:37<19:52,  2.16s/it]"
     ]
    },
    {
     "name": "stdout",
     "output_type": "stream",
     "text": [
      "['com.kebhana.hanapush', '하나은행, 하나원큐는 돈기운 가득한 은행 앱', 'FINANCE', 'https://apkcombo.com']\n"
     ]
    },
    {
     "name": "stderr",
     "output_type": "stream",
     "text": [
      " 34%|███▍      | 286/836 [11:40<19:53,  2.17s/it]"
     ]
    },
    {
     "name": "stdout",
     "output_type": "stream",
     "text": [
      "['com.keylesspalace.tusky', 'TUSKY FOR MASTODON', 'SOCIAL', 'https://apkcombo.com']\n"
     ]
    },
    {
     "name": "stderr",
     "output_type": "stream",
     "text": [
      " 34%|███▍      | 287/836 [11:41<18:55,  2.07s/it]"
     ]
    },
    {
     "name": "stdout",
     "output_type": "stream",
     "text": [
      "['com.kiwoom.heromts', '키움증권 영웅문S#-대표MTS(국내/해외주식,계좌개설)', 'FINANCE', 'https://apkcombo.com']\n"
     ]
    },
    {
     "name": "stderr",
     "output_type": "stream",
     "text": [
      " 34%|███▍      | 288/836 [11:44<19:37,  2.15s/it]"
     ]
    },
    {
     "name": "stdout",
     "output_type": "stream",
     "text": [
      "['com.kjbank.asb.pbanking', '광주 와뱅크', 'FINANCE', 'https://apkcombo.com']\n"
     ]
    },
    {
     "name": "stderr",
     "output_type": "stream",
     "text": [
      " 35%|███▍      | 289/836 [11:49<27:34,  3.03s/it]"
     ]
    },
    {
     "name": "stdout",
     "output_type": "stream",
     "text": [
      "['com.kmong.kmong', '크몽 - 700개 분야의 비즈니스 전문가가 필요한 순간', 'BUSINESS', 'https://apkcombo.com']\n"
     ]
    },
    {
     "name": "stderr",
     "output_type": "stream",
     "text": [
      " 35%|███▍      | 290/836 [11:51<25:53,  2.84s/it]"
     ]
    },
    {
     "name": "stdout",
     "output_type": "stream",
     "text": [
      "['com.kmplayer', 'KMPLAYER', 'VIDEO PLAYERS & EDITORS', 'https://apkcombo.com']\n"
     ]
    },
    {
     "name": "stderr",
     "output_type": "stream",
     "text": [
      " 35%|███▍      | 291/836 [11:53<23:32,  2.59s/it]"
     ]
    },
    {
     "name": "stdout",
     "output_type": "stream",
     "text": [
      "['com.kolon.kolonmall', '코오롱몰', 'SHOPPING', 'https://apkcombo.com']\n"
     ]
    },
    {
     "name": "stderr",
     "output_type": "stream",
     "text": [
      " 35%|███▍      | 292/836 [11:56<22:34,  2.49s/it]"
     ]
    },
    {
     "name": "stdout",
     "output_type": "stream",
     "text": [
      "['com.komscochak.m.client', '(구)지역상품권 CHAK', 'FINANCE', 'https://apkcombo.com']\n"
     ]
    },
    {
     "name": "stderr",
     "output_type": "stream",
     "text": [
      " 35%|███▌      | 293/836 [11:58<21:15,  2.35s/it]"
     ]
    },
    {
     "name": "stdout",
     "output_type": "stream",
     "text": [
      "['com.korail.talk', 'KORAILTALK', 'TRAVEL & LOCAL', 'https://apkcombo.com']\n"
     ]
    },
    {
     "name": "stderr",
     "output_type": "stream",
     "text": [
      " 35%|███▌      | 294/836 [12:00<21:11,  2.35s/it]"
     ]
    },
    {
     "name": "stdout",
     "output_type": "stream",
     "text": [
      "['com.koreacb.allcredit', '올크레딧 신용안심365 - 은행, 대출, 신용점수조회', 'FINANCE', 'https://apkcombo.com']\n"
     ]
    },
    {
     "name": "stderr",
     "output_type": "stream",
     "text": [
      " 35%|███▌      | 295/836 [12:02<21:38,  2.40s/it]"
     ]
    },
    {
     "name": "stdout",
     "output_type": "stream",
     "text": [
      "['com.koreanair.passenger', 'KOREAN AIR MY', 'TRAVEL & LOCAL', 'https://apkcombo.com']\n"
     ]
    },
    {
     "name": "stderr",
     "output_type": "stream",
     "text": [
      " 35%|███▌      | 296/836 [12:07<27:16,  3.03s/it]"
     ]
    },
    {
     "name": "stdout",
     "output_type": "stream",
     "text": [
      "Error\n",
      "['com.kosaf.gpsattendance', None, None, 'https://apkcombo.com']\n"
     ]
    },
    {
     "name": "stderr",
     "output_type": "stream",
     "text": [
      " 36%|███▌      | 297/836 [12:09<24:32,  2.73s/it]"
     ]
    },
    {
     "name": "stdout",
     "output_type": "stream",
     "text": [
      "['com.kr.meritzfire', '메리츠화재 공식 앱', 'FINANCE', 'https://apkcombo.com']\n"
     ]
    },
    {
     "name": "stderr",
     "output_type": "stream",
     "text": [
      " 36%|███▌      | 298/836 [12:11<23:09,  2.58s/it]"
     ]
    },
    {
     "name": "stdout",
     "output_type": "stream",
     "text": [
      "['com.kscc.scxb.mbl', '[공식]고속버스 티머니', 'MAPS & NAVIGATION', 'https://apkcombo.com']\n"
     ]
    },
    {
     "name": "stderr",
     "output_type": "stream",
     "text": [
      " 36%|███▌      | 299/836 [12:13<22:16,  2.49s/it]"
     ]
    },
    {
     "name": "stdout",
     "output_type": "stream",
     "text": [
      "['com.kscc.xzz.mbl', '[구]시외버스 티머니', 'TRAVEL & LOCAL', 'https://apkcombo.com']\n"
     ]
    },
    {
     "name": "stderr",
     "output_type": "stream",
     "text": [
      " 36%|███▌      | 300/836 [12:16<20:59,  2.35s/it]"
     ]
    },
    {
     "name": "stdout",
     "output_type": "stream",
     "text": [
      "['com.ksncho.hospitalinfo', '굿닥 - 병원방문 예약,접수 필수앱', 'MEDICAL', 'https://apkcombo.com']\n"
     ]
    },
    {
     "name": "stderr",
     "output_type": "stream",
     "text": [
      " 36%|███▌      | 301/836 [12:18<20:08,  2.26s/it]"
     ]
    },
    {
     "name": "stdout",
     "output_type": "stream",
     "text": [
      "['com.kt.ktauth', 'PASS BY KT - 인증을 넘어 일상으로 PASS', 'LIFESTYLE', 'https://apkcombo.com']\n"
     ]
    },
    {
     "name": "stderr",
     "output_type": "stream",
     "text": [
      " 36%|███▌      | 302/836 [12:22<26:22,  2.96s/it]"
     ]
    },
    {
     "name": "stdout",
     "output_type": "stream",
     "text": [
      "['com.kt.narle', 'NARLE 나를 - 꿀잼 영상통화', 'COMMUNICATION', 'https://apkcombo.com']\n"
     ]
    },
    {
     "name": "stderr",
     "output_type": "stream",
     "text": [
      " 36%|███▌      | 303/836 [12:27<30:39,  3.45s/it]"
     ]
    },
    {
     "name": "stdout",
     "output_type": "stream",
     "text": [
      "Error\n",
      "['com.kt.olleh.storefront', None, None, 'https://apkcombo.com']\n"
     ]
    },
    {
     "name": "stderr",
     "output_type": "stream",
     "text": [
      " 36%|███▋      | 304/836 [12:29<27:55,  3.15s/it]"
     ]
    },
    {
     "name": "stdout",
     "output_type": "stream",
     "text": [
      "['com.kt.otv', 'SEEZN', 'ENTERTAINMENT', 'https://apkcombo.com']\n"
     ]
    },
    {
     "name": "stderr",
     "output_type": "stream",
     "text": [
      " 36%|███▋      | 305/836 [12:31<25:16,  2.86s/it]"
     ]
    },
    {
     "name": "stdout",
     "output_type": "stream",
     "text": [
      "['com.ktcs.whowho', 'WHOWHO', 'COMMUNICATION', 'https://apkcombo.com']\n"
     ]
    },
    {
     "name": "stderr",
     "output_type": "stream",
     "text": [
      " 37%|███▋      | 306/836 [12:34<23:25,  2.65s/it]"
     ]
    },
    {
     "name": "stdout",
     "output_type": "stream",
     "text": [
      "['com.kth.ollehtvguide', '지니 TV 플레이', 'ENTERTAINMENT', 'https://apkcombo.com']\n"
     ]
    },
    {
     "name": "stderr",
     "output_type": "stream",
     "text": [
      " 37%|███▋      | 307/836 [12:36<23:41,  2.69s/it]"
     ]
    },
    {
     "name": "stdout",
     "output_type": "stream",
     "text": [
      "['com.ktmusic.geniemusic', 'GENIE', 'MUSIC & AUDIO', 'https://apkcombo.com']\n"
     ]
    },
    {
     "name": "stderr",
     "output_type": "stream",
     "text": [
      " 37%|███▋      | 308/836 [12:39<24:50,  2.82s/it]"
     ]
    },
    {
     "name": "stdout",
     "output_type": "stream",
     "text": [
      "['com.ktshow.cs', '마이 케이티', 'LIFESTYLE', 'https://apkcombo.com']\n"
     ]
    },
    {
     "name": "stderr",
     "output_type": "stream",
     "text": [
      " 37%|███▋      | 309/836 [12:42<23:40,  2.70s/it]"
     ]
    },
    {
     "name": "stdout",
     "output_type": "stream",
     "text": [
      "['com.lalaworks.dutchcalc', 'DUTCH : 더치페이 계산기', 'FINANCE', 'https://apkcombo.com']\n"
     ]
    },
    {
     "name": "stderr",
     "output_type": "stream",
     "text": [
      " 37%|███▋      | 310/836 [12:44<22:34,  2.58s/it]"
     ]
    },
    {
     "name": "stdout",
     "output_type": "stream",
     "text": [
      "['com.lambda.lambda_stock', 'LAMBDA', 'FINANCE', 'https://apkcombo.com']\n"
     ]
    },
    {
     "name": "stderr",
     "output_type": "stream",
     "text": [
      " 37%|███▋      | 311/836 [12:49<29:39,  3.39s/it]"
     ]
    },
    {
     "name": "stdout",
     "output_type": "stream",
     "text": [
      "Error\n",
      "['com.lcacapp', None, None, 'https://apkcombo.com']\n"
     ]
    },
    {
     "name": "stderr",
     "output_type": "stream",
     "text": [
      " 37%|███▋      | 312/836 [12:52<28:18,  3.24s/it]"
     ]
    },
    {
     "name": "stdout",
     "output_type": "stream",
     "text": [
      "['com.lemonhc.mcare.cnuh', '전남대병원', 'MEDICAL', 'https://apkcombo.com']\n"
     ]
    },
    {
     "name": "stderr",
     "output_type": "stream",
     "text": [
      " 37%|███▋      | 313/836 [12:54<24:35,  2.82s/it]"
     ]
    },
    {
     "name": "stdout",
     "output_type": "stream",
     "text": [
      "['com.lezhin.comics.plus', 'LEZHIN COMICS PLUS', 'TOOLS', 'https://apkcombo.com']\n"
     ]
    },
    {
     "name": "stderr",
     "output_type": "stream",
     "text": [
      " 38%|███▊      | 314/836 [12:59<29:40,  3.41s/it]"
     ]
    },
    {
     "name": "stdout",
     "output_type": "stream",
     "text": [
      "Error\n",
      "['com.lge.nfcsettings', None, None, 'https://apkcombo.com']\n"
     ]
    },
    {
     "name": "stderr",
     "output_type": "stream",
     "text": [
      " 38%|███▊      | 315/836 [13:01<26:18,  3.03s/it]"
     ]
    },
    {
     "name": "stdout",
     "output_type": "stream",
     "text": [
      "['com.lge.bluetoothsetting', 'BLUETOOTH', 'TOOLS', 'https://apkcombo.com']\n"
     ]
    },
    {
     "name": "stderr",
     "output_type": "stream",
     "text": [
      " 38%|███▊      | 316/836 [13:03<24:09,  2.79s/it]"
     ]
    },
    {
     "name": "stdout",
     "output_type": "stream",
     "text": [
      "['com.lge.camera', 'LG CAMERA', 'PHOTOGRAPHY', 'https://apkcombo.com']\n"
     ]
    },
    {
     "name": "stderr",
     "output_type": "stream",
     "text": [
      " 38%|███▊      | 317/836 [13:05<21:49,  2.52s/it]"
     ]
    },
    {
     "name": "stdout",
     "output_type": "stream",
     "text": [
      "['com.lge.clock', 'LG CLOCK', 'TOOLS', 'https://apkcombo.com']\n"
     ]
    },
    {
     "name": "stderr",
     "output_type": "stream",
     "text": [
      " 38%|███▊      | 318/836 [13:07<20:35,  2.39s/it]"
     ]
    },
    {
     "name": "stdout",
     "output_type": "stream",
     "text": [
      "['com.lge.filemanager', 'LG FILE MANAGER', 'TOOLS', 'https://apkcombo.com']\n"
     ]
    },
    {
     "name": "stderr",
     "output_type": "stream",
     "text": [
      " 38%|███▊      | 319/836 [13:12<25:55,  3.01s/it]"
     ]
    },
    {
     "name": "stdout",
     "output_type": "stream",
     "text": [
      "['com.lge.hifirecorder', 'AUDIO RECORDER', 'TOOLS', 'https://apkcombo.com']\n"
     ]
    },
    {
     "name": "stderr",
     "output_type": "stream",
     "text": [
      " 38%|███▊      | 320/836 [13:14<23:22,  2.72s/it]"
     ]
    },
    {
     "name": "stdout",
     "output_type": "stream",
     "text": [
      "['com.lge.launcher3', 'LG HOME', 'TOOLS', 'https://apkcombo.com']\n"
     ]
    },
    {
     "name": "stderr",
     "output_type": "stream",
     "text": [
      " 38%|███▊      | 321/836 [13:18<26:48,  3.12s/it]"
     ]
    },
    {
     "name": "stdout",
     "output_type": "stream",
     "text": [
      "['com.lge.lockscreensettings', 'LG LOCKSCREENSETTINGS', 'TOOLS', 'https://apkcombo.com']\n"
     ]
    },
    {
     "name": "stderr",
     "output_type": "stream",
     "text": [
      " 39%|███▊      | 322/836 [13:22<30:23,  3.55s/it]"
     ]
    },
    {
     "name": "stdout",
     "output_type": "stream",
     "text": [
      "['com.lge.networksettings', 'NETWORK', 'TOOLS', 'https://apkcombo.com']\n"
     ]
    },
    {
     "name": "stderr",
     "output_type": "stream",
     "text": [
      " 39%|███▊      | 323/836 [13:25<27:07,  3.17s/it]"
     ]
    },
    {
     "name": "stdout",
     "output_type": "stream",
     "text": [
      "['com.lge.phonemanagement', 'SMART DOCTOR', 'TOOLS', 'https://apkcombo.com']\n"
     ]
    },
    {
     "name": "stderr",
     "output_type": "stream",
     "text": [
      " 39%|███▉      | 324/836 [13:29<28:44,  3.37s/it]"
     ]
    },
    {
     "name": "stdout",
     "output_type": "stream",
     "text": [
      "Error\n",
      "['com.lge.qlens', None, None, 'https://apkcombo.com']\n"
     ]
    },
    {
     "name": "stderr",
     "output_type": "stream",
     "text": [
      " 39%|███▉      | 325/836 [13:30<24:49,  2.91s/it]"
     ]
    },
    {
     "name": "stdout",
     "output_type": "stream",
     "text": [
      "['com.lge.qmemoplus', 'LG QUICKMEMO+', 'TOOLS', 'https://apkcombo.com']\n"
     ]
    },
    {
     "name": "stderr",
     "output_type": "stream",
     "text": [
      " 39%|███▉      | 326/836 [13:33<23:03,  2.71s/it]"
     ]
    },
    {
     "name": "stdout",
     "output_type": "stream",
     "text": [
      "['com.lge.sizechangable.weather', 'LG WEATHER', 'TOOLS', 'https://apkcombo.com']\n"
     ]
    },
    {
     "name": "stderr",
     "output_type": "stream",
     "text": [
      " 39%|███▉      | 327/836 [13:37<27:08,  3.20s/it]"
     ]
    },
    {
     "name": "stdout",
     "output_type": "stream",
     "text": [
      "['com.lge.videoplayer', 'LG VIDEO', 'TOOLS', 'https://apkcombo.com']\n"
     ]
    },
    {
     "name": "stderr",
     "output_type": "stream",
     "text": [
      " 39%|███▉      | 328/836 [13:39<24:50,  2.93s/it]"
     ]
    },
    {
     "name": "stdout",
     "output_type": "stream",
     "text": [
      "['com.lge.wifisettings', 'LG WI-FI', 'TOOLS', 'https://apkcombo.com']\n"
     ]
    },
    {
     "name": "stderr",
     "output_type": "stream",
     "text": [
      " 39%|███▉      | 329/836 [13:43<27:48,  3.29s/it]"
     ]
    },
    {
     "name": "stdout",
     "output_type": "stream",
     "text": [
      "['com.lgeha.nuts', 'LG THINQ', 'LIFESTYLE', 'https://apkcombo.com']\n"
     ]
    },
    {
     "name": "stderr",
     "output_type": "stream",
     "text": [
      " 39%|███▉      | 330/836 [13:46<24:49,  2.94s/it]"
     ]
    },
    {
     "name": "stdout",
     "output_type": "stream",
     "text": [
      "['com.lgntel.ngcharger', '차지비', 'LIFESTYLE', 'https://apkcombo.com']\n"
     ]
    },
    {
     "name": "stderr",
     "output_type": "stream",
     "text": [
      " 40%|███▉      | 331/836 [13:47<22:03,  2.62s/it]"
     ]
    },
    {
     "name": "stdout",
     "output_type": "stream",
     "text": [
      "['com.lgt.tmoney', '모바일티머니 - 기후동행카드를 모바일로 간편하게', 'MAPS & NAVIGATION', 'https://apkcombo.com']\n"
     ]
    },
    {
     "name": "stderr",
     "output_type": "stream",
     "text": [
      " 40%|███▉      | 332/836 [13:50<21:01,  2.50s/it]"
     ]
    },
    {
     "name": "stdout",
     "output_type": "stream",
     "text": [
      "['com.lguplus.mobile.cs', '당신의 U+ (고객센터)', 'LIFESTYLE', 'https://apkcombo.com']\n"
     ]
    },
    {
     "name": "stderr",
     "output_type": "stream",
     "text": [
      " 40%|███▉      | 333/836 [13:52<20:15,  2.42s/it]"
     ]
    },
    {
     "name": "stdout",
     "output_type": "stream",
     "text": [
      "['com.lguplus.smartotp', 'PASS BY U+ - 인증을 넘어 일상으로 PASS', 'FINANCE', 'https://apkcombo.com']\n"
     ]
    },
    {
     "name": "stderr",
     "output_type": "stream",
     "text": [
      " 40%|███▉      | 334/836 [13:54<19:34,  2.34s/it]"
     ]
    },
    {
     "name": "stdout",
     "output_type": "stream",
     "text": [
      "['com.limebike', 'LIME', 'TRAVEL & LOCAL', 'https://apkcombo.com']\n"
     ]
    },
    {
     "name": "stderr",
     "output_type": "stream",
     "text": [
      " 40%|████      | 335/836 [13:56<18:51,  2.26s/it]"
     ]
    },
    {
     "name": "stdout",
     "output_type": "stream",
     "text": [
      "['com.linecorp.b612.android', 'B612', 'PHOTOGRAPHY', 'https://apkcombo.com']\n"
     ]
    },
    {
     "name": "stderr",
     "output_type": "stream",
     "text": [
      " 40%|████      | 336/836 [13:59<19:20,  2.32s/it]"
     ]
    },
    {
     "name": "stdout",
     "output_type": "stream",
     "text": [
      "['com.linecorp.foodcam.android', 'FOODIE - CAMERA', 'PHOTOGRAPHY', 'https://apkcombo.com']\n"
     ]
    },
    {
     "name": "stderr",
     "output_type": "stream",
     "text": [
      " 40%|████      | 337/836 [14:01<18:59,  2.28s/it]"
     ]
    },
    {
     "name": "stdout",
     "output_type": "stream",
     "text": [
      "['com.linkedin.android', 'LINKEDIN', 'BUSINESS', 'https://apkcombo.com']\n"
     ]
    },
    {
     "name": "stderr",
     "output_type": "stream",
     "text": [
      " 40%|████      | 338/836 [14:03<18:36,  2.24s/it]"
     ]
    },
    {
     "name": "stdout",
     "output_type": "stream",
     "text": [
      "['com.lotte', 'LOTTE.COM', 'SHOPPING', 'https://apkcombo.com']\n"
     ]
    },
    {
     "name": "stderr",
     "output_type": "stream",
     "text": [
      " 41%|████      | 339/836 [14:05<18:55,  2.29s/it]"
     ]
    },
    {
     "name": "stdout",
     "output_type": "stream",
     "text": [
      "['com.lottemembers.android', 'L.POINT WITH L.PAY', 'LIFESTYLE', 'https://apkcombo.com']\n"
     ]
    },
    {
     "name": "stderr",
     "output_type": "stream",
     "text": [
      " 41%|████      | 340/836 [14:07<17:23,  2.10s/it]"
     ]
    },
    {
     "name": "stdout",
     "output_type": "stream",
     "text": [
      "Error\n",
      "['com.lufthansa.android.lufthansa', None, None, 'https://apkcombo.com']\n"
     ]
    },
    {
     "name": "stderr",
     "output_type": "stream",
     "text": [
      " 41%|████      | 341/836 [14:09<17:42,  2.15s/it]"
     ]
    },
    {
     "name": "stdout",
     "output_type": "stream",
     "text": [
      "['com.m2comm.headache', '대한두통학회 두통일기 – HEADACHE DIARY', 'MEDICAL', 'https://apkcombo.com']\n"
     ]
    },
    {
     "name": "stderr",
     "output_type": "stream",
     "text": [
      " 41%|████      | 342/836 [14:12<18:13,  2.21s/it]"
     ]
    },
    {
     "name": "stdout",
     "output_type": "stream",
     "text": [
      "['com.makeshop.powerapp.heodak', '허닭', 'SHOPPING', 'https://apkcombo.com']\n"
     ]
    },
    {
     "name": "stderr",
     "output_type": "stream",
     "text": [
      " 41%|████      | 343/836 [14:14<17:54,  2.18s/it]"
     ]
    },
    {
     "name": "stdout",
     "output_type": "stream",
     "text": [
      "['com.makeshop.powerapp.selecsmall', '셀렉스몰 - SELEXMALL', 'SHOPPING', 'https://apkcombo.com']\n"
     ]
    },
    {
     "name": "stderr",
     "output_type": "stream",
     "text": [
      " 41%|████      | 344/836 [14:16<18:04,  2.20s/it]"
     ]
    },
    {
     "name": "stdout",
     "output_type": "stream",
     "text": [
      "['com.mangoplate', 'MANGOPLATE - RESTAURANT SEARCH', 'FOOD & DRINK', 'https://apkcombo.com']\n"
     ]
    },
    {
     "name": "stderr",
     "output_type": "stream",
     "text": [
      " 41%|████▏     | 345/836 [14:18<17:07,  2.09s/it]"
     ]
    },
    {
     "name": "stdout",
     "output_type": "stream",
     "text": [
      "['com.mathpresso.qanda', 'QANDA', 'EDUCATION', 'https://apkcombo.com']\n"
     ]
    },
    {
     "name": "stderr",
     "output_type": "stream",
     "text": [
      " 41%|████▏     | 346/836 [14:20<17:12,  2.11s/it]"
     ]
    },
    {
     "name": "stdout",
     "output_type": "stream",
     "text": [
      "['com.mathpresso.qandateacher', 'QANDA TEACHER: SOLVE&EARN CASH', 'EDUCATION', 'https://apkcombo.com']\n"
     ]
    },
    {
     "name": "stderr",
     "output_type": "stream",
     "text": [
      " 42%|████▏     | 347/836 [14:22<17:29,  2.15s/it]"
     ]
    },
    {
     "name": "stdout",
     "output_type": "stream",
     "text": [
      "['com.mathpresso.tutor', '콴다과외: 1:1 맞춤 온라인 과외', 'EDUCATION', 'https://apkcombo.com']\n"
     ]
    },
    {
     "name": "stderr",
     "output_type": "stream",
     "text": [
      " 42%|████▏     | 348/836 [14:24<17:12,  2.11s/it]"
     ]
    },
    {
     "name": "stdout",
     "output_type": "stream",
     "text": [
      "['com.matteljv.uno', 'UNO™', 'CARD', 'https://apkcombo.com']\n"
     ]
    },
    {
     "name": "stderr",
     "output_type": "stream",
     "text": [
      " 42%|████▏     | 349/836 [14:26<17:26,  2.15s/it]"
     ]
    },
    {
     "name": "stdout",
     "output_type": "stream",
     "text": [
      "['com.mcdonalds.mobileapp', \"MCDONALD'S\", 'FOOD & DRINK', 'https://apkcombo.com']\n"
     ]
    },
    {
     "name": "stderr",
     "output_type": "stream",
     "text": [
      " 42%|████▏     | 350/836 [14:28<17:08,  2.12s/it]"
     ]
    },
    {
     "name": "stdout",
     "output_type": "stream",
     "text": [
      "['com.mealant.tabling', '테이블링', 'FOOD & DRINK', 'https://apkcombo.com']\n"
     ]
    },
    {
     "name": "stderr",
     "output_type": "stream",
     "text": [
      " 42%|████▏     | 351/836 [14:30<16:48,  2.08s/it]"
     ]
    },
    {
     "name": "stdout",
     "output_type": "stream",
     "text": [
      "['com.megabox.mop', '메가박스', 'ENTERTAINMENT', 'https://apkcombo.com']\n"
     ]
    },
    {
     "name": "stderr",
     "output_type": "stream",
     "text": [
      " 42%|████▏     | 352/836 [14:33<18:15,  2.26s/it]"
     ]
    },
    {
     "name": "stdout",
     "output_type": "stream",
     "text": [
      "['com.megabrain.modagi', 'EASY SHOPPING : SHIPGET', 'SHOPPING', 'https://apkcombo.com']\n"
     ]
    },
    {
     "name": "stderr",
     "output_type": "stream",
     "text": [
      " 42%|████▏     | 353/836 [14:35<18:07,  2.25s/it]"
     ]
    },
    {
     "name": "stdout",
     "output_type": "stream",
     "text": [
      "['com.metadream.bondee', 'BONDEE', 'SOCIAL', 'https://apkcombo.com']\n"
     ]
    },
    {
     "name": "stderr",
     "output_type": "stream",
     "text": [
      " 42%|████▏     | 354/836 [14:37<16:01,  1.99s/it]"
     ]
    },
    {
     "name": "stdout",
     "output_type": "stream",
     "text": [
      "Error\n",
      "['com.microblink.photomath', None, None, 'https://apkcombo.com']\n"
     ]
    },
    {
     "name": "stderr",
     "output_type": "stream",
     "text": [
      " 42%|████▏     | 355/836 [14:39<16:09,  2.01s/it]"
     ]
    },
    {
     "name": "stdout",
     "output_type": "stream",
     "text": [
      "['com.microsoft.appmanager', 'LINK TO WINDOWS', 'PRODUCTIVITY', 'https://apkcombo.com']\n"
     ]
    },
    {
     "name": "stderr",
     "output_type": "stream",
     "text": [
      " 43%|████▎     | 356/836 [14:41<16:14,  2.03s/it]"
     ]
    },
    {
     "name": "stdout",
     "output_type": "stream",
     "text": [
      "['com.microsoft.emmx', 'MICROSOFT EDGE', 'COMMUNICATION', 'https://apkcombo.com']\n"
     ]
    },
    {
     "name": "stderr",
     "output_type": "stream",
     "text": [
      " 43%|████▎     | 357/836 [14:43<16:17,  2.04s/it]"
     ]
    },
    {
     "name": "stdout",
     "output_type": "stream",
     "text": [
      "['com.microsoft.loop', 'MICROSOFT LOOP', 'BUSINESS', 'https://apkcombo.com']\n"
     ]
    },
    {
     "name": "stderr",
     "output_type": "stream",
     "text": [
      " 43%|████▎     | 358/836 [14:45<16:06,  2.02s/it]"
     ]
    },
    {
     "name": "stdout",
     "output_type": "stream",
     "text": [
      "['com.microsoft.office.excel', 'MICROSOFT EXCEL', 'PRODUCTIVITY', 'https://apkcombo.com']\n"
     ]
    },
    {
     "name": "stderr",
     "output_type": "stream",
     "text": [
      " 43%|████▎     | 359/836 [14:47<15:41,  1.97s/it]"
     ]
    },
    {
     "name": "stdout",
     "output_type": "stream",
     "text": [
      "['com.microsoft.office.officehubrow', 'MICROSOFT OFFICE', 'PRODUCTIVITY', 'https://apkcombo.com']\n"
     ]
    },
    {
     "name": "stderr",
     "output_type": "stream",
     "text": [
      " 43%|████▎     | 360/836 [14:52<22:55,  2.89s/it]"
     ]
    },
    {
     "name": "stdout",
     "output_type": "stream",
     "text": [
      "['com.microsoft.office.officelens', 'MICROSOFT LENS', 'PRODUCTIVITY', 'https://apkcombo.com']\n"
     ]
    },
    {
     "name": "stderr",
     "output_type": "stream",
     "text": [
      " 43%|████▎     | 361/836 [14:54<20:49,  2.63s/it]"
     ]
    },
    {
     "name": "stdout",
     "output_type": "stream",
     "text": [
      "['com.microsoft.office.onenote', 'MICROSOFT ONENOTE: SAVE NOTES', 'PRODUCTIVITY', 'https://apkcombo.com']\n"
     ]
    },
    {
     "name": "stderr",
     "output_type": "stream",
     "text": [
      " 43%|████▎     | 362/836 [14:56<19:00,  2.41s/it]"
     ]
    },
    {
     "name": "stdout",
     "output_type": "stream",
     "text": [
      "['com.microsoft.office.outlook', 'OUTLOOK', 'PRODUCTIVITY', 'https://apkcombo.com']\n"
     ]
    },
    {
     "name": "stderr",
     "output_type": "stream",
     "text": [
      " 43%|████▎     | 363/836 [14:58<18:36,  2.36s/it]"
     ]
    },
    {
     "name": "stdout",
     "output_type": "stream",
     "text": [
      "['com.microsoft.office.powerpoint', 'MICROSOFT POWERPOINT', 'PRODUCTIVITY', 'https://apkcombo.com']\n"
     ]
    },
    {
     "name": "stderr",
     "output_type": "stream",
     "text": [
      " 44%|████▎     | 364/836 [15:00<17:49,  2.27s/it]"
     ]
    },
    {
     "name": "stdout",
     "output_type": "stream",
     "text": [
      "['com.microsoft.office.word', 'MICROSOFT WORD', 'PRODUCTIVITY', 'https://apkcombo.com']\n"
     ]
    },
    {
     "name": "stderr",
     "output_type": "stream",
     "text": [
      " 44%|████▎     | 365/836 [15:02<17:22,  2.21s/it]"
     ]
    },
    {
     "name": "stdout",
     "output_type": "stream",
     "text": [
      "['com.microsoft.skydrive', 'MICROSOFT ONEDRIVE', 'PRODUCTIVITY', 'https://apkcombo.com']\n"
     ]
    },
    {
     "name": "stderr",
     "output_type": "stream",
     "text": [
      " 44%|████▍     | 366/836 [15:04<17:23,  2.22s/it]"
     ]
    },
    {
     "name": "stdout",
     "output_type": "stream",
     "text": [
      "['com.microsoft.todos', 'MICROSOFT TO DO', 'PRODUCTIVITY', 'https://apkcombo.com']\n"
     ]
    },
    {
     "name": "stderr",
     "output_type": "stream",
     "text": [
      " 44%|████▍     | 367/836 [15:07<17:32,  2.24s/it]"
     ]
    },
    {
     "name": "stdout",
     "output_type": "stream",
     "text": [
      "['com.minibigapp', 'MINIBIG', 'LIFESTYLE', 'https://apkcombo.com']\n"
     ]
    },
    {
     "name": "stderr",
     "output_type": "stream",
     "text": [
      " 44%|████▍     | 368/836 [15:09<16:48,  2.15s/it]"
     ]
    },
    {
     "name": "stdout",
     "output_type": "stream",
     "text": [
      "['com.miniclip.plagueinc', 'PLAGUE INC.', 'SIMULATION', 'https://apkcombo.com']\n"
     ]
    },
    {
     "name": "stderr",
     "output_type": "stream",
     "text": [
      " 44%|████▍     | 369/836 [15:11<17:42,  2.28s/it]"
     ]
    },
    {
     "name": "stdout",
     "output_type": "stream",
     "text": [
      "['com.miraeasset.trade', '미래에셋증권 M-STOCK', 'FINANCE', 'https://apkcombo.com']\n"
     ]
    },
    {
     "name": "stderr",
     "output_type": "stream",
     "text": [
      " 44%|████▍     | 370/836 [15:13<16:10,  2.08s/it]"
     ]
    },
    {
     "name": "stdout",
     "output_type": "stream",
     "text": [
      "Error\n",
      "['com.mistplay.mistplay', None, None, 'https://apkcombo.com']\n"
     ]
    },
    {
     "name": "stderr",
     "output_type": "stream",
     "text": [
      " 44%|████▍     | 371/836 [15:15<16:13,  2.09s/it]"
     ]
    },
    {
     "name": "stdout",
     "output_type": "stream",
     "text": [
      "['com.mn.daemyungresort', '소노호텔앤리조트', 'TRAVEL & LOCAL', 'https://apkcombo.com']\n"
     ]
    },
    {
     "name": "stderr",
     "output_type": "stream",
     "text": [
      " 44%|████▍     | 372/836 [15:17<16:26,  2.13s/it]"
     ]
    },
    {
     "name": "stdout",
     "output_type": "stream",
     "text": [
      "['com.mo.kosaf', '한국장학재단', 'EDUCATION', 'https://apkcombo.com']\n"
     ]
    },
    {
     "name": "stderr",
     "output_type": "stream",
     "text": [
      " 45%|████▍     | 373/836 [15:19<16:43,  2.17s/it]"
     ]
    },
    {
     "name": "stdout",
     "output_type": "stream",
     "text": [
      "['com.mobile.bizo.flip', 'FLIP VIDEO FX', 'VIDEO PLAYERS & EDITORS', 'https://apkcombo.com']\n"
     ]
    },
    {
     "name": "stderr",
     "output_type": "stream",
     "text": [
      " 45%|████▍     | 374/836 [15:22<17:53,  2.32s/it]"
     ]
    },
    {
     "name": "stdout",
     "output_type": "stream",
     "text": [
      "['com.mobisystems.msdict.embedded.wireless.oxford.concisegerman', 'CONCISE OXFORD GERMAN DICT.', 'BOOKS & REFERENCE', 'https://apkcombo.com']\n"
     ]
    },
    {
     "name": "stderr",
     "output_type": "stream",
     "text": [
      " 45%|████▍     | 375/836 [15:24<17:37,  2.29s/it]"
     ]
    },
    {
     "name": "stdout",
     "output_type": "stream",
     "text": [
      "['com.mobiteach.spanish', 'LEARN SPANISH FOR BEGINNERS', 'EDUCATION', 'https://apkcombo.com']\n"
     ]
    },
    {
     "name": "stderr",
     "output_type": "stream",
     "text": [
      " 45%|████▍     | 376/836 [15:29<22:08,  2.89s/it]"
     ]
    },
    {
     "name": "stdout",
     "output_type": "stream",
     "text": [
      "['com.momzit.tennistown', '테니스타운', 'SPORTS', 'https://apkcombo.com']\n"
     ]
    },
    {
     "name": "stderr",
     "output_type": "stream",
     "text": [
      " 45%|████▌     | 377/836 [15:31<21:07,  2.76s/it]"
     ]
    },
    {
     "name": "stdout",
     "output_type": "stream",
     "text": [
      "['com.monomob.omok', '오목', 'BOARD', 'https://apkcombo.com']\n"
     ]
    },
    {
     "name": "stderr",
     "output_type": "stream",
     "text": [
      " 45%|████▌     | 378/836 [15:33<19:57,  2.62s/it]"
     ]
    },
    {
     "name": "stdout",
     "output_type": "stream",
     "text": [
      "['com.mozzet.lookpin', '룩핀 - 650만 남성 패션앱', 'SHOPPING', 'https://apkcombo.com']\n"
     ]
    },
    {
     "name": "stderr",
     "output_type": "stream",
     "text": [
      " 45%|████▌     | 379/836 [15:35<18:28,  2.42s/it]"
     ]
    },
    {
     "name": "stdout",
     "output_type": "stream",
     "text": [
      "['com.music.free.bada', '뮤직다운 - 최신음악, MP3음악다운로드, 뮤직플레이어', 'LIFESTYLE', 'https://apkcombo.com']\n"
     ]
    },
    {
     "name": "stderr",
     "output_type": "stream",
     "text": [
      " 45%|████▌     | 380/836 [15:38<18:07,  2.39s/it]"
     ]
    },
    {
     "name": "stdout",
     "output_type": "stream",
     "text": [
      "['com.musinsa.store', '온라인 패션 스토어 무신사', 'SHOPPING', 'https://apkcombo.com']\n"
     ]
    },
    {
     "name": "stderr",
     "output_type": "stream",
     "text": [
      " 46%|████▌     | 381/836 [15:40<18:56,  2.50s/it]"
     ]
    },
    {
     "name": "stdout",
     "output_type": "stream",
     "text": [
      "['com.mymento.project1', '마이멘토과외 - 모두가 만족한 과외 연결 어플', 'EDUCATION', 'https://apkcombo.com']\n"
     ]
    },
    {
     "name": "stderr",
     "output_type": "stream",
     "text": [
      " 46%|████▌     | 382/836 [15:43<18:19,  2.42s/it]"
     ]
    },
    {
     "name": "stdout",
     "output_type": "stream",
     "text": [
      "['com.naver.clova.minute', '클로바노트 - 음성 그 이상의 기록', 'PRODUCTIVITY', 'https://apkcombo.com']\n"
     ]
    },
    {
     "name": "stderr",
     "output_type": "stream",
     "text": [
      " 46%|████▌     | 383/836 [15:45<18:28,  2.45s/it]"
     ]
    },
    {
     "name": "stdout",
     "output_type": "stream",
     "text": [
      "['com.naver.focusbot', 'FOCUSBOT: MUTE NOTIFICATIONS, AUTOREPLY, FOCUS', 'LIFESTYLE', 'https://apkcombo.com']\n"
     ]
    },
    {
     "name": "stderr",
     "output_type": "stream",
     "text": [
      " 46%|████▌     | 384/836 [15:47<17:59,  2.39s/it]"
     ]
    },
    {
     "name": "stdout",
     "output_type": "stream",
     "text": [
      "['com.naver.labs.translator', 'NAVER PAPAGO - AI TRANSLATOR', 'TOOLS', 'https://apkcombo.com']\n"
     ]
    },
    {
     "name": "stderr",
     "output_type": "stream",
     "text": [
      " 46%|████▌     | 385/836 [15:50<19:17,  2.57s/it]"
     ]
    },
    {
     "name": "stdout",
     "output_type": "stream",
     "text": [
      "['com.naver.naveraudio', 'AUDIOCLIP - AUDIOBOOKS & ASMR', 'ENTERTAINMENT', 'https://apkcombo.com']\n"
     ]
    },
    {
     "name": "stderr",
     "output_type": "stream",
     "text": [
      " 46%|████▌     | 386/836 [15:56<25:25,  3.39s/it]"
     ]
    },
    {
     "name": "stdout",
     "output_type": "stream",
     "text": [
      "['com.naver.vibe', 'VIBE', 'MUSIC & AUDIO', 'https://apkcombo.com']\n"
     ]
    },
    {
     "name": "stderr",
     "output_type": "stream",
     "text": [
      " 46%|████▋     | 387/836 [15:58<22:15,  2.97s/it]"
     ]
    },
    {
     "name": "stdout",
     "output_type": "stream",
     "text": [
      "['com.naver.whale', 'NAVER WHALE BROWSER', 'COMMUNICATION', 'https://apkcombo.com']\n"
     ]
    },
    {
     "name": "stderr",
     "output_type": "stream",
     "text": [
      " 46%|████▋     | 388/836 [16:00<20:32,  2.75s/it]"
     ]
    },
    {
     "name": "stdout",
     "output_type": "stream",
     "text": [
      "['com.navercorp.android.smartboard', 'NAVER SMARTBOARD - KEYBOARD', 'TOOLS', 'https://apkcombo.com']\n"
     ]
    },
    {
     "name": "stderr",
     "output_type": "stream",
     "text": [
      " 47%|████▋     | 389/836 [16:02<19:33,  2.62s/it]"
     ]
    },
    {
     "name": "stdout",
     "output_type": "stream",
     "text": [
      "['com.naverfin.payapp', '네이버페이', 'FINANCE', 'https://apkcombo.com']\n"
     ]
    },
    {
     "name": "stderr",
     "output_type": "stream",
     "text": [
      " 47%|████▋     | 390/836 [16:04<18:07,  2.44s/it]"
     ]
    },
    {
     "name": "stdout",
     "output_type": "stream",
     "text": [
      "['com.nbbmobileorder.shinsegaefood', '노브랜드버거', 'FOOD & DRINK', 'https://apkcombo.com']\n"
     ]
    },
    {
     "name": "stderr",
     "output_type": "stream",
     "text": [
      " 47%|████▋     | 391/836 [16:09<23:04,  3.11s/it]"
     ]
    },
    {
     "name": "stdout",
     "output_type": "stream",
     "text": [
      "Error\n",
      "['com.nclab.crayon', None, None, 'https://apkcombo.com']\n"
     ]
    },
    {
     "name": "stderr",
     "output_type": "stream",
     "text": [
      " 47%|████▋     | 392/836 [16:12<21:57,  2.97s/it]"
     ]
    },
    {
     "name": "stdout",
     "output_type": "stream",
     "text": [
      "['com.ncncnative', '니콘내콘 - 기프티콘 플리마켓', 'SHOPPING', 'https://apkcombo.com']\n"
     ]
    },
    {
     "name": "stderr",
     "output_type": "stream",
     "text": [
      " 47%|████▋     | 393/836 [16:14<20:04,  2.72s/it]"
     ]
    },
    {
     "name": "stdout",
     "output_type": "stream",
     "text": [
      "['com.neowiz.games.newmatgo', '피망 뉴맞고', 'CARD', 'https://apkcombo.com']\n"
     ]
    },
    {
     "name": "stderr",
     "output_type": "stream",
     "text": [
      " 47%|████▋     | 394/836 [16:15<17:44,  2.41s/it]"
     ]
    },
    {
     "name": "stdout",
     "output_type": "stream",
     "text": [
      "['com.netflix.mediaclient', 'NETFLIX', 'ENTERTAINMENT', 'https://apkcombo.com']\n"
     ]
    },
    {
     "name": "stderr",
     "output_type": "stream",
     "text": [
      " 47%|████▋     | 395/836 [16:18<17:20,  2.36s/it]"
     ]
    },
    {
     "name": "stdout",
     "output_type": "stream",
     "text": [
      "['com.nexon.er', '프라시아 전기', 'ROLE PLAYING', 'https://apkcombo.com']\n"
     ]
    },
    {
     "name": "stderr",
     "output_type": "stream",
     "text": [
      " 47%|████▋     | 396/836 [16:19<16:15,  2.22s/it]"
     ]
    },
    {
     "name": "stdout",
     "output_type": "stream",
     "text": [
      "['com.nexon.kart', 'KARTRIDER RUSH+', 'RACING', 'https://apkcombo.com']\n"
     ]
    },
    {
     "name": "stderr",
     "output_type": "stream",
     "text": [
      " 47%|████▋     | 397/836 [16:22<16:11,  2.21s/it]"
     ]
    },
    {
     "name": "stdout",
     "output_type": "stream",
     "text": [
      "['com.nexon.kartdrift', 'KARTRIDER: DRIFT', 'RACING', 'https://apkcombo.com']\n"
     ]
    },
    {
     "name": "stderr",
     "output_type": "stream",
     "text": [
      " 48%|████▊     | 398/836 [16:24<16:06,  2.21s/it]"
     ]
    },
    {
     "name": "stdout",
     "output_type": "stream",
     "text": [
      "['com.nexon.nxplay', '넥슨플레이 – 넥슨 게이머의 필수 앱', 'COMMUNICATION', 'https://apkcombo.com']\n"
     ]
    },
    {
     "name": "stderr",
     "output_type": "stream",
     "text": [
      " 48%|████▊     | 399/836 [16:28<20:54,  2.87s/it]"
     ]
    },
    {
     "name": "stdout",
     "output_type": "stream",
     "text": [
      "['com.nhn.android.band', 'BAND - APP FOR ALL GROUPS', 'SOCIAL', 'https://apkcombo.com']\n"
     ]
    },
    {
     "name": "stderr",
     "output_type": "stream",
     "text": [
      " 48%|████▊     | 400/836 [16:31<20:18,  2.79s/it]"
     ]
    },
    {
     "name": "stdout",
     "output_type": "stream",
     "text": [
      "['com.nhn.android.blog', '네이버 블로그 - NAVER BLOG', 'SOCIAL', 'https://apkcombo.com']\n"
     ]
    },
    {
     "name": "stderr",
     "output_type": "stream",
     "text": [
      " 48%|████▊     | 401/836 [16:34<20:35,  2.84s/it]"
     ]
    },
    {
     "name": "stdout",
     "output_type": "stream",
     "text": [
      "['com.nhn.android.calendar', 'NAVER CALENDAR', 'PRODUCTIVITY', 'https://apkcombo.com']\n"
     ]
    },
    {
     "name": "stderr",
     "output_type": "stream",
     "text": [
      " 48%|████▊     | 402/836 [16:36<19:46,  2.73s/it]"
     ]
    },
    {
     "name": "stdout",
     "output_type": "stream",
     "text": [
      "['com.nhn.android.mail', 'NAVER MAIL', 'COMMUNICATION', 'https://apkcombo.com']\n"
     ]
    },
    {
     "name": "stderr",
     "output_type": "stream",
     "text": [
      " 48%|████▊     | 403/836 [16:39<19:01,  2.64s/it]"
     ]
    },
    {
     "name": "stdout",
     "output_type": "stream",
     "text": [
      "['com.nhn.android.navercafe', '네이버 카페 - NAVER CAFE', 'SOCIAL', 'https://apkcombo.com']\n"
     ]
    },
    {
     "name": "stderr",
     "output_type": "stream",
     "text": [
      " 48%|████▊     | 404/836 [16:41<17:11,  2.39s/it]"
     ]
    },
    {
     "name": "stdout",
     "output_type": "stream",
     "text": [
      "['com.nhn.android.naverdic', 'NAVER DICTIONARY', 'EDUCATION', 'https://apkcombo.com']\n"
     ]
    },
    {
     "name": "stderr",
     "output_type": "stream",
     "text": [
      " 48%|████▊     | 405/836 [16:43<17:18,  2.41s/it]"
     ]
    },
    {
     "name": "stdout",
     "output_type": "stream",
     "text": [
      "['com.nhn.android.nbooks', 'SERIES', 'BOOKS & REFERENCE', 'https://apkcombo.com']\n"
     ]
    },
    {
     "name": "stderr",
     "output_type": "stream",
     "text": [
      " 49%|████▊     | 406/836 [16:45<16:55,  2.36s/it]"
     ]
    },
    {
     "name": "stdout",
     "output_type": "stream",
     "text": [
      "['com.nhn.android.ndrive', 'NAVER MYBOX', 'PRODUCTIVITY', 'https://apkcombo.com']\n"
     ]
    },
    {
     "name": "stderr",
     "output_type": "stream",
     "text": [
      " 49%|████▊     | 407/836 [16:47<15:48,  2.21s/it]"
     ]
    },
    {
     "name": "stdout",
     "output_type": "stream",
     "text": [
      "['com.nhn.android.nmap', 'NAVER MAP', 'MAPS & NAVIGATION', 'https://apkcombo.com']\n"
     ]
    },
    {
     "name": "stderr",
     "output_type": "stream",
     "text": [
      " 49%|████▉     | 408/836 [16:49<15:20,  2.15s/it]"
     ]
    },
    {
     "name": "stdout",
     "output_type": "stream",
     "text": [
      "['com.nhn.android.search', '네이버 - NAVER', 'BOOKS & REFERENCE', 'https://apkcombo.com']\n"
     ]
    },
    {
     "name": "stderr",
     "output_type": "stream",
     "text": [
      " 49%|████▉     | 409/836 [16:52<15:55,  2.24s/it]"
     ]
    },
    {
     "name": "stdout",
     "output_type": "stream",
     "text": [
      "['com.nhn.android.webtoon', 'NAVER WEBTOON', 'COMICS', 'https://apkcombo.com']\n"
     ]
    },
    {
     "name": "stderr",
     "output_type": "stream",
     "text": [
      " 49%|████▉     | 410/836 [16:54<15:16,  2.15s/it]"
     ]
    },
    {
     "name": "stdout",
     "output_type": "stream",
     "text": [
      "['com.nhnent.payapp', 'PAYCO', 'LIFESTYLE', 'https://apkcombo.com']\n"
     ]
    },
    {
     "name": "stderr",
     "output_type": "stream",
     "text": [
      " 49%|████▉     | 411/836 [16:56<15:48,  2.23s/it]"
     ]
    },
    {
     "name": "stdout",
     "output_type": "stream",
     "text": [
      "['com.nia.main', 'MOBILE INTERNET QUALITY TEST', 'TOOLS', 'https://apkcombo.com']\n"
     ]
    },
    {
     "name": "stderr",
     "output_type": "stream",
     "text": [
      " 49%|████▉     | 412/836 [16:57<14:07,  2.00s/it]"
     ]
    },
    {
     "name": "stdout",
     "output_type": "stream",
     "text": [
      "Error\n",
      "['com.nike.omega', None, None, 'https://apkcombo.com']\n"
     ]
    },
    {
     "name": "stderr",
     "output_type": "stream",
     "text": [
      " 49%|████▉     | 413/836 [17:00<15:21,  2.18s/it]"
     ]
    },
    {
     "name": "stdout",
     "output_type": "stream",
     "text": [
      "['com.nike.plusgps', 'NIKE RUN CLUB - RUNNING COACH', 'HEALTH & FITNESS', 'https://apkcombo.com']\n"
     ]
    },
    {
     "name": "stderr",
     "output_type": "stream",
     "text": [
      " 50%|████▉     | 414/836 [17:02<15:24,  2.19s/it]"
     ]
    },
    {
     "name": "stdout",
     "output_type": "stream",
     "text": [
      "['com.nonghyup.nhallonebank', 'NH올원뱅크', 'FINANCE', 'https://apkcombo.com']\n"
     ]
    },
    {
     "name": "stderr",
     "output_type": "stream",
     "text": [
      " 50%|████▉     | 415/836 [17:05<16:22,  2.33s/it]"
     ]
    },
    {
     "name": "stdout",
     "output_type": "stream",
     "text": [
      "['com.nulltree.skyapps.japstudy', 'JAPANESE STUDY (HIRAGANA)', 'EDUCATION', 'https://apkcombo.com']\n"
     ]
    },
    {
     "name": "stderr",
     "output_type": "stream",
     "text": [
      " 50%|████▉     | 416/836 [17:07<16:29,  2.36s/it]"
     ]
    },
    {
     "name": "stdout",
     "output_type": "stream",
     "text": [
      "['com.numerade.student', 'NUMERADE - HOMEWORK HELP', 'EDUCATION', 'https://apkcombo.com']\n"
     ]
    },
    {
     "name": "stderr",
     "output_type": "stream",
     "text": [
      " 50%|████▉     | 417/836 [17:10<16:55,  2.42s/it]"
     ]
    },
    {
     "name": "stdout",
     "output_type": "stream",
     "text": [
      "['com.nyrds.pixeldungeon.ml', 'REMIXED DUNGEON: PIXEL ROGUE', 'ROLE PLAYING', 'https://apkcombo.com']\n"
     ]
    },
    {
     "name": "stderr",
     "output_type": "stream",
     "text": [
      " 50%|█████     | 418/836 [17:12<17:02,  2.45s/it]"
     ]
    },
    {
     "name": "stdout",
     "output_type": "stream",
     "text": [
      "['com.nytimes.android', 'THE NEW YORK TIMES', 'NEWS & MAGAZINES', 'https://apkcombo.com']\n"
     ]
    },
    {
     "name": "stderr",
     "output_type": "stream",
     "text": [
      " 50%|█████     | 419/836 [17:15<16:51,  2.43s/it]"
     ]
    },
    {
     "name": "stdout",
     "output_type": "stream",
     "text": [
      "['com.officedocument.word.docx.document.viewer', 'WORD OFFICE - PDF, DOCX, XLSX', 'PRODUCTIVITY', 'https://apkcombo.com']\n"
     ]
    },
    {
     "name": "stderr",
     "output_type": "stream",
     "text": [
      " 50%|█████     | 420/836 [17:17<16:23,  2.36s/it]"
     ]
    },
    {
     "name": "stdout",
     "output_type": "stream",
     "text": [
      "['com.ogoons.halo', 'HALO - BLUELIGHT FILTER', 'HEALTH & FITNESS', 'https://apkcombo.com']\n"
     ]
    },
    {
     "name": "stderr",
     "output_type": "stream",
     "text": [
      " 50%|█████     | 421/836 [17:19<16:21,  2.36s/it]"
     ]
    },
    {
     "name": "stdout",
     "output_type": "stream",
     "text": [
      "['com.oliveyoung', '올리브영', 'SHOPPING', 'https://apkcombo.com']\n"
     ]
    },
    {
     "name": "stderr",
     "output_type": "stream",
     "text": [
      " 50%|█████     | 422/836 [17:22<16:50,  2.44s/it]"
     ]
    },
    {
     "name": "stdout",
     "output_type": "stream",
     "text": [
      "['com.olleh.android.oc2', 'KT 멤버십', 'LIFESTYLE', 'https://apkcombo.com']\n"
     ]
    },
    {
     "name": "stderr",
     "output_type": "stream",
     "text": [
      " 51%|█████     | 423/836 [17:24<16:33,  2.40s/it]"
     ]
    },
    {
     "name": "stdout",
     "output_type": "stream",
     "text": [
      "['com.olulo.kickgoing', 'KICKGOING - ENJOY YOUR MOVE', 'TRAVEL & LOCAL', 'https://apkcombo.com']\n"
     ]
    },
    {
     "name": "stderr",
     "output_type": "stream",
     "text": [
      " 51%|█████     | 424/836 [17:29<20:40,  3.01s/it]"
     ]
    },
    {
     "name": "stdout",
     "output_type": "stream",
     "text": [
      "['com.onue', '오누이 - 전과목 문제풀이 질문, 수학, 입시/진로상담', 'EDUCATION', 'https://apkcombo.com']\n"
     ]
    },
    {
     "name": "stderr",
     "output_type": "stream",
     "text": [
      " 51%|█████     | 425/836 [17:31<18:46,  2.74s/it]"
     ]
    },
    {
     "name": "stdout",
     "output_type": "stream",
     "text": [
      "['com.osp.app.signin', 'SAMSUNG ACCOUNT', 'TOOLS', 'https://apkcombo.com']\n"
     ]
    },
    {
     "name": "stderr",
     "output_type": "stream",
     "text": [
      " 51%|█████     | 426/836 [17:33<17:38,  2.58s/it]"
     ]
    },
    {
     "name": "stdout",
     "output_type": "stream",
     "text": [
      "['com.pallo.passiontimerscoped', 'YPT - YEOLPUMTA', 'EDUCATION', 'https://apkcombo.com']\n"
     ]
    },
    {
     "name": "stderr",
     "output_type": "stream",
     "text": [
      " 51%|█████     | 427/836 [17:35<16:16,  2.39s/it]"
     ]
    },
    {
     "name": "stdout",
     "output_type": "stream",
     "text": [
      "['com.panda.charge', '충전돼지 - 보조배터리 대여(공유) 서비스', 'LIFESTYLE', 'https://apkcombo.com']\n"
     ]
    },
    {
     "name": "stderr",
     "output_type": "stream",
     "text": [
      " 51%|█████     | 428/836 [17:37<16:30,  2.43s/it]"
     ]
    },
    {
     "name": "stdout",
     "output_type": "stream",
     "text": [
      "['com.parksmt.jejuair.android16', 'JEJU AIR', 'TRAVEL & LOCAL', 'https://apkcombo.com']\n"
     ]
    },
    {
     "name": "stderr",
     "output_type": "stream",
     "text": [
      " 51%|█████▏    | 429/836 [17:40<16:26,  2.42s/it]"
     ]
    },
    {
     "name": "stdout",
     "output_type": "stream",
     "text": [
      "['com.paytalab.mkseo.passorder', '패스오더 - 카페 가는 길, 미리주문', 'FOOD & DRINK', 'https://apkcombo.com']\n"
     ]
    },
    {
     "name": "stderr",
     "output_type": "stream",
     "text": [
      " 51%|█████▏    | 430/836 [17:43<17:35,  2.60s/it]"
     ]
    },
    {
     "name": "stdout",
     "output_type": "stream",
     "text": [
      "['com.peace.silentcamera', 'SILENT CAMERA [HIGH QUALITY]', 'PHOTOGRAPHY', 'https://apkcombo.com']\n"
     ]
    },
    {
     "name": "stderr",
     "output_type": "stream",
     "text": [
      " 52%|█████▏    | 431/836 [17:47<19:47,  2.93s/it]"
     ]
    },
    {
     "name": "stdout",
     "output_type": "stream",
     "text": [
      "Error\n",
      "['com.phantomrosegame.phantomrosescarlett', None, None, 'https://apkcombo.com']\n"
     ]
    },
    {
     "name": "stderr",
     "output_type": "stream",
     "text": [
      " 52%|█████▏    | 432/836 [17:51<22:28,  3.34s/it]"
     ]
    },
    {
     "name": "stdout",
     "output_type": "stream",
     "text": [
      "['com.phocamarket', '포카마켓 - 최애포카를 거래하는 가장 빠른 방법', 'ENTERTAINMENT', 'https://apkcombo.com']\n"
     ]
    },
    {
     "name": "stderr",
     "output_type": "stream",
     "text": [
      " 52%|█████▏    | 433/836 [17:53<19:39,  2.93s/it]"
     ]
    },
    {
     "name": "stdout",
     "output_type": "stream",
     "text": [
      "['com.phocamarket.android', '포카마켓', 'ENTERTAINMENT', 'https://apkcombo.com']\n"
     ]
    },
    {
     "name": "stderr",
     "output_type": "stream",
     "text": [
      " 52%|█████▏    | 434/836 [17:55<17:17,  2.58s/it]"
     ]
    },
    {
     "name": "stdout",
     "output_type": "stream",
     "text": [
      "Error\n",
      "['com.picsart.studio', None, None, 'https://apkcombo.com']\n"
     ]
    },
    {
     "name": "stderr",
     "output_type": "stream",
     "text": [
      " 52%|█████▏    | 435/836 [17:57<16:03,  2.40s/it]"
     ]
    },
    {
     "name": "stdout",
     "output_type": "stream",
     "text": [
      "['com.pinterest', 'PINTEREST', 'LIFESTYLE', 'https://apkcombo.com']\n"
     ]
    },
    {
     "name": "stderr",
     "output_type": "stream",
     "text": [
      " 52%|█████▏    | 436/836 [17:59<15:02,  2.26s/it]"
     ]
    },
    {
     "name": "stdout",
     "output_type": "stream",
     "text": [
      "['com.pjsekai.kr', 'PROJECT SEKAI KR', 'MUSIC', 'https://apkcombo.com']\n"
     ]
    },
    {
     "name": "stderr",
     "output_type": "stream",
     "text": [
      " 52%|█████▏    | 437/836 [18:01<14:45,  2.22s/it]"
     ]
    },
    {
     "name": "stdout",
     "output_type": "stream",
     "text": [
      "['com.place5.gawekim', '김과외(대한민국 대표 과외 플랫폼)', 'EDUCATION', 'https://apkcombo.com']\n"
     ]
    },
    {
     "name": "stderr",
     "output_type": "stream",
     "text": [
      " 52%|█████▏    | 438/836 [18:05<18:50,  2.84s/it]"
     ]
    },
    {
     "name": "stdout",
     "output_type": "stream",
     "text": [
      "['com.planteria.plantgram', 'PLANTGRAM', 'LIFESTYLE', 'https://apkcombo.com']\n"
     ]
    },
    {
     "name": "stderr",
     "output_type": "stream",
     "text": [
      " 53%|█████▎    | 439/836 [18:10<22:59,  3.47s/it]"
     ]
    },
    {
     "name": "stdout",
     "output_type": "stream",
     "text": [
      "['com.playrix.gardenscapes', 'GARDENSCAPES', 'CASUAL', 'https://apkcombo.com']\n"
     ]
    },
    {
     "name": "stderr",
     "output_type": "stream",
     "text": [
      " 53%|█████▎    | 440/836 [18:12<20:38,  3.13s/it]"
     ]
    },
    {
     "name": "stdout",
     "output_type": "stream",
     "text": [
      "['com.poncle.vampiresurvivors', 'VAMPIRE SURVIVORS', 'ARCADE', 'https://apkcombo.com']\n"
     ]
    },
    {
     "name": "stderr",
     "output_type": "stream",
     "text": [
      " 53%|█████▎    | 441/836 [18:14<18:45,  2.85s/it]"
     ]
    },
    {
     "name": "stdout",
     "output_type": "stream",
     "text": [
      "['com.project221.app', '무인캡스 (MUIN CAPS)', 'BUSINESS', 'https://apkcombo.com']\n"
     ]
    },
    {
     "name": "stderr",
     "output_type": "stream",
     "text": [
      " 53%|█████▎    | 442/836 [18:17<17:25,  2.65s/it]"
     ]
    },
    {
     "name": "stdout",
     "output_type": "stream",
     "text": [
      "['com.projectjo.ubfdailybread', 'UBF DAILY BREAD', 'EDUCATION', 'https://apkcombo.com']\n"
     ]
    },
    {
     "name": "stderr",
     "output_type": "stream",
     "text": [
      " 53%|█████▎    | 443/836 [18:19<16:26,  2.51s/it]"
     ]
    },
    {
     "name": "stdout",
     "output_type": "stream",
     "text": [
      "['com.quora.android', 'QUORA', 'NEWS & MAGAZINES', 'https://apkcombo.com']\n"
     ]
    },
    {
     "name": "stderr",
     "output_type": "stream",
     "text": [
      " 53%|█████▎    | 444/836 [18:21<15:41,  2.40s/it]"
     ]
    },
    {
     "name": "stdout",
     "output_type": "stream",
     "text": [
      "['com.rainist.banksalad2', '뱅크샐러드', 'FINANCE', 'https://apkcombo.com']\n"
     ]
    },
    {
     "name": "stderr",
     "output_type": "stream",
     "text": [
      " 53%|█████▎    | 445/836 [18:24<15:58,  2.45s/it]"
     ]
    },
    {
     "name": "stdout",
     "output_type": "stream",
     "text": [
      "['com.rarlab.rar', 'RAR', 'TOOLS', 'https://apkcombo.com']\n"
     ]
    },
    {
     "name": "stderr",
     "output_type": "stream",
     "text": [
      " 53%|█████▎    | 446/836 [18:25<14:15,  2.19s/it]"
     ]
    },
    {
     "name": "stdout",
     "output_type": "stream",
     "text": [
      "Error\n",
      "['com.realbyteapps.moneymanagerfree', None, None, 'https://apkcombo.com']\n"
     ]
    },
    {
     "name": "stderr",
     "output_type": "stream",
     "text": [
      " 53%|█████▎    | 447/836 [18:27<14:08,  2.18s/it]"
     ]
    },
    {
     "name": "stdout",
     "output_type": "stream",
     "text": [
      "['com.reddit.frontpage', 'REDDIT', 'SOCIAL', 'https://apkcombo.com']\n"
     ]
    },
    {
     "name": "stderr",
     "output_type": "stream",
     "text": [
      " 54%|█████▎    | 448/836 [18:29<14:08,  2.19s/it]"
     ]
    },
    {
     "name": "stdout",
     "output_type": "stream",
     "text": [
      "['com.rocketpunch.voyager', '로켓펀치 - 비즈니스 네트워킹 & 커뮤니티', 'BUSINESS', 'https://apkcombo.com']\n"
     ]
    },
    {
     "name": "stderr",
     "output_type": "stream",
     "text": [
      " 54%|█████▎    | 449/836 [18:31<13:23,  2.08s/it]"
     ]
    },
    {
     "name": "stdout",
     "output_type": "stream",
     "text": [
      "['com.rovio.baba', 'ANGRY BIRDS 2', 'CASUAL', 'https://apkcombo.com']\n"
     ]
    },
    {
     "name": "stderr",
     "output_type": "stream",
     "text": [
      " 54%|█████▍    | 450/836 [18:33<13:19,  2.07s/it]"
     ]
    },
    {
     "name": "stdout",
     "output_type": "stream",
     "text": [
      "['com.royalturtle.japanesequiz', 'HIRAGANA KATAKANA QUIZ', 'EDUCATION', 'https://apkcombo.com']\n"
     ]
    },
    {
     "name": "stderr",
     "output_type": "stream",
     "text": [
      " 54%|█████▍    | 451/836 [18:35<12:51,  2.00s/it]"
     ]
    },
    {
     "name": "stdout",
     "output_type": "stream",
     "text": [
      "['com.sampleapp', '배달의민족', 'FOOD & DRINK', 'https://apkcombo.com']\n"
     ]
    },
    {
     "name": "stderr",
     "output_type": "stream",
     "text": [
      " 54%|█████▍    | 452/836 [18:37<12:59,  2.03s/it]"
     ]
    },
    {
     "name": "stdout",
     "output_type": "stream",
     "text": [
      "['com.samsung.accessibility', 'SAMSUNG ACCESSIBILITY', 'TOOLS', 'https://apkcombo.com']\n"
     ]
    },
    {
     "name": "stderr",
     "output_type": "stream",
     "text": [
      " 54%|█████▍    | 453/836 [18:39<13:12,  2.07s/it]"
     ]
    },
    {
     "name": "stdout",
     "output_type": "stream",
     "text": [
      "['com.samsung.accessory.atticmgr', 'GALAXY BUDS PRO MANAGER', 'TOOLS', 'https://apkcombo.com']\n"
     ]
    },
    {
     "name": "stderr",
     "output_type": "stream",
     "text": [
      " 54%|█████▍    | 454/836 [18:42<14:08,  2.22s/it]"
     ]
    },
    {
     "name": "stdout",
     "output_type": "stream",
     "text": [
      "['com.samsung.accessory.berrymgr', 'GALAXY BUDS2 MANAGER', 'TOOLS', 'https://apkcombo.com']\n"
     ]
    },
    {
     "name": "stderr",
     "output_type": "stream",
     "text": [
      " 54%|█████▍    | 455/836 [18:44<14:04,  2.22s/it]"
     ]
    },
    {
     "name": "stdout",
     "output_type": "stream",
     "text": [
      "['com.samsung.accessory.fridaymgr', 'GALAXY BUDS MANAGER', 'TOOLS', 'https://apkcombo.com']\n"
     ]
    },
    {
     "name": "stderr",
     "output_type": "stream",
     "text": [
      " 55%|█████▍    | 456/836 [18:46<13:50,  2.19s/it]"
     ]
    },
    {
     "name": "stdout",
     "output_type": "stream",
     "text": [
      "['com.samsung.accessory.neobeanmgr', 'GALAXY BUDS LIVE MANAGER', 'TOOLS', 'https://apkcombo.com']\n"
     ]
    },
    {
     "name": "stderr",
     "output_type": "stream",
     "text": [
      " 55%|█████▍    | 457/836 [18:49<13:56,  2.21s/it]"
     ]
    },
    {
     "name": "stdout",
     "output_type": "stream",
     "text": [
      "['com.samsung.accessory.popcornmgr', 'GALAXY BUDS+ MANAGER', 'TOOLS', 'https://apkcombo.com']\n"
     ]
    },
    {
     "name": "stderr",
     "output_type": "stream",
     "text": [
      " 55%|█████▍    | 458/836 [18:53<18:12,  2.89s/it]"
     ]
    },
    {
     "name": "stdout",
     "output_type": "stream",
     "text": [
      "['com.samsung.accessory.zenithmgr', 'GALAXY BUDS2 PRO MANAGER', 'TOOLS', 'https://apkcombo.com']\n"
     ]
    },
    {
     "name": "stderr",
     "output_type": "stream",
     "text": [
      " 55%|█████▍    | 459/836 [18:55<16:26,  2.62s/it]"
     ]
    },
    {
     "name": "stdout",
     "output_type": "stream",
     "text": [
      "['com.samsung.android.app.aodservice', '[SAMSUNG] ALWAYS ON DISPLAY', 'TOOLS', 'https://apkcombo.com']\n"
     ]
    },
    {
     "name": "stderr",
     "output_type": "stream",
     "text": [
      " 55%|█████▌    | 460/836 [18:57<14:48,  2.36s/it]"
     ]
    },
    {
     "name": "stdout",
     "output_type": "stream",
     "text": [
      "['com.samsung.android.app.appsedge', 'SAMSUNG APPS EDGE', 'TOOLS', 'https://apkcombo.com']\n"
     ]
    },
    {
     "name": "stderr",
     "output_type": "stream",
     "text": [
      " 55%|█████▌    | 461/836 [19:01<18:46,  3.01s/it]"
     ]
    },
    {
     "name": "stdout",
     "output_type": "stream",
     "text": [
      "['com.samsung.android.app.clockface', 'SAMSUNG CLOCKFACE', 'TOOLS', 'https://apkcombo.com']\n"
     ]
    },
    {
     "name": "stderr",
     "output_type": "stream",
     "text": [
      " 55%|█████▌    | 462/836 [19:04<17:25,  2.80s/it]"
     ]
    },
    {
     "name": "stdout",
     "output_type": "stream",
     "text": [
      "['com.samsung.android.app.cocktailbarservice', 'SAMSUNG EDGE SCREEN', 'TOOLS', 'https://apkcombo.com']\n"
     ]
    },
    {
     "name": "stderr",
     "output_type": "stream",
     "text": [
      " 55%|█████▌    | 463/836 [19:06<15:45,  2.53s/it]"
     ]
    },
    {
     "name": "stdout",
     "output_type": "stream",
     "text": [
      "['com.samsung.android.app.contacts', 'SAMSUNG CONTACTS', 'TOOLS', 'https://apkcombo.com']\n"
     ]
    },
    {
     "name": "stderr",
     "output_type": "stream",
     "text": [
      " 56%|█████▌    | 464/836 [19:11<21:11,  3.42s/it]"
     ]
    },
    {
     "name": "stdout",
     "output_type": "stream",
     "text": [
      "['com.samsung.android.app.dofviewer', 'SAMSUNG LIVE FOCUS', 'TOOLS', 'https://apkcombo.com']\n"
     ]
    },
    {
     "name": "stderr",
     "output_type": "stream",
     "text": [
      " 56%|█████▌    | 465/836 [19:13<19:08,  3.10s/it]"
     ]
    },
    {
     "name": "stdout",
     "output_type": "stream",
     "text": [
      "['com.samsung.android.app.dressroom', 'WALLPAPERS', 'TOOLS', 'https://apkcombo.com']\n"
     ]
    },
    {
     "name": "stderr",
     "output_type": "stream",
     "text": [
      " 56%|█████▌    | 466/836 [19:18<22:02,  3.57s/it]"
     ]
    },
    {
     "name": "stdout",
     "output_type": "stream",
     "text": [
      "['com.samsung.android.app.galaxyfinder', 'SAMSUNG FINDER', 'TOOLS', 'https://apkcombo.com']\n"
     ]
    },
    {
     "name": "stderr",
     "output_type": "stream",
     "text": [
      " 56%|█████▌    | 467/836 [19:23<23:37,  3.84s/it]"
     ]
    },
    {
     "name": "stdout",
     "output_type": "stream",
     "text": [
      "['com.samsung.android.app.goodcatch', 'NICE CATCH', 'TOOLS', 'https://apkcombo.com']\n"
     ]
    },
    {
     "name": "stderr",
     "output_type": "stream",
     "text": [
      " 56%|█████▌    | 468/836 [19:25<20:32,  3.35s/it]"
     ]
    },
    {
     "name": "stdout",
     "output_type": "stream",
     "text": [
      "['com.samsung.android.app.homestar', 'HOME UP', 'TOOLS', 'https://apkcombo.com']\n"
     ]
    },
    {
     "name": "stderr",
     "output_type": "stream",
     "text": [
      " 56%|█████▌    | 469/836 [19:27<17:56,  2.93s/it]"
     ]
    },
    {
     "name": "stdout",
     "output_type": "stream",
     "text": [
      "['com.samsung.android.app.notes', 'SAMSUNG NOTES', 'PRODUCTIVITY', 'https://apkcombo.com']\n"
     ]
    },
    {
     "name": "stderr",
     "output_type": "stream",
     "text": [
      " 56%|█████▌    | 470/836 [19:29<16:41,  2.74s/it]"
     ]
    },
    {
     "name": "stdout",
     "output_type": "stream",
     "text": [
      "['com.samsung.android.app.omcagent', 'SAMSUNG CONFIGURATION UPDATE', 'TOOLS', 'https://apkcombo.com']\n"
     ]
    },
    {
     "name": "stderr",
     "output_type": "stream",
     "text": [
      " 56%|█████▋    | 471/836 [19:33<19:05,  3.14s/it]"
     ]
    },
    {
     "name": "stdout",
     "output_type": "stream",
     "text": [
      "['com.samsung.android.app.reminder', 'SAMSUNG REMINDER', 'TOOLS', 'https://apkcombo.com']\n"
     ]
    },
    {
     "name": "stderr",
     "output_type": "stream",
     "text": [
      " 56%|█████▋    | 472/836 [19:35<16:45,  2.76s/it]"
     ]
    },
    {
     "name": "stdout",
     "output_type": "stream",
     "text": [
      "['com.samsung.android.app.routines', 'BIXBY ROUTINES', 'TOOLS', 'https://apkcombo.com']\n"
     ]
    },
    {
     "name": "stderr",
     "output_type": "stream",
     "text": [
      " 57%|█████▋    | 473/836 [19:37<15:10,  2.51s/it]"
     ]
    },
    {
     "name": "stdout",
     "output_type": "stream",
     "text": [
      "['com.samsung.android.app.sharelive', 'QUICK SHARE', 'TOOLS', 'https://apkcombo.com']\n"
     ]
    },
    {
     "name": "stderr",
     "output_type": "stream",
     "text": [
      " 57%|█████▋    | 474/836 [19:39<14:41,  2.43s/it]"
     ]
    },
    {
     "name": "stdout",
     "output_type": "stream",
     "text": [
      "['com.samsung.android.app.smartcapture', 'SAMSUNG CAPTURE', 'TOOLS', 'https://apkcombo.com']\n"
     ]
    },
    {
     "name": "stderr",
     "output_type": "stream",
     "text": [
      " 57%|█████▋    | 475/836 [19:41<13:54,  2.31s/it]"
     ]
    },
    {
     "name": "stdout",
     "output_type": "stream",
     "text": [
      "['com.samsung.android.app.soundpicker', 'SAMSUNG SOUND PICKER', 'TOOLS', 'https://apkcombo.com']\n"
     ]
    },
    {
     "name": "stderr",
     "output_type": "stream",
     "text": [
      " 57%|█████▋    | 476/836 [19:45<17:00,  2.83s/it]"
     ]
    },
    {
     "name": "stdout",
     "output_type": "stream",
     "text": [
      "['com.samsung.android.app.spage', 'BIXBY HOME', 'TOOLS', 'https://apkcombo.com']\n"
     ]
    },
    {
     "name": "stderr",
     "output_type": "stream",
     "text": [
      " 57%|█████▋    | 477/836 [19:47<15:22,  2.57s/it]"
     ]
    },
    {
     "name": "stdout",
     "output_type": "stream",
     "text": [
      "['com.samsung.android.app.telephonyui', 'SAMSUNG CALL SETTINGS', 'TOOLS', 'https://apkcombo.com']\n"
     ]
    },
    {
     "name": "stderr",
     "output_type": "stream",
     "text": [
      " 57%|█████▋    | 478/836 [19:49<13:15,  2.22s/it]"
     ]
    },
    {
     "name": "stdout",
     "output_type": "stream",
     "text": [
      "Error\n",
      "['com.samsung.android.app.tips', None, None, 'https://apkcombo.com']\n"
     ]
    },
    {
     "name": "stderr",
     "output_type": "stream",
     "text": [
      " 57%|█████▋    | 479/836 [19:51<13:16,  2.23s/it]"
     ]
    },
    {
     "name": "stdout",
     "output_type": "stream",
     "text": [
      "['com.samsung.android.app.watchmanager', 'GALAXY WEARABLE', 'TOOLS', 'https://apkcombo.com']\n"
     ]
    },
    {
     "name": "stderr",
     "output_type": "stream",
     "text": [
      " 57%|█████▋    | 480/836 [19:53<12:59,  2.19s/it]"
     ]
    },
    {
     "name": "stdout",
     "output_type": "stream",
     "text": [
      "['com.samsung.android.appbooster', 'SAMSUNG APP BOOSTER', 'TOOLS', 'https://apkcombo.com']\n"
     ]
    },
    {
     "name": "stderr",
     "output_type": "stream",
     "text": [
      " 58%|█████▊    | 481/836 [19:55<12:37,  2.13s/it]"
     ]
    },
    {
     "name": "stdout",
     "output_type": "stream",
     "text": [
      "['com.samsung.android.aremoji', 'SAMSUNG AR EMOJI', 'TOOLS', 'https://apkcombo.com']\n"
     ]
    },
    {
     "name": "stderr",
     "output_type": "stream",
     "text": [
      " 58%|█████▊    | 482/836 [19:57<11:56,  2.02s/it]"
     ]
    },
    {
     "name": "stdout",
     "output_type": "stream",
     "text": [
      "['com.samsung.android.aremojieditor', 'AR EMOJI', 'TOOLS', 'https://apkcombo.com']\n"
     ]
    },
    {
     "name": "stderr",
     "output_type": "stream",
     "text": [
      " 58%|█████▊    | 483/836 [19:59<11:38,  1.98s/it]"
     ]
    },
    {
     "name": "stdout",
     "output_type": "stream",
     "text": [
      "['com.samsung.android.arzone', 'SAMSUNG AR ZONE', 'TOOLS', 'https://apkcombo.com']\n"
     ]
    },
    {
     "name": "stderr",
     "output_type": "stream",
     "text": [
      " 58%|█████▊    | 484/836 [20:01<12:19,  2.10s/it]"
     ]
    },
    {
     "name": "stdout",
     "output_type": "stream",
     "text": [
      "['com.samsung.android.aware.service', 'QUICK SHARE', 'TOOLS', 'https://apkcombo.com']\n"
     ]
    },
    {
     "name": "stderr",
     "output_type": "stream",
     "text": [
      " 58%|█████▊    | 485/836 [20:03<12:03,  2.06s/it]"
     ]
    },
    {
     "name": "stdout",
     "output_type": "stream",
     "text": [
      "['com.samsung.android.bixby.agent', 'BIXBY VOICE', 'LIFESTYLE', 'https://apkcombo.com']\n"
     ]
    },
    {
     "name": "stderr",
     "output_type": "stream",
     "text": [
      " 58%|█████▊    | 486/836 [20:05<12:34,  2.16s/it]"
     ]
    },
    {
     "name": "stdout",
     "output_type": "stream",
     "text": [
      "['com.samsung.android.calendar', 'SAMSUNG CALENDAR', 'PRODUCTIVITY', 'https://apkcombo.com']\n"
     ]
    },
    {
     "name": "stderr",
     "output_type": "stream",
     "text": [
      " 58%|█████▊    | 487/836 [20:07<12:07,  2.09s/it]"
     ]
    },
    {
     "name": "stdout",
     "output_type": "stream",
     "text": [
      "['com.samsung.android.dialer', 'SAMSUNG PHONE', 'TOOLS', 'https://apkcombo.com']\n"
     ]
    },
    {
     "name": "stderr",
     "output_type": "stream",
     "text": [
      " 58%|█████▊    | 488/836 [20:11<15:08,  2.61s/it]"
     ]
    },
    {
     "name": "stdout",
     "output_type": "stream",
     "text": [
      "['com.samsung.android.dynamiclock', 'DYNAMIC LOCKSCREEN', 'TOOLS', 'https://apkcombo.com']\n"
     ]
    },
    {
     "name": "stderr",
     "output_type": "stream",
     "text": [
      " 58%|█████▊    | 489/836 [20:13<14:25,  2.49s/it]"
     ]
    },
    {
     "name": "stdout",
     "output_type": "stream",
     "text": [
      "['com.samsung.android.easysetup', 'SAMSUNG SMARTTHINGS', 'TOOLS', 'https://apkcombo.com']\n"
     ]
    },
    {
     "name": "stderr",
     "output_type": "stream",
     "text": [
      " 59%|█████▊    | 490/836 [20:16<13:57,  2.42s/it]"
     ]
    },
    {
     "name": "stdout",
     "output_type": "stream",
     "text": [
      "['com.samsung.android.email.provider', 'SAMSUNG EMAIL', 'PRODUCTIVITY', 'https://apkcombo.com']\n"
     ]
    },
    {
     "name": "stderr",
     "output_type": "stream",
     "text": [
      " 59%|█████▊    | 491/836 [20:17<13:08,  2.29s/it]"
     ]
    },
    {
     "name": "stdout",
     "output_type": "stream",
     "text": [
      "['com.samsung.android.emergency', 'EMERGENCY SOS', 'TOOLS', 'https://apkcombo.com']\n"
     ]
    },
    {
     "name": "stderr",
     "output_type": "stream",
     "text": [
      " 59%|█████▉    | 492/836 [20:22<16:18,  2.84s/it]"
     ]
    },
    {
     "name": "stdout",
     "output_type": "stream",
     "text": [
      "['com.samsung.android.fast', 'SAMSUNG SECURE WI-FI', 'TOOLS', 'https://apkcombo.com']\n"
     ]
    },
    {
     "name": "stderr",
     "output_type": "stream",
     "text": [
      " 59%|█████▉    | 493/836 [20:24<14:56,  2.61s/it]"
     ]
    },
    {
     "name": "stdout",
     "output_type": "stream",
     "text": [
      "['com.samsung.android.fmm', 'SAMSUNG FIND MY MOBILE', 'TOOLS', 'https://apkcombo.com']\n"
     ]
    },
    {
     "name": "stderr",
     "output_type": "stream",
     "text": [
      " 59%|█████▉    | 494/836 [20:26<13:39,  2.40s/it]"
     ]
    },
    {
     "name": "stdout",
     "output_type": "stream",
     "text": [
      "['com.samsung.android.forest', 'DIGITAL WELLBEING & PARENTAL CONTROLS', 'TOOLS', 'https://apkcombo.com']\n"
     ]
    },
    {
     "name": "stderr",
     "output_type": "stream",
     "text": [
      " 59%|█████▉    | 495/836 [20:28<13:10,  2.32s/it]"
     ]
    },
    {
     "name": "stdout",
     "output_type": "stream",
     "text": [
      "['com.samsung.android.galaxy', 'GALAXY SHOP', 'TOOLS', 'https://apkcombo.com']\n"
     ]
    },
    {
     "name": "stderr",
     "output_type": "stream",
     "text": [
      " 59%|█████▉    | 496/836 [20:30<12:41,  2.24s/it]"
     ]
    },
    {
     "name": "stdout",
     "output_type": "stream",
     "text": [
      "['com.samsung.android.galaxycontinuity', 'SAMSUNG FLOW', 'PRODUCTIVITY', 'https://apkcombo.com']\n"
     ]
    },
    {
     "name": "stderr",
     "output_type": "stream",
     "text": [
      " 59%|█████▉    | 497/836 [20:32<12:01,  2.13s/it]"
     ]
    },
    {
     "name": "stdout",
     "output_type": "stream",
     "text": [
      "['com.samsung.android.game.gamehome', 'SAMSUNG GAME LAUNCHER', 'TOOLS', 'https://apkcombo.com']\n"
     ]
    },
    {
     "name": "stderr",
     "output_type": "stream",
     "text": [
      " 60%|█████▉    | 498/836 [20:33<11:27,  2.03s/it]"
     ]
    },
    {
     "name": "stdout",
     "output_type": "stream",
     "text": [
      "['com.samsung.android.game.gametools', 'SAMSUNG GAME BOOSTER', 'TOOLS', 'https://apkcombo.com']\n"
     ]
    },
    {
     "name": "stderr",
     "output_type": "stream",
     "text": [
      " 60%|█████▉    | 499/836 [20:35<11:13,  2.00s/it]"
     ]
    },
    {
     "name": "stdout",
     "output_type": "stream",
     "text": [
      "['com.samsung.android.goodlock', 'GOOD LOCK', 'PERSONALIZATION', 'https://apkcombo.com']\n"
     ]
    },
    {
     "name": "stderr",
     "output_type": "stream",
     "text": [
      " 60%|█████▉    | 500/836 [20:38<11:25,  2.04s/it]"
     ]
    },
    {
     "name": "stdout",
     "output_type": "stream",
     "text": [
      "['com.samsung.android.heartplugin', 'GALAXY WATCH5 PLUGIN', 'TOOLS', 'https://apkcombo.com']\n"
     ]
    },
    {
     "name": "stderr",
     "output_type": "stream",
     "text": [
      " 60%|█████▉    | 501/836 [20:40<12:21,  2.21s/it]"
     ]
    },
    {
     "name": "stdout",
     "output_type": "stream",
     "text": [
      "['com.samsung.android.honeyboard', 'HONEY BOARD', 'TOOLS', 'https://apkcombo.com']\n"
     ]
    },
    {
     "name": "stderr",
     "output_type": "stream",
     "text": [
      " 60%|██████    | 502/836 [20:43<12:54,  2.32s/it]"
     ]
    },
    {
     "name": "stdout",
     "output_type": "stream",
     "text": [
      "['com.samsung.android.incallui', 'SAMSUNG CALL', 'TOOLS', 'https://apkcombo.com']\n"
     ]
    },
    {
     "name": "stderr",
     "output_type": "stream",
     "text": [
      " 60%|██████    | 503/836 [20:45<12:21,  2.23s/it]"
     ]
    },
    {
     "name": "stdout",
     "output_type": "stream",
     "text": [
      "['com.samsung.android.lool', 'SAMSUNG DEVICE CARE', 'TOOLS', 'https://apkcombo.com']\n"
     ]
    },
    {
     "name": "stderr",
     "output_type": "stream",
     "text": [
      " 60%|██████    | 504/836 [20:47<12:01,  2.17s/it]"
     ]
    },
    {
     "name": "stdout",
     "output_type": "stream",
     "text": [
      "['com.samsung.android.mdecservice', 'CALL & MESSAGE CONTINUITY', 'TOOLS', 'https://apkcombo.com']\n"
     ]
    },
    {
     "name": "stderr",
     "output_type": "stream",
     "text": [
      " 60%|██████    | 505/836 [20:51<15:29,  2.81s/it]"
     ]
    },
    {
     "name": "stdout",
     "output_type": "stream",
     "text": [
      "['com.samsung.android.mdx', 'LINK TO WINDOWS SERVICE', 'TOOLS', 'https://apkcombo.com']\n"
     ]
    },
    {
     "name": "stderr",
     "output_type": "stream",
     "text": [
      " 61%|██████    | 506/836 [20:53<14:09,  2.57s/it]"
     ]
    },
    {
     "name": "stdout",
     "output_type": "stream",
     "text": [
      "['com.samsung.android.mdx.quickboard', 'MEDIA AND DEVICES', 'TOOLS', 'https://apkcombo.com']\n"
     ]
    },
    {
     "name": "stderr",
     "output_type": "stream",
     "text": [
      " 61%|██████    | 507/836 [20:55<13:02,  2.38s/it]"
     ]
    },
    {
     "name": "stdout",
     "output_type": "stream",
     "text": [
      "['com.samsung.android.messaging', 'SAMSUNG MESSAGES', 'COMMUNICATION', 'https://apkcombo.com']\n"
     ]
    },
    {
     "name": "stderr",
     "output_type": "stream",
     "text": [
      " 61%|██████    | 508/836 [20:59<15:00,  2.75s/it]"
     ]
    },
    {
     "name": "stdout",
     "output_type": "stream",
     "text": [
      "['com.samsung.android.mobileservice', 'GROUP SHARING', 'TOOLS', 'https://apkcombo.com']\n"
     ]
    },
    {
     "name": "stderr",
     "output_type": "stream",
     "text": [
      " 61%|██████    | 509/836 [21:00<13:30,  2.48s/it]"
     ]
    },
    {
     "name": "stdout",
     "output_type": "stream",
     "text": [
      "['com.samsung.android.mtp', 'MTP APPLICATION', 'TOOLS', 'https://apkcombo.com']\n"
     ]
    },
    {
     "name": "stderr",
     "output_type": "stream",
     "text": [
      " 61%|██████    | 510/836 [21:05<16:02,  2.95s/it]"
     ]
    },
    {
     "name": "stdout",
     "output_type": "stream",
     "text": [
      "['com.samsung.android.multistar', 'SAMSUNG MULTISTAR', 'TOOLS', 'https://apkcombo.com']\n"
     ]
    },
    {
     "name": "stderr",
     "output_type": "stream",
     "text": [
      " 61%|██████    | 511/836 [21:06<13:36,  2.51s/it]"
     ]
    },
    {
     "name": "stdout",
     "output_type": "stream",
     "text": [
      "Error\n",
      "['com.samsung.android.net.wifi.wifiguider', None, None, 'https://apkcombo.com']\n"
     ]
    },
    {
     "name": "stderr",
     "output_type": "stream",
     "text": [
      " 61%|██████    | 512/836 [21:08<13:01,  2.41s/it]"
     ]
    },
    {
     "name": "stdout",
     "output_type": "stream",
     "text": [
      "['com.samsung.android.oneconnect', 'SMARTTHINGS', 'LIFESTYLE', 'https://apkcombo.com']\n"
     ]
    },
    {
     "name": "stderr",
     "output_type": "stream",
     "text": [
      " 61%|██████▏   | 513/836 [21:10<12:43,  2.37s/it]"
     ]
    },
    {
     "name": "stdout",
     "output_type": "stream",
     "text": [
      "['com.samsung.android.qstuner', 'SAMSUNG QUICKSTAR', 'TOOLS', 'https://apkcombo.com']\n"
     ]
    },
    {
     "name": "stderr",
     "output_type": "stream",
     "text": [
      " 61%|██████▏   | 514/836 [21:13<12:28,  2.32s/it]"
     ]
    },
    {
     "name": "stdout",
     "output_type": "stream",
     "text": [
      "['com.samsung.android.ruler', 'QUICK MEASURE', 'TOOLS', 'https://apkcombo.com']\n"
     ]
    },
    {
     "name": "stderr",
     "output_type": "stream",
     "text": [
      " 62%|██████▏   | 515/836 [21:15<12:13,  2.28s/it]"
     ]
    },
    {
     "name": "stdout",
     "output_type": "stream",
     "text": [
      "['com.samsung.android.samsungpass', 'SAMSUNG PASS', 'TOOLS', 'https://apkcombo.com']\n"
     ]
    },
    {
     "name": "stderr",
     "output_type": "stream",
     "text": [
      " 62%|██████▏   | 516/836 [21:19<14:46,  2.77s/it]"
     ]
    },
    {
     "name": "stdout",
     "output_type": "stream",
     "text": [
      "['com.samsung.android.samsungpassautofill', 'AUTOFILL WITH SAMSUNG PASS', 'TOOLS', 'https://apkcombo.com']\n"
     ]
    },
    {
     "name": "stderr",
     "output_type": "stream",
     "text": [
      " 62%|██████▏   | 517/836 [21:21<13:36,  2.56s/it]"
     ]
    },
    {
     "name": "stdout",
     "output_type": "stream",
     "text": [
      "['com.samsung.android.scloud', 'SAMSUNG CLOUD FOR WEAR OS', 'PRODUCTIVITY', 'https://apkcombo.com']\n"
     ]
    },
    {
     "name": "stderr",
     "output_type": "stream",
     "text": [
      " 62%|██████▏   | 518/836 [21:23<12:47,  2.41s/it]"
     ]
    },
    {
     "name": "stdout",
     "output_type": "stream",
     "text": [
      "['com.samsung.android.secsoundpicker', 'SECSOUNDPICKER', 'TOOLS', 'https://apkcombo.com']\n"
     ]
    },
    {
     "name": "stderr",
     "output_type": "stream",
     "text": [
      " 62%|██████▏   | 519/836 [21:25<11:54,  2.25s/it]"
     ]
    },
    {
     "name": "stdout",
     "output_type": "stream",
     "text": [
      "['com.samsung.android.service.aircommand', 'SAMSUNG AIR COMMAND', 'TOOLS', 'https://apkcombo.com']\n"
     ]
    },
    {
     "name": "stderr",
     "output_type": "stream",
     "text": [
      " 62%|██████▏   | 520/836 [21:29<14:39,  2.78s/it]"
     ]
    },
    {
     "name": "stdout",
     "output_type": "stream",
     "text": [
      "['com.samsung.android.service.tagservice', 'TAGS', 'TOOLS', 'https://apkcombo.com']\n"
     ]
    },
    {
     "name": "stderr",
     "output_type": "stream",
     "text": [
      " 62%|██████▏   | 521/836 [21:31<13:49,  2.63s/it]"
     ]
    },
    {
     "name": "stdout",
     "output_type": "stream",
     "text": [
      "['com.samsung.android.sidegesturepad', 'ONE HAND OPERATION +', 'TOOLS', 'https://apkcombo.com']\n"
     ]
    },
    {
     "name": "stderr",
     "output_type": "stream",
     "text": [
      " 62%|██████▏   | 522/836 [21:33<13:05,  2.50s/it]"
     ]
    },
    {
     "name": "stdout",
     "output_type": "stream",
     "text": [
      "['com.samsung.android.smartmirroring', 'SAMSUNG SMART VIEW', 'TOOLS', 'https://apkcombo.com']\n"
     ]
    },
    {
     "name": "stderr",
     "output_type": "stream",
     "text": [
      " 63%|██████▎   | 523/836 [21:37<15:36,  2.99s/it]"
     ]
    },
    {
     "name": "stdout",
     "output_type": "stream",
     "text": [
      "['com.samsung.android.smartsuggestions', 'SAMSUNGSMARTSUGGESTIONS', 'TOOLS', 'https://apkcombo.com']\n"
     ]
    },
    {
     "name": "stderr",
     "output_type": "stream",
     "text": [
      " 63%|██████▎   | 524/836 [21:40<14:10,  2.72s/it]"
     ]
    },
    {
     "name": "stdout",
     "output_type": "stream",
     "text": [
      "['com.samsung.android.soundassistant', 'SOUNDASSISTANT', 'MUSIC & AUDIO', 'https://apkcombo.com']\n"
     ]
    },
    {
     "name": "stderr",
     "output_type": "stream",
     "text": [
      " 63%|██████▎   | 525/836 [21:42<13:03,  2.52s/it]"
     ]
    },
    {
     "name": "stdout",
     "output_type": "stream",
     "text": [
      "['com.samsung.android.spay', 'SAMSUNG WALLET', 'LIFESTYLE', 'https://apkcombo.com']\n"
     ]
    },
    {
     "name": "stderr",
     "output_type": "stream",
     "text": [
      " 63%|██████▎   | 526/836 [21:43<12:07,  2.35s/it]"
     ]
    },
    {
     "name": "stdout",
     "output_type": "stream",
     "text": [
      "['com.samsung.android.svoiceime', 'SAMSUNG VOICE INPUT', 'TOOLS', 'https://apkcombo.com']\n"
     ]
    },
    {
     "name": "stderr",
     "output_type": "stream",
     "text": [
      " 63%|██████▎   | 527/836 [21:46<11:52,  2.31s/it]"
     ]
    },
    {
     "name": "stdout",
     "output_type": "stream",
     "text": [
      "['com.samsung.android.themedesigner', 'SAMSUNG THEME PARK', 'TOOLS', 'https://apkcombo.com']\n"
     ]
    },
    {
     "name": "stderr",
     "output_type": "stream",
     "text": [
      " 63%|██████▎   | 528/836 [21:48<11:35,  2.26s/it]"
     ]
    },
    {
     "name": "stdout",
     "output_type": "stream",
     "text": [
      "['com.samsung.android.themestore', 'GALAXY THEMES', 'TOOLS', 'https://apkcombo.com']\n"
     ]
    },
    {
     "name": "stderr",
     "output_type": "stream",
     "text": [
      " 63%|██████▎   | 529/836 [21:50<11:06,  2.17s/it]"
     ]
    },
    {
     "name": "stdout",
     "output_type": "stream",
     "text": [
      "['com.samsung.android.video', 'SAMSUNG VIDEO PLAYER', 'TOOLS', 'https://apkcombo.com']\n"
     ]
    },
    {
     "name": "stderr",
     "output_type": "stream",
     "text": [
      " 63%|██████▎   | 530/836 [21:52<10:39,  2.09s/it]"
     ]
    },
    {
     "name": "stdout",
     "output_type": "stream",
     "text": [
      "['com.samsung.android.visionintelligence', 'BIXBY VISION', 'PHOTOGRAPHY', 'https://apkcombo.com']\n"
     ]
    },
    {
     "name": "stderr",
     "output_type": "stream",
     "text": [
      " 64%|██████▎   | 531/836 [21:54<11:36,  2.28s/it]"
     ]
    },
    {
     "name": "stdout",
     "output_type": "stream",
     "text": [
      "['com.samsung.android.voc', 'SAMSUNG MEMBERS', 'TOOLS', 'https://apkcombo.com']\n"
     ]
    },
    {
     "name": "stderr",
     "output_type": "stream",
     "text": [
      " 64%|██████▎   | 532/836 [21:57<11:12,  2.21s/it]"
     ]
    },
    {
     "name": "stdout",
     "output_type": "stream",
     "text": [
      "['com.samsung.android.waterplugin', 'GALAXY WATCH4 PLUGIN', 'TOOLS', 'https://apkcombo.com']\n"
     ]
    },
    {
     "name": "stderr",
     "output_type": "stream",
     "text": [
      " 64%|██████▍   | 533/836 [21:58<10:34,  2.09s/it]"
     ]
    },
    {
     "name": "stdout",
     "output_type": "stream",
     "text": [
      "['com.samsung.android.wonderland.wallpaper', 'WONDERLAND', 'TOOLS', 'https://apkcombo.com']\n"
     ]
    },
    {
     "name": "stderr",
     "output_type": "stream",
     "text": [
      " 64%|██████▍   | 534/836 [22:03<13:59,  2.78s/it]"
     ]
    },
    {
     "name": "stdout",
     "output_type": "stream",
     "text": [
      "['com.samsung.app.newtrim', 'SAMSUNG VIDEO TRIMMER', 'TOOLS', 'https://apkcombo.com']\n"
     ]
    },
    {
     "name": "stderr",
     "output_type": "stream",
     "text": [
      " 64%|██████▍   | 535/836 [22:05<13:36,  2.71s/it]"
     ]
    },
    {
     "name": "stdout",
     "output_type": "stream",
     "text": [
      "['com.samsung.controlpanel', 'FLEX MODE PANEL', 'TOOLS', 'https://apkcombo.com']\n"
     ]
    },
    {
     "name": "stderr",
     "output_type": "stream",
     "text": [
      " 64%|██████▍   | 536/836 [22:08<12:53,  2.58s/it]"
     ]
    },
    {
     "name": "stdout",
     "output_type": "stream",
     "text": [
      "['com.samsung.dropship_client', 'DROPSHIP', 'TOOLS', 'https://apkcombo.com']\n"
     ]
    },
    {
     "name": "stderr",
     "output_type": "stream",
     "text": [
      " 64%|██████▍   | 537/836 [22:10<12:39,  2.54s/it]"
     ]
    },
    {
     "name": "stdout",
     "output_type": "stream",
     "text": [
      "['com.samsung.everland.android.mobileapp', 'EVERLAND', 'TRAVEL & LOCAL', 'https://apkcombo.com']\n"
     ]
    },
    {
     "name": "stderr",
     "output_type": "stream",
     "text": [
      " 64%|██████▍   | 538/836 [22:14<14:23,  2.90s/it]"
     ]
    },
    {
     "name": "stdout",
     "output_type": "stream",
     "text": [
      "Error\n",
      "['com.samsung.familynetmall', None, None, 'https://apkcombo.com']\n"
     ]
    },
    {
     "name": "stderr",
     "output_type": "stream",
     "text": [
      " 64%|██████▍   | 539/836 [22:16<13:17,  2.68s/it]"
     ]
    },
    {
     "name": "stdout",
     "output_type": "stream",
     "text": [
      "['com.samsung.knox.securefolder', 'SECURE FOLDER', 'BUSINESS', 'https://apkcombo.com']\n"
     ]
    },
    {
     "name": "stderr",
     "output_type": "stream",
     "text": [
      " 65%|██████▍   | 540/836 [22:18<12:56,  2.62s/it]"
     ]
    },
    {
     "name": "stdout",
     "output_type": "stream",
     "text": [
      "['com.samsung.sec.android.galaxycampus', '갤럭시 캠퍼스 스토어', 'SHOPPING', 'https://apkcombo.com']\n"
     ]
    },
    {
     "name": "stderr",
     "output_type": "stream",
     "text": [
      " 65%|██████▍   | 541/836 [22:21<12:28,  2.54s/it]"
     ]
    },
    {
     "name": "stdout",
     "output_type": "stream",
     "text": [
      "['com.samsung.ssmobile', '삼성복지포탈', 'LIFESTYLE', 'https://apkcombo.com']\n"
     ]
    },
    {
     "name": "stderr",
     "output_type": "stream",
     "text": [
      " 65%|██████▍   | 542/836 [22:23<11:54,  2.43s/it]"
     ]
    },
    {
     "name": "stdout",
     "output_type": "stream",
     "text": [
      "['com.samsung.systemui.navillera', 'SAMSUNG NAVSTAR', 'TOOLS', 'https://apkcombo.com']\n"
     ]
    },
    {
     "name": "stderr",
     "output_type": "stream",
     "text": [
      " 65%|██████▍   | 543/836 [22:25<11:00,  2.25s/it]"
     ]
    },
    {
     "name": "stdout",
     "output_type": "stream",
     "text": [
      "['com.samsung.systemui.notilus', 'SAMSUNG NOTISTAR', 'TOOLS', 'https://apkcombo.com']\n"
     ]
    },
    {
     "name": "stderr",
     "output_type": "stream",
     "text": [
      " 65%|██████▌   | 544/836 [22:27<11:27,  2.35s/it]"
     ]
    },
    {
     "name": "stdout",
     "output_type": "stream",
     "text": [
      "['com.samsungpop.android.mpop', '삼성증권 MPOP', 'FINANCE', 'https://apkcombo.com']\n"
     ]
    },
    {
     "name": "stderr",
     "output_type": "stream",
     "text": [
      " 65%|██████▌   | 545/836 [22:32<14:44,  3.04s/it]"
     ]
    },
    {
     "name": "stdout",
     "output_type": "stream",
     "text": [
      "['com.sapzaru.directstock', '증권 바로가기', 'FINANCE', 'https://apkcombo.com']\n"
     ]
    },
    {
     "name": "stderr",
     "output_type": "stream",
     "text": [
      " 65%|██████▌   | 546/836 [22:34<12:35,  2.61s/it]"
     ]
    },
    {
     "name": "stdout",
     "output_type": "stream",
     "text": [
      "Error\n",
      "['com.satisfyer.connect', None, None, 'https://apkcombo.com']\n"
     ]
    },
    {
     "name": "stderr",
     "output_type": "stream",
     "text": [
      " 65%|██████▌   | 547/836 [22:36<11:57,  2.48s/it]"
     ]
    },
    {
     "name": "stdout",
     "output_type": "stream",
     "text": [
      "['com.schoolapps.alarm', '이어 알람 (이어폰 알람, 독서실 알람, 낮잠 알람)', 'LIFESTYLE', 'https://apkcombo.com']\n"
     ]
    },
    {
     "name": "stderr",
     "output_type": "stream",
     "text": [
      " 66%|██████▌   | 548/836 [22:38<11:16,  2.35s/it]"
     ]
    },
    {
     "name": "stdout",
     "output_type": "stream",
     "text": [
      "['com.sec.android.app.camera', 'SAMSUNG CAMERA', 'PHOTOGRAPHY', 'https://apkcombo.com']\n"
     ]
    },
    {
     "name": "stderr",
     "output_type": "stream",
     "text": [
      " 66%|██████▌   | 549/836 [22:40<10:28,  2.19s/it]"
     ]
    },
    {
     "name": "stdout",
     "output_type": "stream",
     "text": [
      "['com.sec.android.app.clockpackage', 'CLOCK', 'TOOLS', 'https://apkcombo.com']\n"
     ]
    },
    {
     "name": "stderr",
     "output_type": "stream",
     "text": [
      " 66%|██████▌   | 550/836 [22:42<10:04,  2.12s/it]"
     ]
    },
    {
     "name": "stdout",
     "output_type": "stream",
     "text": [
      "['com.sec.android.app.fm', 'SAMSUNG RADIO', 'TOOLS', 'https://apkcombo.com']\n"
     ]
    },
    {
     "name": "stderr",
     "output_type": "stream",
     "text": [
      " 66%|██████▌   | 551/836 [22:44<09:51,  2.07s/it]"
     ]
    },
    {
     "name": "stdout",
     "output_type": "stream",
     "text": [
      "['com.sec.android.app.launcher', 'SAMSUNG ONE UI HOME', 'PERSONALIZATION', 'https://apkcombo.com']\n"
     ]
    },
    {
     "name": "stderr",
     "output_type": "stream",
     "text": [
      " 66%|██████▌   | 552/836 [22:45<09:34,  2.02s/it]"
     ]
    },
    {
     "name": "stdout",
     "output_type": "stream",
     "text": [
      "['com.sec.android.app.music', 'SAMSUNG MUSIC', 'MUSIC & AUDIO', 'https://apkcombo.com']\n"
     ]
    },
    {
     "name": "stderr",
     "output_type": "stream",
     "text": [
      " 66%|██████▌   | 553/836 [22:47<09:07,  1.94s/it]"
     ]
    },
    {
     "name": "stdout",
     "output_type": "stream",
     "text": [
      "['com.sec.android.app.myfiles', 'SAMSUNG MY FILES', 'TOOLS', 'https://apkcombo.com']\n"
     ]
    },
    {
     "name": "stderr",
     "output_type": "stream",
     "text": [
      " 66%|██████▋   | 554/836 [22:49<09:32,  2.03s/it]"
     ]
    },
    {
     "name": "stdout",
     "output_type": "stream",
     "text": [
      "['com.sec.android.app.popupcalculator', 'SAMSUNG CALCULATOR', 'TOOLS', 'https://apkcombo.com']\n"
     ]
    },
    {
     "name": "stderr",
     "output_type": "stream",
     "text": [
      " 66%|██████▋   | 555/836 [22:52<09:35,  2.05s/it]"
     ]
    },
    {
     "name": "stdout",
     "output_type": "stream",
     "text": [
      "['com.sec.android.app.samsungapps', 'GALAXY STORE', 'ENTERTAINMENT', 'https://apkcombo.com']\n"
     ]
    },
    {
     "name": "stderr",
     "output_type": "stream",
     "text": [
      " 67%|██████▋   | 556/836 [22:53<09:10,  1.97s/it]"
     ]
    },
    {
     "name": "stdout",
     "output_type": "stream",
     "text": [
      "['com.sec.android.app.sbrowser', 'SAMSUNG INTERNET', 'COMMUNICATION', 'https://apkcombo.com']\n"
     ]
    },
    {
     "name": "stderr",
     "output_type": "stream",
     "text": [
      " 67%|██████▋   | 557/836 [22:58<12:18,  2.65s/it]"
     ]
    },
    {
     "name": "stdout",
     "output_type": "stream",
     "text": [
      "Error\n",
      "['com.sec.android.app.sbrowser.webapk.w5039d203198eaf4cd3d2420d36313dfa1', None, None, 'https://apkcombo.com']\n"
     ]
    },
    {
     "name": "stderr",
     "output_type": "stream",
     "text": [
      " 67%|██████▋   | 558/836 [23:01<14:01,  3.03s/it]"
     ]
    },
    {
     "name": "stdout",
     "output_type": "stream",
     "text": [
      "Error\n",
      "['com.sec.android.app.sbrowser.webapk.wb897b1db2dcd55ad37d0151e731871fc1', None, None, 'https://apkcombo.com']\n"
     ]
    },
    {
     "name": "stderr",
     "output_type": "stream",
     "text": [
      " 67%|██████▋   | 559/836 [23:03<12:10,  2.64s/it]"
     ]
    },
    {
     "name": "stdout",
     "output_type": "stream",
     "text": [
      "['com.sec.android.app.shealth', 'SAMSUNG HEALTH', 'HEALTH & FITNESS', 'https://apkcombo.com']\n"
     ]
    },
    {
     "name": "stderr",
     "output_type": "stream",
     "text": [
      " 67%|██████▋   | 560/836 [23:05<11:01,  2.40s/it]"
     ]
    },
    {
     "name": "stdout",
     "output_type": "stream",
     "text": [
      "['com.sec.android.app.soundalive', 'SAMSUNG SOUNDALIVE', 'MUSIC & AUDIO', 'https://apkcombo.com']\n"
     ]
    },
    {
     "name": "stderr",
     "output_type": "stream",
     "text": [
      " 67%|██████▋   | 561/836 [23:07<10:20,  2.26s/it]"
     ]
    },
    {
     "name": "stdout",
     "output_type": "stream",
     "text": [
      "['com.sec.android.app.vepreload', 'VIDEO EDITOR LITE', 'TOOLS', 'https://apkcombo.com']\n"
     ]
    },
    {
     "name": "stderr",
     "output_type": "stream",
     "text": [
      " 67%|██████▋   | 562/836 [23:09<10:31,  2.30s/it]"
     ]
    },
    {
     "name": "stdout",
     "output_type": "stream",
     "text": [
      "['com.sec.android.app.voicenote', 'SAMSUNG VOICE RECORDER', 'TOOLS', 'https://apkcombo.com']\n"
     ]
    },
    {
     "name": "stderr",
     "output_type": "stream",
     "text": [
      " 67%|██████▋   | 563/836 [23:11<10:12,  2.24s/it]"
     ]
    },
    {
     "name": "stdout",
     "output_type": "stream",
     "text": [
      "['com.sec.android.daemonapp', 'SAMSUNG WEATHER', 'WEATHER', 'https://apkcombo.com']\n"
     ]
    },
    {
     "name": "stderr",
     "output_type": "stream",
     "text": [
      " 67%|██████▋   | 564/836 [23:17<14:00,  3.09s/it]"
     ]
    },
    {
     "name": "stdout",
     "output_type": "stream",
     "text": [
      "['com.sec.android.easymover', 'SMART SWITCH', 'TOOLS', 'https://apkcombo.com']\n"
     ]
    },
    {
     "name": "stderr",
     "output_type": "stream",
     "text": [
      " 68%|██████▊   | 565/836 [23:18<12:10,  2.69s/it]"
     ]
    },
    {
     "name": "stdout",
     "output_type": "stream",
     "text": [
      "['com.sec.android.gallery3d', 'SAMSUNG GALLERY', 'PHOTOGRAPHY', 'https://apkcombo.com']\n"
     ]
    },
    {
     "name": "stderr",
     "output_type": "stream",
     "text": [
      " 68%|██████▊   | 566/836 [23:21<11:30,  2.56s/it]"
     ]
    },
    {
     "name": "stdout",
     "output_type": "stream",
     "text": [
      "['com.sec.android.inputmethod', 'SAMSUNG KEYBOARD', 'PRODUCTIVITY', 'https://apkcombo.com']\n"
     ]
    },
    {
     "name": "stderr",
     "output_type": "stream",
     "text": [
      " 68%|██████▊   | 567/836 [23:23<11:20,  2.53s/it]"
     ]
    },
    {
     "name": "stdout",
     "output_type": "stream",
     "text": [
      "['com.sec.android.mimage.photoretouching', 'PHOTO EDITOR', 'PHOTOGRAPHY', 'https://apkcombo.com']\n"
     ]
    },
    {
     "name": "stderr",
     "output_type": "stream",
     "text": [
      " 68%|██████▊   | 568/836 [23:28<14:02,  3.14s/it]"
     ]
    },
    {
     "name": "stdout",
     "output_type": "stream",
     "text": [
      "['com.selabs.speak', 'SPEAK - LANGUAGE LEARNING', 'EDUCATION', 'https://apkcombo.com']\n"
     ]
    },
    {
     "name": "stderr",
     "output_type": "stream",
     "text": [
      " 68%|██████▊   | 569/836 [23:33<16:40,  3.75s/it]"
     ]
    },
    {
     "name": "stdout",
     "output_type": "stream",
     "text": [
      "['com.seowoo.msaber.kaist', 'KAIST AUTH', 'PRODUCTIVITY', 'https://apkcombo.com']\n"
     ]
    },
    {
     "name": "stderr",
     "output_type": "stream",
     "text": [
      " 68%|██████▊   | 570/836 [23:35<14:23,  3.25s/it]"
     ]
    },
    {
     "name": "stdout",
     "output_type": "stream",
     "text": [
      "['com.shazam.android', 'SHAZAM', 'MUSIC & AUDIO', 'https://apkcombo.com']\n"
     ]
    },
    {
     "name": "stderr",
     "output_type": "stream",
     "text": [
      " 68%|██████▊   | 571/836 [23:37<13:24,  3.04s/it]"
     ]
    },
    {
     "name": "stdout",
     "output_type": "stream",
     "text": [
      "['com.shinhan.sbanking', '신한 SOL뱅크-신한은행 스마트폰 뱅킹', 'FINANCE', 'https://apkcombo.com']\n"
     ]
    },
    {
     "name": "stderr",
     "output_type": "stream",
     "text": [
      " 68%|██████▊   | 572/836 [23:40<12:26,  2.83s/it]"
     ]
    },
    {
     "name": "stdout",
     "output_type": "stream",
     "text": [
      "['com.shinhaninvest.nsmts', '신한 SOL증권 - 대표MTS', 'FINANCE', 'https://apkcombo.com']\n"
     ]
    },
    {
     "name": "stderr",
     "output_type": "stream",
     "text": [
      " 69%|██████▊   | 573/836 [23:42<11:29,  2.62s/it]"
     ]
    },
    {
     "name": "stdout",
     "output_type": "stream",
     "text": [
      "['com.simpler.more.silencecamera', '무음 카메라로', 'TOOLS', 'https://apkcombo.com']\n"
     ]
    },
    {
     "name": "stderr",
     "output_type": "stream",
     "text": [
      " 69%|██████▊   | 574/836 [23:44<10:55,  2.50s/it]"
     ]
    },
    {
     "name": "stdout",
     "output_type": "stream",
     "text": [
      "['com.simplidget.jot', 'JOT - NOTES WIDGET', 'PRODUCTIVITY', 'https://apkcombo.com']\n"
     ]
    },
    {
     "name": "stderr",
     "output_type": "stream",
     "text": [
      " 69%|██████▉   | 575/836 [23:46<10:34,  2.43s/it]"
     ]
    },
    {
     "name": "stdout",
     "output_type": "stream",
     "text": [
      "['com.sk.redconnect', '레드커넥트 - 300만 헌혈자를 위한 공식 헌혈 앱', 'LIFESTYLE', 'https://apkcombo.com']\n"
     ]
    },
    {
     "name": "stderr",
     "output_type": "stream",
     "text": [
      " 69%|██████▉   | 576/836 [23:49<10:40,  2.46s/it]"
     ]
    },
    {
     "name": "stdout",
     "output_type": "stream",
     "text": [
      "['com.skmc.okcashbag.home_google', 'OK캐쉬백 [즐거움이 포인트다]', 'FINANCE', 'https://apkcombo.com']\n"
     ]
    },
    {
     "name": "stderr",
     "output_type": "stream",
     "text": [
      " 69%|██████▉   | 577/836 [23:51<09:58,  2.31s/it]"
     ]
    },
    {
     "name": "stdout",
     "output_type": "stream",
     "text": [
      "['com.skmnc.gifticon', '기프티콘', 'ENTERTAINMENT', 'https://apkcombo.com']\n"
     ]
    },
    {
     "name": "stderr",
     "output_type": "stream",
     "text": [
      " 69%|██████▉   | 578/836 [23:55<12:29,  2.90s/it]"
     ]
    },
    {
     "name": "stdout",
     "output_type": "stream",
     "text": [
      "['com.skt.logii.widget', '택배파인더-택배조회 택배예약 로지아이 LOGII', 'LIFESTYLE', 'https://apkcombo.com']\n"
     ]
    },
    {
     "name": "stderr",
     "output_type": "stream",
     "text": [
      " 69%|██████▉   | 579/836 [23:57<11:35,  2.71s/it]"
     ]
    },
    {
     "name": "stdout",
     "output_type": "stream",
     "text": [
      "['com.skt.prod.dialer', 'T전화 - AI로 더 똑똑해진 전화 앱', 'COMMUNICATION', 'https://apkcombo.com']\n"
     ]
    },
    {
     "name": "stderr",
     "output_type": "stream",
     "text": [
      " 69%|██████▉   | 580/836 [24:00<11:31,  2.70s/it]"
     ]
    },
    {
     "name": "stdout",
     "output_type": "stream",
     "text": [
      "['com.skt.prod.together', '미더스 MEETUS - 편리한 영상회의', 'COMMUNICATION', 'https://apkcombo.com']\n"
     ]
    },
    {
     "name": "stderr",
     "output_type": "stream",
     "text": [
      " 69%|██████▉   | 581/836 [24:07<16:33,  3.90s/it]"
     ]
    },
    {
     "name": "stdout",
     "output_type": "stream",
     "text": [
      "['com.skt.skaf.a000z00040', 'ONE STORE', 'TOOLS', 'https://apkcombo.com']\n"
     ]
    },
    {
     "name": "stderr",
     "output_type": "stream",
     "text": [
      " 70%|██████▉   | 582/836 [24:11<16:57,  4.01s/it]"
     ]
    },
    {
     "name": "stdout",
     "output_type": "stream",
     "text": [
      "Error\n",
      "['com.skt.skaf.oa00018282', None, None, 'https://apkcombo.com']\n"
     ]
    },
    {
     "name": "stderr",
     "output_type": "stream",
     "text": [
      " 70%|██████▉   | 583/836 [24:13<14:35,  3.46s/it]"
     ]
    },
    {
     "name": "stdout",
     "output_type": "stream",
     "text": [
      "['com.skt.smartbill', 'BILL LETTER', 'LIFESTYLE', 'https://apkcombo.com']\n"
     ]
    },
    {
     "name": "stderr",
     "output_type": "stream",
     "text": [
      " 70%|██████▉   | 584/836 [24:15<13:02,  3.11s/it]"
     ]
    },
    {
     "name": "stdout",
     "output_type": "stream",
     "text": [
      "['com.skt.tmap.ku', 'TMAP', 'MAPS & NAVIGATION', 'https://apkcombo.com']\n"
     ]
    },
    {
     "name": "stderr",
     "output_type": "stream",
     "text": [
      " 70%|██████▉   | 585/836 [24:19<14:09,  3.39s/it]"
     ]
    },
    {
     "name": "stdout",
     "output_type": "stream",
     "text": [
      "Error\n",
      "['com.sktelecom.danawa.main', None, None, 'https://apkcombo.com']\n"
     ]
    },
    {
     "name": "stderr",
     "output_type": "stream",
     "text": [
      " 70%|███████   | 586/836 [24:22<13:21,  3.21s/it]"
     ]
    },
    {
     "name": "stdout",
     "output_type": "stream",
     "text": [
      "['com.sktelecom.minit', 'T WORLD', 'LIFESTYLE', 'https://apkcombo.com']\n"
     ]
    },
    {
     "name": "stderr",
     "output_type": "stream",
     "text": [
      " 70%|███████   | 587/836 [24:24<11:58,  2.89s/it]"
     ]
    },
    {
     "name": "stdout",
     "output_type": "stream",
     "text": [
      "['com.sktelecom.tauth', 'PASS BY SKT – 인증을 넘어 일상으로 PASS', 'FINANCE', 'https://apkcombo.com']\n"
     ]
    },
    {
     "name": "stderr",
     "output_type": "stream",
     "text": [
      " 70%|███████   | 588/836 [24:26<10:53,  2.63s/it]"
     ]
    },
    {
     "name": "stdout",
     "output_type": "stream",
     "text": [
      "['com.sktelecom.tid', 'T ID', 'PRODUCTIVITY', 'https://apkcombo.com']\n"
     ]
    },
    {
     "name": "stderr",
     "output_type": "stream",
     "text": [
      " 70%|███████   | 589/836 [24:29<10:35,  2.57s/it]"
     ]
    },
    {
     "name": "stdout",
     "output_type": "stream",
     "text": [
      "['com.sktelecom.vcoloring', 'V컬러링', 'SOCIAL', 'https://apkcombo.com']\n"
     ]
    },
    {
     "name": "stderr",
     "output_type": "stream",
     "text": [
      " 71%|███████   | 590/836 [24:31<10:14,  2.50s/it]"
     ]
    },
    {
     "name": "stdout",
     "output_type": "stream",
     "text": [
      "['com.sleet.beautyplastic', '바비톡 - 성형, 피부 시술 성형외과 병원예약 성형어플', 'BEAUTY', 'https://apkcombo.com']\n"
     ]
    },
    {
     "name": "stderr",
     "output_type": "stream",
     "text": [
      " 71%|███████   | 591/836 [24:33<09:56,  2.44s/it]"
     ]
    },
    {
     "name": "stdout",
     "output_type": "stream",
     "text": [
      "['com.smartfunapps.crazyhospital', 'CRAZY HOSPITAL', 'SIMULATION', 'https://apkcombo.com']\n"
     ]
    },
    {
     "name": "stderr",
     "output_type": "stream",
     "text": [
      " 71%|███████   | 592/836 [24:35<09:17,  2.28s/it]"
     ]
    },
    {
     "name": "stdout",
     "output_type": "stream",
     "text": [
      "['com.snapchat.android', 'SNAPCHAT', 'COMMUNICATION', 'https://apkcombo.com']\n"
     ]
    },
    {
     "name": "stderr",
     "output_type": "stream",
     "text": [
      " 71%|███████   | 593/836 [24:38<09:17,  2.29s/it]"
     ]
    },
    {
     "name": "stdout",
     "output_type": "stream",
     "text": [
      "['com.snowcorp.soda.android', 'SODA CAMERA', 'PHOTOGRAPHY', 'https://apkcombo.com']\n"
     ]
    },
    {
     "name": "stderr",
     "output_type": "stream",
     "text": [
      " 71%|███████   | 594/836 [24:40<09:38,  2.39s/it]"
     ]
    },
    {
     "name": "stdout",
     "output_type": "stream",
     "text": [
      "['com.socialapps.homeplus', '홈플러스 - 마트 당일 배송', 'SHOPPING', 'https://apkcombo.com']\n"
     ]
    },
    {
     "name": "stderr",
     "output_type": "stream",
     "text": [
      " 71%|███████   | 595/836 [24:42<08:58,  2.23s/it]"
     ]
    },
    {
     "name": "stdout",
     "output_type": "stream",
     "text": [
      "['com.sony.songpal.mdr', 'SONY | HEADPHONES CONNECT', 'TOOLS', 'https://apkcombo.com']\n"
     ]
    },
    {
     "name": "stderr",
     "output_type": "stream",
     "text": [
      " 71%|███████▏  | 596/836 [24:45<09:10,  2.29s/it]"
     ]
    },
    {
     "name": "stdout",
     "output_type": "stream",
     "text": [
      "['com.soomgo', '숨고 - 이사, 인테리어, 레슨까지 전국민 생활솔루션', 'LIFESTYLE', 'https://apkcombo.com']\n"
     ]
    },
    {
     "name": "stderr",
     "output_type": "stream",
     "text": [
      " 71%|███████▏  | 597/836 [24:49<11:27,  2.88s/it]"
     ]
    },
    {
     "name": "stdout",
     "output_type": "stream",
     "text": [
      "['com.soundcloud.android', 'SOUNDCLOUD', 'MUSIC & AUDIO', 'https://apkcombo.com']\n"
     ]
    },
    {
     "name": "stderr",
     "output_type": "stream",
     "text": [
      " 72%|███████▏  | 598/836 [24:54<14:29,  3.65s/it]"
     ]
    },
    {
     "name": "stdout",
     "output_type": "stream",
     "text": [
      "['com.soundcorset.client.android', 'TUNER & METRONOME', 'MUSIC & AUDIO', 'https://apkcombo.com']\n"
     ]
    },
    {
     "name": "stderr",
     "output_type": "stream",
     "text": [
      " 72%|███████▏  | 599/836 [24:57<12:39,  3.20s/it]"
     ]
    },
    {
     "name": "stdout",
     "output_type": "stream",
     "text": [
      "['com.sp.protector.free', 'APPLOCK - FINGERPRINT', 'TOOLS', 'https://apkcombo.com']\n"
     ]
    },
    {
     "name": "stderr",
     "output_type": "stream",
     "text": [
      " 72%|███████▏  | 600/836 [24:58<11:08,  2.83s/it]"
     ]
    },
    {
     "name": "stdout",
     "output_type": "stream",
     "text": [
      "['com.spotify.music', 'SPOTIFY', 'MUSIC & AUDIO', 'https://apkcombo.com']\n"
     ]
    },
    {
     "name": "stderr",
     "output_type": "stream",
     "text": [
      " 72%|███████▏  | 601/836 [25:01<10:59,  2.81s/it]"
     ]
    },
    {
     "name": "stdout",
     "output_type": "stream",
     "text": [
      "['com.spotlightsix.zentimerlite2', 'INSIGHT TIMER', 'HEALTH & FITNESS', 'https://apkcombo.com']\n"
     ]
    },
    {
     "name": "stderr",
     "output_type": "stream",
     "text": [
      " 72%|███████▏  | 602/836 [25:03<09:53,  2.54s/it]"
     ]
    },
    {
     "name": "stdout",
     "output_type": "stream",
     "text": [
      "['com.ss.android.ugc.trill', 'TIKTOK ASIA', 'VIDEO PLAYERS & EDITORS', 'https://apkcombo.com']\n"
     ]
    },
    {
     "name": "stderr",
     "output_type": "stream",
     "text": [
      " 72%|███████▏  | 603/836 [25:05<09:37,  2.48s/it]"
     ]
    },
    {
     "name": "stdout",
     "output_type": "stream",
     "text": [
      "['com.ssg.serviceapp.android.egiftcertificate', 'SSGPAY - 혜택 위의 혜택', 'FINANCE', 'https://apkcombo.com']\n"
     ]
    },
    {
     "name": "stderr",
     "output_type": "stream",
     "text": [
      " 72%|███████▏  | 604/836 [25:08<09:35,  2.48s/it]"
     ]
    },
    {
     "name": "stdout",
     "output_type": "stream",
     "text": [
      "['com.sssdc.app.sssd', '솜씨당 - 원데이클래스 취미의 모든것', 'LIFESTYLE', 'https://apkcombo.com']\n"
     ]
    },
    {
     "name": "stderr",
     "output_type": "stream",
     "text": [
      " 72%|███████▏  | 605/836 [25:10<09:22,  2.44s/it]"
     ]
    },
    {
     "name": "stdout",
     "output_type": "stream",
     "text": [
      "['com.starbucks.co', '스타벅스', 'FOOD & DRINK', 'https://apkcombo.com']\n"
     ]
    },
    {
     "name": "stderr",
     "output_type": "stream",
     "text": [
      " 72%|███████▏  | 606/836 [25:13<09:36,  2.50s/it]"
     ]
    },
    {
     "name": "stdout",
     "output_type": "stream",
     "text": [
      "['com.strikezon', '스트라이크존 (STRIKEZON)', 'SPORTS', 'https://apkcombo.com']\n"
     ]
    },
    {
     "name": "stderr",
     "output_type": "stream",
     "text": [
      " 73%|███████▎  | 607/836 [25:15<08:59,  2.36s/it]"
     ]
    },
    {
     "name": "stdout",
     "output_type": "stream",
     "text": [
      "['com.sumone', 'SUMONE: FOR RELATIONSHIPS', 'LIFESTYLE', 'https://apkcombo.com']\n"
     ]
    },
    {
     "name": "stderr",
     "output_type": "stream",
     "text": [
      " 73%|███████▎  | 608/836 [25:17<08:31,  2.24s/it]"
     ]
    },
    {
     "name": "stdout",
     "output_type": "stream",
     "text": [
      "['com.super_toki.giraffe', 'LIKE A DINO', 'MUSIC', 'https://apkcombo.com']\n"
     ]
    },
    {
     "name": "stderr",
     "output_type": "stream",
     "text": [
      " 73%|███████▎  | 609/836 [25:23<12:41,  3.35s/it]"
     ]
    },
    {
     "name": "stdout",
     "output_type": "stream",
     "text": [
      "Error\n",
      "['com.susoft.cjonmart', None, None, 'https://apkcombo.com']\n"
     ]
    },
    {
     "name": "stderr",
     "output_type": "stream",
     "text": [
      " 73%|███████▎  | 610/836 [25:27<13:56,  3.70s/it]"
     ]
    },
    {
     "name": "stdout",
     "output_type": "stream",
     "text": [
      "['com.sweetioksusu.sweeticon', '스윗비콘 - 기프티콘 통합 관리(구 스위티콘)', 'LIFESTYLE', 'https://apkcombo.com']\n"
     ]
    },
    {
     "name": "stderr",
     "output_type": "stream",
     "text": [
      " 73%|███████▎  | 611/836 [25:30<12:21,  3.29s/it]"
     ]
    },
    {
     "name": "stdout",
     "output_type": "stream",
     "text": [
      "['com.sweettracker.smartparcel', '스마트택배', 'LIFESTYLE', 'https://apkcombo.com']\n"
     ]
    },
    {
     "name": "stderr",
     "output_type": "stream",
     "text": [
      " 73%|███████▎  | 612/836 [25:34<12:53,  3.45s/it]"
     ]
    },
    {
     "name": "stdout",
     "output_type": "stream",
     "text": [
      "['com.tatkovlab.pomodoro', 'POMODORO TIMER PRO', 'PRODUCTIVITY', 'https://apkcombo.com']\n"
     ]
    },
    {
     "name": "stderr",
     "output_type": "stream",
     "text": [
      " 73%|███████▎  | 613/836 [25:36<11:11,  3.01s/it]"
     ]
    },
    {
     "name": "stdout",
     "output_type": "stream",
     "text": [
      "['com.tcg.fpsdungeonminer', 'MERGE MINERS', 'PUZZLE', 'https://apkcombo.com']\n"
     ]
    },
    {
     "name": "stderr",
     "output_type": "stream",
     "text": [
      " 73%|███████▎  | 614/836 [25:38<10:45,  2.91s/it]"
     ]
    },
    {
     "name": "stdout",
     "output_type": "stream",
     "text": [
      "['com.teamblind.blind', 'TEAM BLIND', 'BUSINESS', 'https://apkcombo.com']\n"
     ]
    },
    {
     "name": "stderr",
     "output_type": "stream",
     "text": [
      " 74%|███████▎  | 615/836 [25:40<09:58,  2.71s/it]"
     ]
    },
    {
     "name": "stdout",
     "output_type": "stream",
     "text": [
      "['com.teamhoray.dungreed', 'DUNGREED', 'ACTION', 'https://apkcombo.com']\n"
     ]
    },
    {
     "name": "stderr",
     "output_type": "stream",
     "text": [
      " 74%|███████▎  | 616/836 [25:42<09:04,  2.48s/it]"
     ]
    },
    {
     "name": "stdout",
     "output_type": "stream",
     "text": [
      "['com.tencent.mm', 'WECHAT', 'COMMUNICATION', 'https://apkcombo.com']\n"
     ]
    },
    {
     "name": "stderr",
     "output_type": "stream",
     "text": [
      " 74%|███████▍  | 617/836 [25:48<11:58,  3.28s/it]"
     ]
    },
    {
     "name": "stdout",
     "output_type": "stream",
     "text": [
      "['com.tenqube.qlip', 'VISUAL MONEY MANAGER', 'FINANCE', 'https://apkcombo.com']\n"
     ]
    },
    {
     "name": "stderr",
     "output_type": "stream",
     "text": [
      " 74%|███████▍  | 618/836 [25:50<10:48,  2.98s/it]"
     ]
    },
    {
     "name": "stdout",
     "output_type": "stream",
     "text": [
      "['com.tf.thinkdroid.viewer', 'HANCOM OFFICE VIEWER', 'PRODUCTIVITY', 'https://apkcombo.com']\n"
     ]
    },
    {
     "name": "stderr",
     "output_type": "stream",
     "text": [
      " 74%|███████▍  | 619/836 [25:52<10:15,  2.84s/it]"
     ]
    },
    {
     "name": "stdout",
     "output_type": "stream",
     "text": [
      "['com.themoin.remit', '모인 해외송금 MOIN', 'FINANCE', 'https://apkcombo.com']\n"
     ]
    },
    {
     "name": "stderr",
     "output_type": "stream",
     "text": [
      " 74%|███████▍  | 620/836 [25:54<09:23,  2.61s/it]"
     ]
    },
    {
     "name": "stdout",
     "output_type": "stream",
     "text": [
      "['com.thingsflow.hellobot', 'HELLOBOT - ASTROLOGY & TAROT', 'SOCIAL', 'https://apkcombo.com']\n"
     ]
    },
    {
     "name": "stderr",
     "output_type": "stream",
     "text": [
      " 74%|███████▍  | 621/836 [25:57<08:51,  2.47s/it]"
     ]
    },
    {
     "name": "stdout",
     "output_type": "stream",
     "text": [
      "['com.titicacacorp.triple', '트리플 - 항공·호텔·펜션 최저가 예약, 여행계획', 'TRAVEL & LOCAL', 'https://apkcombo.com']\n"
     ]
    },
    {
     "name": "stderr",
     "output_type": "stream",
     "text": [
      " 74%|███████▍  | 622/836 [25:59<09:05,  2.55s/it]"
     ]
    },
    {
     "name": "stdout",
     "output_type": "stream",
     "text": [
      "['com.tmon', 'TMON', 'SHOPPING', 'https://apkcombo.com']\n"
     ]
    },
    {
     "name": "stderr",
     "output_type": "stream",
     "text": [
      " 75%|███████▍  | 623/836 [26:02<08:52,  2.50s/it]"
     ]
    },
    {
     "name": "stdout",
     "output_type": "stream",
     "text": [
      "['com.tmoney.tmpay', '티머니페이 - 서울사랑상품권', 'FINANCE', 'https://apkcombo.com']\n"
     ]
    },
    {
     "name": "stderr",
     "output_type": "stream",
     "text": [
      " 75%|███████▍  | 624/836 [26:04<08:25,  2.38s/it]"
     ]
    },
    {
     "name": "stdout",
     "output_type": "stream",
     "text": [
      "['com.tms', 'T 멤버십', 'LIFESTYLE', 'https://apkcombo.com']\n"
     ]
    },
    {
     "name": "stderr",
     "output_type": "stream",
     "text": [
      " 75%|███████▍  | 625/836 [26:06<08:27,  2.40s/it]"
     ]
    },
    {
     "name": "stdout",
     "output_type": "stream",
     "text": [
      "['com.todoist', 'TODOIST', 'PRODUCTIVITY', 'https://apkcombo.com']\n"
     ]
    },
    {
     "name": "stderr",
     "output_type": "stream",
     "text": [
      " 75%|███████▍  | 626/836 [26:09<08:19,  2.38s/it]"
     ]
    },
    {
     "name": "stdout",
     "output_type": "stream",
     "text": [
      "['com.touhoupixel.touhoupixeldungeonreloaded', 'TOUHOU PIXEL DUNGEON: RELOADED', 'ROLE PLAYING', 'https://apkcombo.com']\n"
     ]
    },
    {
     "name": "stderr",
     "output_type": "stream",
     "text": [
      " 75%|███████▌  | 627/836 [26:11<08:06,  2.33s/it]"
     ]
    },
    {
     "name": "stdout",
     "output_type": "stream",
     "text": [
      "['com.towneers.www', 'KARROT', 'SOCIAL', 'https://apkcombo.com']\n"
     ]
    },
    {
     "name": "stderr",
     "output_type": "stream",
     "text": [
      " 75%|███████▌  | 628/836 [26:13<08:02,  2.32s/it]"
     ]
    },
    {
     "name": "stdout",
     "output_type": "stream",
     "text": [
      "['com.tplink.iot', 'TP-LINK TAPO', 'LIFESTYLE', 'https://apkcombo.com']\n"
     ]
    },
    {
     "name": "stderr",
     "output_type": "stream",
     "text": [
      " 75%|███████▌  | 629/836 [26:15<07:40,  2.22s/it]"
     ]
    },
    {
     "name": "stdout",
     "output_type": "stream",
     "text": [
      "['com.tplink.tether', 'TP-LINK TETHER', 'TOOLS', 'https://apkcombo.com']\n"
     ]
    },
    {
     "name": "stderr",
     "output_type": "stream",
     "text": [
      " 75%|███████▌  | 630/836 [26:18<07:53,  2.30s/it]"
     ]
    },
    {
     "name": "stdout",
     "output_type": "stream",
     "text": [
      "['com.tpvison.headphone', 'PHILIPS HEADPHONES', 'MUSIC & AUDIO', 'https://apkcombo.com']\n"
     ]
    },
    {
     "name": "stderr",
     "output_type": "stream",
     "text": [
      " 75%|███████▌  | 631/836 [26:20<07:45,  2.27s/it]"
     ]
    },
    {
     "name": "stdout",
     "output_type": "stream",
     "text": [
      "['com.tranzmate', 'MOOVIT', 'MAPS & NAVIGATION', 'https://apkcombo.com']\n"
     ]
    },
    {
     "name": "stderr",
     "output_type": "stream",
     "text": [
      " 76%|███████▌  | 632/836 [26:25<10:47,  3.18s/it]"
     ]
    },
    {
     "name": "stdout",
     "output_type": "stream",
     "text": [
      "['com.trello', 'TRELLO', 'PRODUCTIVITY', 'https://apkcombo.com']\n"
     ]
    },
    {
     "name": "stderr",
     "output_type": "stream",
     "text": [
      " 76%|███████▌  | 633/836 [26:28<10:23,  3.07s/it]"
     ]
    },
    {
     "name": "stdout",
     "output_type": "stream",
     "text": [
      "['com.trianglewide.sbike', 'ALPACA - EASY AND FAST RIDE', 'LIFESTYLE', 'https://apkcombo.com']\n"
     ]
    },
    {
     "name": "stderr",
     "output_type": "stream",
     "text": [
      " 76%|███████▌  | 634/836 [26:31<10:01,  2.98s/it]"
     ]
    },
    {
     "name": "stdout",
     "output_type": "stream",
     "text": [
      "['com.tribab.tricount.android', 'TRICOUNT', 'FINANCE', 'https://apkcombo.com']\n"
     ]
    },
    {
     "name": "stderr",
     "output_type": "stream",
     "text": [
      " 76%|███████▌  | 635/836 [26:35<11:37,  3.47s/it]"
     ]
    },
    {
     "name": "stdout",
     "output_type": "stream",
     "text": [
      "['com.tripledot.triple.tile.match.pair.game.three.master.object', 'TRIPLE TILE', 'CASUAL', 'https://apkcombo.com']\n"
     ]
    },
    {
     "name": "stderr",
     "output_type": "stream",
     "text": [
      " 76%|███████▌  | 636/836 [26:38<10:32,  3.16s/it]"
     ]
    },
    {
     "name": "stdout",
     "output_type": "stream",
     "text": [
      "['com.truefriend.ministock', '미니스탁 - 매일이 즐거운 투자 루틴(국내, 해외주식)', 'FINANCE', 'https://apkcombo.com']\n"
     ]
    },
    {
     "name": "stderr",
     "output_type": "stream",
     "text": [
      " 76%|███████▌  | 637/836 [26:40<09:57,  3.00s/it]"
     ]
    },
    {
     "name": "stdout",
     "output_type": "stream",
     "text": [
      "['com.truefriend.neosmarta', '(구)한국투자', 'FINANCE', 'https://apkcombo.com']\n"
     ]
    },
    {
     "name": "stderr",
     "output_type": "stream",
     "text": [
      " 76%|███████▋  | 638/836 [26:43<09:10,  2.78s/it]"
     ]
    },
    {
     "name": "stdout",
     "output_type": "stream",
     "text": [
      "['com.truefriend.neosmartarenewal', '한국투자 - 한국투자증권 대표 MTS', 'FINANCE', 'https://apkcombo.com']\n"
     ]
    },
    {
     "name": "stderr",
     "output_type": "stream",
     "text": [
      " 76%|███████▋  | 639/836 [26:45<08:45,  2.67s/it]"
     ]
    },
    {
     "name": "stdout",
     "output_type": "stream",
     "text": [
      "['com.trustedapp.pdfreaderpdfviewer', 'PDF READER: EBOOK PDFS READER', 'PRODUCTIVITY', 'https://apkcombo.com']\n"
     ]
    },
    {
     "name": "stderr",
     "output_type": "stream",
     "text": [
      " 77%|███████▋  | 640/836 [26:47<08:15,  2.53s/it]"
     ]
    },
    {
     "name": "stdout",
     "output_type": "stream",
     "text": [
      "['com.tumblbug.app', '텀블벅 — 당신의 취향이 세상을 바꿉니다', 'LIFESTYLE', 'https://apkcombo.com']\n"
     ]
    },
    {
     "name": "stderr",
     "output_type": "stream",
     "text": [
      " 77%|███████▋  | 641/836 [26:49<07:48,  2.40s/it]"
     ]
    },
    {
     "name": "stdout",
     "output_type": "stream",
     "text": [
      "['com.tuya.smartlife', 'SMART LIFE', 'LIFESTYLE', 'https://apkcombo.com']\n"
     ]
    },
    {
     "name": "stderr",
     "output_type": "stream",
     "text": [
      " 77%|███████▋  | 642/836 [26:51<07:27,  2.31s/it]"
     ]
    },
    {
     "name": "stdout",
     "output_type": "stream",
     "text": [
      "['com.twayair.m.app', \"T'WAY AIR\", 'TRAVEL & LOCAL', 'https://apkcombo.com']\n"
     ]
    },
    {
     "name": "stderr",
     "output_type": "stream",
     "text": [
      " 77%|███████▋  | 643/836 [26:53<07:13,  2.25s/it]"
     ]
    },
    {
     "name": "stdout",
     "output_type": "stream",
     "text": [
      "['com.twitter.android', 'X', 'SOCIAL', 'https://apkcombo.com']\n"
     ]
    },
    {
     "name": "stderr",
     "output_type": "stream",
     "text": [
      " 77%|███████▋  | 644/836 [26:56<07:11,  2.25s/it]"
     ]
    },
    {
     "name": "stdout",
     "output_type": "stream",
     "text": [
      "['com.ubercab', 'UBER', 'MAPS & NAVIGATION', 'https://apkcombo.com']\n"
     ]
    },
    {
     "name": "stderr",
     "output_type": "stream",
     "text": [
      " 77%|███████▋  | 645/836 [26:58<06:54,  2.17s/it]"
     ]
    },
    {
     "name": "stdout",
     "output_type": "stream",
     "text": [
      "['com.ubivelox.uvophone', 'KIA CONNECT', 'LIFESTYLE', 'https://apkcombo.com']\n"
     ]
    },
    {
     "name": "stderr",
     "output_type": "stream",
     "text": [
      " 77%|███████▋  | 646/836 [27:02<09:07,  2.88s/it]"
     ]
    },
    {
     "name": "stdout",
     "output_type": "stream",
     "text": [
      "['com.undefined.mate', 'TODO MATE', 'PRODUCTIVITY', 'https://apkcombo.com']\n"
     ]
    },
    {
     "name": "stderr",
     "output_type": "stream",
     "text": [
      " 77%|███████▋  | 647/836 [27:05<09:12,  2.92s/it]"
     ]
    },
    {
     "name": "stdout",
     "output_type": "stream",
     "text": [
      "['com.uplus.baseballhdtv', 'U+프로야구(모든 통신사 이용가능)', 'SPORTS', 'https://apkcombo.com']\n"
     ]
    },
    {
     "name": "stderr",
     "output_type": "stream",
     "text": [
      " 78%|███████▊  | 648/836 [27:07<08:21,  2.67s/it]"
     ]
    },
    {
     "name": "stdout",
     "output_type": "stream",
     "text": [
      "['com.uplus.datacharge', 'U+데이터충전소', 'LIFESTYLE', 'https://apkcombo.com']\n"
     ]
    },
    {
     "name": "stderr",
     "output_type": "stream",
     "text": [
      " 78%|███████▊  | 649/836 [27:09<07:44,  2.48s/it]"
     ]
    },
    {
     "name": "stdout",
     "output_type": "stream",
     "text": [
      "['com.uplus.sporki', '스포키 – 스포츠 라이브 중계, 경기 일정, 커뮤니티', 'SPORTS', 'https://apkcombo.com']\n"
     ]
    },
    {
     "name": "stderr",
     "output_type": "stream",
     "text": [
      " 78%|███████▊  | 650/836 [27:12<07:26,  2.40s/it]"
     ]
    },
    {
     "name": "stdout",
     "output_type": "stream",
     "text": [
      "['com.uxlayer.wipoint', '다이소몰 – 온라인 국민가게', 'LIFESTYLE', 'https://apkcombo.com']\n"
     ]
    },
    {
     "name": "stderr",
     "output_type": "stream",
     "text": [
      " 78%|███████▊  | 651/836 [27:14<06:56,  2.25s/it]"
     ]
    },
    {
     "name": "stdout",
     "output_type": "stream",
     "text": [
      "['com.valvesoftware.android.steam.community', 'STEAM', 'ENTERTAINMENT', 'https://apkcombo.com']\n"
     ]
    },
    {
     "name": "stderr",
     "output_type": "stream",
     "text": [
      " 78%|███████▊  | 652/836 [27:15<06:03,  1.98s/it]"
     ]
    },
    {
     "name": "stdout",
     "output_type": "stream",
     "text": [
      "Error\n",
      "['com.vanced.android.youtube', None, None, 'https://apkcombo.com']\n"
     ]
    },
    {
     "name": "stderr",
     "output_type": "stream",
     "text": [
      " 78%|███████▊  | 653/836 [27:16<05:41,  1.87s/it]"
     ]
    },
    {
     "name": "stdout",
     "output_type": "stream",
     "text": [
      "Error\n",
      "['com.vanced.manager', None, None, 'https://apkcombo.com']\n"
     ]
    },
    {
     "name": "stderr",
     "output_type": "stream",
     "text": [
      " 78%|███████▊  | 654/836 [27:19<06:16,  2.07s/it]"
     ]
    },
    {
     "name": "stdout",
     "output_type": "stream",
     "text": [
      "['com.vernier.graphicalanalysis', 'GRAPHICAL ANALYSIS', 'EDUCATION', 'https://apkcombo.com']\n"
     ]
    },
    {
     "name": "stderr",
     "output_type": "stream",
     "text": [
      " 78%|███████▊  | 655/836 [27:21<06:01,  2.00s/it]"
     ]
    },
    {
     "name": "stdout",
     "output_type": "stream",
     "text": [
      "Error\n",
      "['com.viki.android', None, None, 'https://apkcombo.com']\n"
     ]
    },
    {
     "name": "stderr",
     "output_type": "stream",
     "text": [
      " 78%|███████▊  | 656/836 [27:23<06:22,  2.12s/it]"
     ]
    },
    {
     "name": "stdout",
     "output_type": "stream",
     "text": [
      "['com.vinulabs.campuspick', '캠퍼스픽: 대학생 커뮤니티, 동아리, 공모전, 대외활동', 'SOCIAL', 'https://apkcombo.com']\n"
     ]
    },
    {
     "name": "stderr",
     "output_type": "stream",
     "text": [
      " 79%|███████▊  | 657/836 [27:28<08:58,  3.01s/it]"
     ]
    },
    {
     "name": "stdout",
     "output_type": "stream",
     "text": [
      "['com.vitotechnology.starwalk2free', 'STAR WALK 2', 'EDUCATION', 'https://apkcombo.com']\n"
     ]
    },
    {
     "name": "stderr",
     "output_type": "stream",
     "text": [
      " 79%|███████▊  | 658/836 [27:31<08:15,  2.78s/it]"
     ]
    },
    {
     "name": "stdout",
     "output_type": "stream",
     "text": [
      "['com.voyagerx.scanner', 'VFLAT SCAN', 'PRODUCTIVITY', 'https://apkcombo.com']\n"
     ]
    },
    {
     "name": "stderr",
     "output_type": "stream",
     "text": [
      " 79%|███████▉  | 659/836 [27:33<07:35,  2.57s/it]"
     ]
    },
    {
     "name": "stdout",
     "output_type": "stream",
     "text": [
      "['com.vsco.cam', 'VSCO', 'PHOTOGRAPHY', 'https://apkcombo.com']\n"
     ]
    },
    {
     "name": "stderr",
     "output_type": "stream",
     "text": [
      " 79%|███████▉  | 660/836 [27:35<07:16,  2.48s/it]"
     ]
    },
    {
     "name": "stdout",
     "output_type": "stream",
     "text": [
      "['com.wafour.wapicjapanese', 'LOCKSCREEN JAPANESE DICTIONARY', 'EDUCATION', 'https://apkcombo.com']\n"
     ]
    },
    {
     "name": "stderr",
     "output_type": "stream",
     "text": [
      " 79%|███████▉  | 661/836 [27:37<07:15,  2.49s/it]"
     ]
    },
    {
     "name": "stdout",
     "output_type": "stream",
     "text": [
      "['com.waktaverse.music', 'WAKTAVERSE MUSIC', 'MUSIC & AUDIO', 'https://apkcombo.com']\n"
     ]
    },
    {
     "name": "stderr",
     "output_type": "stream",
     "text": [
      " 79%|███████▉  | 662/836 [27:39<06:49,  2.35s/it]"
     ]
    },
    {
     "name": "stdout",
     "output_type": "stream",
     "text": [
      "['com.wemakeprice', '위메프', 'SHOPPING', 'https://apkcombo.com']\n"
     ]
    },
    {
     "name": "stderr",
     "output_type": "stream",
     "text": [
      " 79%|███████▉  | 663/836 [27:41<05:54,  2.05s/it]"
     ]
    },
    {
     "name": "stdout",
     "output_type": "stream",
     "text": [
      "Error\n",
      "['com.whatsapp', None, None, 'https://apkcombo.com']\n"
     ]
    },
    {
     "name": "stderr",
     "output_type": "stream",
     "text": [
      " 79%|███████▉  | 664/836 [27:44<06:25,  2.24s/it]"
     ]
    },
    {
     "name": "stdout",
     "output_type": "stream",
     "text": [
      "['com.whox2.lguplus', '후후라이트,안전안심서비스-스팸차단과 상대번호정보 확인', 'LIFESTYLE', 'https://apkcombo.com']\n"
     ]
    },
    {
     "name": "stderr",
     "output_type": "stream",
     "text": [
      " 80%|███████▉  | 665/836 [27:48<08:44,  3.07s/it]"
     ]
    },
    {
     "name": "stdout",
     "output_type": "stream",
     "text": [
      "['com.wixot.pressurewashing', 'PRESSURE WASHING RUN', 'SIMULATION', 'https://apkcombo.com']\n"
     ]
    },
    {
     "name": "stderr",
     "output_type": "stream",
     "text": [
      " 80%|███████▉  | 666/836 [27:51<07:48,  2.76s/it]"
     ]
    },
    {
     "name": "stdout",
     "output_type": "stream",
     "text": [
      "Error\n",
      "['com.wooribank.smart.npib', None, None, 'https://apkcombo.com']\n"
     ]
    },
    {
     "name": "stderr",
     "output_type": "stream",
     "text": [
      " 80%|███████▉  | 667/836 [27:52<06:34,  2.33s/it]"
     ]
    },
    {
     "name": "stdout",
     "output_type": "stream",
     "text": [
      "Error\n",
      "['com.wooricard.smartapp', None, None, 'https://apkcombo.com']\n"
     ]
    },
    {
     "name": "stderr",
     "output_type": "stream",
     "text": [
      " 80%|███████▉  | 668/836 [27:54<06:22,  2.28s/it]"
     ]
    },
    {
     "name": "stdout",
     "output_type": "stream",
     "text": [
      "['com.wooriwm.txsmart', '나무증권-NH투자증권 MTS', 'FINANCE', 'https://apkcombo.com']\n"
     ]
    },
    {
     "name": "stderr",
     "output_type": "stream",
     "text": [
      " 80%|████████  | 669/836 [27:56<06:02,  2.17s/it]"
     ]
    },
    {
     "name": "stdout",
     "output_type": "stream",
     "text": [
      "['com.wssyncmldm', 'SAMSUNG SOFTWARE UPDATE', 'TOOLS', 'https://apkcombo.com']\n"
     ]
    },
    {
     "name": "stderr",
     "output_type": "stream",
     "text": [
      " 80%|████████  | 670/836 [27:58<06:02,  2.19s/it]"
     ]
    },
    {
     "name": "stdout",
     "output_type": "stream",
     "text": [
      "['com.xdiarys.www', 'CALENDARTASK', 'TOOLS', 'https://apkcombo.com']\n"
     ]
    },
    {
     "name": "stderr",
     "output_type": "stream",
     "text": [
      " 80%|████████  | 671/836 [28:00<06:05,  2.22s/it]"
     ]
    },
    {
     "name": "stdout",
     "output_type": "stream",
     "text": [
      "['com.xenixstudio.kepco', '한전ON', 'FINANCE', 'https://apkcombo.com']\n"
     ]
    },
    {
     "name": "stderr",
     "output_type": "stream",
     "text": [
      " 80%|████████  | 672/836 [28:03<05:56,  2.17s/it]"
     ]
    },
    {
     "name": "stdout",
     "output_type": "stream",
     "text": [
      "['com.xiaomi.hm.health', 'MIFIT', 'HEALTH & FITNESS', 'https://apkcombo.com']\n"
     ]
    },
    {
     "name": "stderr",
     "output_type": "stream",
     "text": [
      " 81%|████████  | 673/836 [28:05<06:10,  2.27s/it]"
     ]
    },
    {
     "name": "stdout",
     "output_type": "stream",
     "text": [
      "['com.xingxingapp', '씽씽 - 새로운 이동생활', 'TRAVEL & LOCAL', 'https://apkcombo.com']\n"
     ]
    },
    {
     "name": "stderr",
     "output_type": "stream",
     "text": [
      " 81%|████████  | 674/836 [28:07<05:54,  2.19s/it]"
     ]
    },
    {
     "name": "stdout",
     "output_type": "stream",
     "text": [
      "['com.yebigun4.ex', '예비군앱', 'LIFESTYLE', 'https://apkcombo.com']\n"
     ]
    },
    {
     "name": "stderr",
     "output_type": "stream",
     "text": [
      " 81%|████████  | 675/836 [28:10<06:23,  2.38s/it]"
     ]
    },
    {
     "name": "stdout",
     "output_type": "stream",
     "text": [
      "['com.yes24.commerce', '예스24 도서 서점', 'BOOKS & REFERENCE', 'https://apkcombo.com']\n"
     ]
    },
    {
     "name": "stderr",
     "output_type": "stream",
     "text": [
      " 81%|████████  | 676/836 [28:12<06:01,  2.26s/it]"
     ]
    },
    {
     "name": "stdout",
     "output_type": "stream",
     "text": [
      "['com.yes24.ticket', '예스24 티켓', 'ENTERTAINMENT', 'https://apkcombo.com']\n"
     ]
    },
    {
     "name": "stderr",
     "output_type": "stream",
     "text": [
      " 81%|████████  | 677/836 [28:14<06:00,  2.27s/it]"
     ]
    },
    {
     "name": "stdout",
     "output_type": "stream",
     "text": [
      "['com.yolo.yeogoo', '크로켓 - 전세계 커넥팅 쇼핑', 'SHOPPING', 'https://apkcombo.com']\n"
     ]
    },
    {
     "name": "stderr",
     "output_type": "stream",
     "text": [
      " 81%|████████  | 678/836 [28:16<05:52,  2.23s/it]"
     ]
    },
    {
     "name": "stdout",
     "output_type": "stream",
     "text": [
      "['com.yong.sticker', 'PRAISE STICKER', 'EDUCATION', 'https://apkcombo.com']\n"
     ]
    },
    {
     "name": "stderr",
     "output_type": "stream",
     "text": [
      " 81%|████████  | 679/836 [28:19<05:57,  2.27s/it]"
     ]
    },
    {
     "name": "stdout",
     "output_type": "stream",
     "text": [
      "['com.zlgoon.dailycafe', '일상카페 - 나의 두번째 선물하기 (커피, 맛집 쿠폰)', 'SOCIAL', 'https://apkcombo.com']\n"
     ]
    },
    {
     "name": "stderr",
     "output_type": "stream",
     "text": [
      " 81%|████████▏ | 680/836 [28:21<05:38,  2.17s/it]"
     ]
    },
    {
     "name": "stdout",
     "output_type": "stream",
     "text": [
      "['com.zy.wqmt.global', 'PATH TO NOWHERE', 'ROLE PLAYING', 'https://apkcombo.com']\n"
     ]
    },
    {
     "name": "stderr",
     "output_type": "stream",
     "text": [
      " 81%|████████▏ | 681/836 [28:23<05:42,  2.21s/it]"
     ]
    },
    {
     "name": "stdout",
     "output_type": "stream",
     "text": [
      "['ctrip.english', 'TRIP.COM: BOOK FLIGHTS, HOTELS', 'TRAVEL & LOCAL', 'https://apkcombo.com']\n"
     ]
    },
    {
     "name": "stderr",
     "output_type": "stream",
     "text": [
      " 82%|████████▏ | 682/836 [28:26<06:11,  2.41s/it]"
     ]
    },
    {
     "name": "stdout",
     "output_type": "stream",
     "text": [
      "['droom.sleepifucan', 'ALARMY - ALARM CLOCK & SLEEP', 'PRODUCTIVITY', 'https://apkcombo.com']\n"
     ]
    },
    {
     "name": "stderr",
     "output_type": "stream",
     "text": [
      " 82%|████████▏ | 683/836 [28:28<06:11,  2.43s/it]"
     ]
    },
    {
     "name": "stdout",
     "output_type": "stream",
     "text": [
      "['eco.app.libropia.v2', '전자책+도서관정보 : 리브로피아', 'BOOKS & REFERENCE', 'https://apkcombo.com']\n"
     ]
    },
    {
     "name": "stderr",
     "output_type": "stream",
     "text": [
      " 82%|████████▏ | 684/836 [28:30<05:55,  2.34s/it]"
     ]
    },
    {
     "name": "stdout",
     "output_type": "stream",
     "text": [
      "['edu.mit.appinventor.aicompanion3', 'MIT AI2 COMPANION', 'EDUCATION', 'https://apkcombo.com']\n"
     ]
    },
    {
     "name": "stderr",
     "output_type": "stream",
     "text": [
      " 82%|████████▏ | 685/836 [28:33<05:50,  2.32s/it]"
     ]
    },
    {
     "name": "stdout",
     "output_type": "stream",
     "text": [
      "['eu.europa.ec.ecas', 'EU LOGIN', 'BUSINESS', 'https://apkcombo.com']\n"
     ]
    },
    {
     "name": "stderr",
     "output_type": "stream",
     "text": [
      " 82%|████████▏ | 686/836 [28:35<05:56,  2.37s/it]"
     ]
    },
    {
     "name": "stdout",
     "output_type": "stream",
     "text": [
      "['gg.op.lol.android', 'OP.GG', 'ENTERTAINMENT', 'https://apkcombo.com']\n"
     ]
    },
    {
     "name": "stderr",
     "output_type": "stream",
     "text": [
      " 82%|████████▏ | 687/836 [28:37<05:52,  2.36s/it]"
     ]
    },
    {
     "name": "stdout",
     "output_type": "stream",
     "text": [
      "['gov.gyeonggi.ggcard', '경기지역화폐', 'FINANCE', 'https://apkcombo.com']\n"
     ]
    },
    {
     "name": "stderr",
     "output_type": "stream",
     "text": [
      " 82%|████████▏ | 688/836 [28:39<05:08,  2.08s/it]"
     ]
    },
    {
     "name": "stdout",
     "output_type": "stream",
     "text": [
      "Error\n",
      "['invo8.meezan.mb', None, None, 'https://apkcombo.com']\n"
     ]
    },
    {
     "name": "stderr",
     "output_type": "stream",
     "text": [
      " 82%|████████▏ | 689/836 [28:41<05:17,  2.16s/it]"
     ]
    },
    {
     "name": "stdout",
     "output_type": "stream",
     "text": [
      "['io.gbike.gcooter', 'GCOO - MOBILITY EVOLUTION', 'TRAVEL & LOCAL', 'https://apkcombo.com']\n"
     ]
    },
    {
     "name": "stderr",
     "output_type": "stream",
     "text": [
      " 83%|████████▎ | 690/836 [28:44<05:29,  2.26s/it]"
     ]
    },
    {
     "name": "stdout",
     "output_type": "stream",
     "text": [
      "['io.github.dev.yakuza.toeicwords', '토익 단어, TOEIC 단어장', 'EDUCATION', 'https://apkcombo.com']\n"
     ]
    },
    {
     "name": "stderr",
     "output_type": "stream",
     "text": [
      " 83%|████████▎ | 691/836 [28:51<09:23,  3.89s/it]"
     ]
    },
    {
     "name": "stdout",
     "output_type": "stream",
     "text": [
      "['io.levvels.mmtc', 'MOMENTICA', 'ENTERTAINMENT', 'https://apkcombo.com']\n"
     ]
    },
    {
     "name": "stderr",
     "output_type": "stream",
     "text": [
      " 83%|████████▎ | 692/836 [28:54<08:18,  3.46s/it]"
     ]
    },
    {
     "name": "stdout",
     "output_type": "stream",
     "text": [
      "['io.witchform.app', '윗치폼 - 우리끼리 사고파는 창작마켓', 'ENTERTAINMENT', 'https://apkcombo.com']\n"
     ]
    },
    {
     "name": "stderr",
     "output_type": "stream",
     "text": [
      " 83%|████████▎ | 693/836 [28:58<08:39,  3.63s/it]"
     ]
    },
    {
     "name": "stdout",
     "output_type": "stream",
     "text": [
      "Error\n",
      "['jbk.app.coupleday', None, None, 'https://apkcombo.com']\n"
     ]
    },
    {
     "name": "stderr",
     "output_type": "stream",
     "text": [
      " 83%|████████▎ | 694/836 [29:01<07:53,  3.34s/it]"
     ]
    },
    {
     "name": "stdout",
     "output_type": "stream",
     "text": [
      "['jp.co.canon.bsd.ad.pixmaprint', 'CANON PRINT', 'TOOLS', 'https://apkcombo.com']\n"
     ]
    },
    {
     "name": "stderr",
     "output_type": "stream",
     "text": [
      " 83%|████████▎ | 695/836 [29:04<07:47,  3.32s/it]"
     ]
    },
    {
     "name": "stdout",
     "output_type": "stream",
     "text": [
      "Error\n",
      "['jp.gungho.padko', None, None, 'https://apkcombo.com']\n"
     ]
    },
    {
     "name": "stderr",
     "output_type": "stream",
     "text": [
      " 83%|████████▎ | 696/836 [29:06<06:55,  2.97s/it]"
     ]
    },
    {
     "name": "stdout",
     "output_type": "stream",
     "text": [
      "['jp.pokemon.pokemonunite', 'POKÉMON UNITE', 'ACTION', 'https://apkcombo.com']\n"
     ]
    },
    {
     "name": "stderr",
     "output_type": "stream",
     "text": [
      " 83%|████████▎ | 697/836 [29:08<06:16,  2.71s/it]"
     ]
    },
    {
     "name": "stdout",
     "output_type": "stream",
     "text": [
      "['jp.pxv.android', 'PIXIV', 'SOCIAL', 'https://apkcombo.com']\n"
     ]
    },
    {
     "name": "stderr",
     "output_type": "stream",
     "text": [
      " 83%|████████▎ | 698/836 [29:13<07:57,  3.46s/it]"
     ]
    },
    {
     "name": "stdout",
     "output_type": "stream",
     "text": [
      "Error\n",
      "['kaist.iclab.abclogger', None, None, 'https://apkcombo.com']\n"
     ]
    },
    {
     "name": "stderr",
     "output_type": "stream",
     "text": [
      " 84%|████████▎ | 699/836 [29:18<08:41,  3.80s/it]"
     ]
    },
    {
     "name": "stdout",
     "output_type": "stream",
     "text": [
      "['kfc_ko.kore.kg.kfc_korea', 'KFC KOREA', 'FOOD & DRINK', 'https://apkcombo.com']\n"
     ]
    },
    {
     "name": "stderr",
     "output_type": "stream",
     "text": [
      " 84%|████████▎ | 700/836 [29:22<09:09,  4.04s/it]"
     ]
    },
    {
     "name": "stdout",
     "output_type": "stream",
     "text": [
      "['kr.ac.kaist.bus', 'KAIST BUS AND OPERATING HOURS', 'PRODUCTIVITY', 'https://apkcombo.com']\n"
     ]
    },
    {
     "name": "stderr",
     "output_type": "stream",
     "text": [
      " 84%|████████▍ | 701/836 [29:25<08:03,  3.58s/it]"
     ]
    },
    {
     "name": "stdout",
     "output_type": "stream",
     "text": [
      "['kr.ac.kaist.kairen.kairen', 'KAIREN', 'TOOLS', 'https://apkcombo.com']\n"
     ]
    },
    {
     "name": "stderr",
     "output_type": "stream",
     "text": [
      " 84%|████████▍ | 702/836 [29:29<08:31,  3.82s/it]"
     ]
    },
    {
     "name": "stdout",
     "output_type": "stream",
     "text": [
      "['kr.ac.kaist.nclab.hivemind', 'HIVEMIND - 소셜 IOT 리모컨', 'TOOLS', 'https://apkcombo.com']\n"
     ]
    },
    {
     "name": "stderr",
     "output_type": "stream",
     "text": [
      " 84%|████████▍ | 703/836 [29:32<07:37,  3.44s/it]"
     ]
    },
    {
     "name": "stdout",
     "output_type": "stream",
     "text": [
      "['kr.ac.kaist.portal', 'KAIST PORTAL', 'COMMUNICATION', 'https://apkcombo.com']\n"
     ]
    },
    {
     "name": "stderr",
     "output_type": "stream",
     "text": [
      " 84%|████████▍ | 704/836 [29:34<06:57,  3.16s/it]"
     ]
    },
    {
     "name": "stdout",
     "output_type": "stream",
     "text": [
      "['kr.ac.libit.kaist', 'KAIST LIBRARY', 'LIBRARIES & DEMO', 'https://apkcombo.com']\n"
     ]
    },
    {
     "name": "stderr",
     "output_type": "stream",
     "text": [
      " 84%|████████▍ | 705/836 [29:37<06:16,  2.87s/it]"
     ]
    },
    {
     "name": "stdout",
     "output_type": "stream",
     "text": [
      "['kr.backpackr.me.idus', '아이디어스(IDUS) - 작품구매부터 취미생활까지', 'SHOPPING', 'https://apkcombo.com']\n"
     ]
    },
    {
     "name": "stderr",
     "output_type": "stream",
     "text": [
      " 84%|████████▍ | 706/836 [29:40<06:51,  3.16s/it]"
     ]
    },
    {
     "name": "stdout",
     "output_type": "stream",
     "text": [
      "Error\n",
      "['kr.co.outback', None, None, 'https://apkcombo.com']\n"
     ]
    },
    {
     "name": "stderr",
     "output_type": "stream",
     "text": [
      " 85%|████████▍ | 707/836 [29:45<07:45,  3.61s/it]"
     ]
    },
    {
     "name": "stdout",
     "output_type": "stream",
     "text": [
      "['kr.co.aladin.ebook', '알라딘 전자책 (EBOOK)', 'BOOKS & REFERENCE', 'https://apkcombo.com']\n"
     ]
    },
    {
     "name": "stderr",
     "output_type": "stream",
     "text": [
      " 85%|████████▍ | 708/836 [29:47<06:47,  3.18s/it]"
     ]
    },
    {
     "name": "stdout",
     "output_type": "stream",
     "text": [
      "['kr.co.aladin.third_shop', '알라딘 인터넷서점', 'BOOKS & REFERENCE', 'https://apkcombo.com']\n"
     ]
    },
    {
     "name": "stderr",
     "output_type": "stream",
     "text": [
      " 85%|████████▍ | 709/836 [29:49<06:03,  2.86s/it]"
     ]
    },
    {
     "name": "stdout",
     "output_type": "stream",
     "text": [
      "['kr.co.alba.webappalba.m', '알바천국 - 일잘러들의 필수앱', 'BUSINESS', 'https://apkcombo.com']\n"
     ]
    },
    {
     "name": "stderr",
     "output_type": "stream",
     "text": [
      " 85%|████████▍ | 710/836 [29:52<05:39,  2.70s/it]"
     ]
    },
    {
     "name": "stdout",
     "output_type": "stream",
     "text": [
      "['kr.co.angelinus.gift.m', '롯데잇츠 LOTTEEATZ', 'FOOD & DRINK', 'https://apkcombo.com']\n"
     ]
    },
    {
     "name": "stderr",
     "output_type": "stream",
     "text": [
      " 85%|████████▌ | 711/836 [29:56<06:31,  3.13s/it]"
     ]
    },
    {
     "name": "stdout",
     "output_type": "stream",
     "text": [
      "['kr.co.burgerkinghybrid', '버거킹 - 햄버거 킹오더·딜리버리', 'FOOD & DRINK', 'https://apkcombo.com']\n"
     ]
    },
    {
     "name": "stderr",
     "output_type": "stream",
     "text": [
      " 85%|████████▌ | 712/836 [29:58<05:52,  2.85s/it]"
     ]
    },
    {
     "name": "stdout",
     "output_type": "stream",
     "text": [
      "['kr.co.captv.pooqv2', 'WAVVE', 'ENTERTAINMENT', 'https://apkcombo.com']\n"
     ]
    },
    {
     "name": "stderr",
     "output_type": "stream",
     "text": [
      " 85%|████████▌ | 713/836 [30:00<05:17,  2.58s/it]"
     ]
    },
    {
     "name": "stdout",
     "output_type": "stream",
     "text": [
      "['kr.co.company.hwahae', 'HWAHAE - ANALYZING COSMETICS', 'BEAUTY', 'https://apkcombo.com']\n"
     ]
    },
    {
     "name": "stderr",
     "output_type": "stream",
     "text": [
      " 85%|████████▌ | 714/836 [30:02<04:54,  2.42s/it]"
     ]
    },
    {
     "name": "stdout",
     "output_type": "stream",
     "text": [
      "['kr.co.cu.onbank', '신협ON뱅크', 'FINANCE', 'https://apkcombo.com']\n"
     ]
    },
    {
     "name": "stderr",
     "output_type": "stream",
     "text": [
      " 86%|████████▌ | 715/836 [30:05<05:14,  2.60s/it]"
     ]
    },
    {
     "name": "stdout",
     "output_type": "stream",
     "text": [
      "['kr.co.daiso.onlineshop', '샵다이소 - [당일배송] 다이소 상품 전용 쇼핑몰', 'SHOPPING', 'https://apkcombo.com']\n"
     ]
    },
    {
     "name": "stderr",
     "output_type": "stream",
     "text": [
      " 86%|████████▌ | 716/836 [30:07<04:53,  2.44s/it]"
     ]
    },
    {
     "name": "stdout",
     "output_type": "stream",
     "text": [
      "['kr.co.darby', 'REPEAT PLAYER', 'MUSIC & AUDIO', 'https://apkcombo.com']\n"
     ]
    },
    {
     "name": "stderr",
     "output_type": "stream",
     "text": [
      " 86%|████████▌ | 717/836 [30:08<04:10,  2.10s/it]"
     ]
    },
    {
     "name": "stdout",
     "output_type": "stream",
     "text": [
      "Error\n",
      "['kr.co.emart.emartmall', None, None, 'https://apkcombo.com']\n"
     ]
    },
    {
     "name": "stderr",
     "output_type": "stream",
     "text": [
      " 86%|████████▌ | 718/836 [30:11<04:21,  2.21s/it]"
     ]
    },
    {
     "name": "stdout",
     "output_type": "stream",
     "text": [
      "['kr.co.eyagi.mvnoeyagi', 'EYAGI CUSTOMER CENTER', 'SOCIAL', 'https://apkcombo.com']\n"
     ]
    },
    {
     "name": "stderr",
     "output_type": "stream",
     "text": [
      " 86%|████████▌ | 719/836 [30:13<04:19,  2.22s/it]"
     ]
    },
    {
     "name": "stdout",
     "output_type": "stream",
     "text": [
      "['kr.co.goobne.chicken', '굽네치킨', 'SHOPPING', 'https://apkcombo.com']\n"
     ]
    },
    {
     "name": "stderr",
     "output_type": "stream",
     "text": [
      " 86%|████████▌ | 720/836 [30:18<05:31,  2.86s/it]"
     ]
    },
    {
     "name": "stdout",
     "output_type": "stream",
     "text": [
      "Error\n",
      "['kr.co.gwssmall.dr.g', None, None, 'https://apkcombo.com']\n"
     ]
    },
    {
     "name": "stderr",
     "output_type": "stream",
     "text": [
      " 86%|████████▌ | 721/836 [30:20<05:09,  2.69s/it]"
     ]
    },
    {
     "name": "stdout",
     "output_type": "stream",
     "text": [
      "['kr.co.haimarrow.moms', '맘스터치', 'FOOD & DRINK', 'https://apkcombo.com']\n"
     ]
    },
    {
     "name": "stderr",
     "output_type": "stream",
     "text": [
      " 86%|████████▋ | 722/836 [30:22<05:00,  2.63s/it]"
     ]
    },
    {
     "name": "stdout",
     "output_type": "stream",
     "text": [
      "['kr.co.hanamembers.hmscustomer', '하나머니(트래블로그)', 'FINANCE', 'https://apkcombo.com']\n"
     ]
    },
    {
     "name": "stderr",
     "output_type": "stream",
     "text": [
      " 86%|████████▋ | 723/836 [30:28<06:24,  3.41s/it]"
     ]
    },
    {
     "name": "stdout",
     "output_type": "stream",
     "text": [
      "['kr.co.hiver', '하이버 - 1천만의 남자쇼핑앱', 'SHOPPING', 'https://apkcombo.com']\n"
     ]
    },
    {
     "name": "stderr",
     "output_type": "stream",
     "text": [
      " 87%|████████▋ | 724/836 [30:31<06:12,  3.33s/it]"
     ]
    },
    {
     "name": "stdout",
     "output_type": "stream",
     "text": [
      "['kr.co.hottracks.m.and', '핫트랙스 - 감성 디자인 쇼핑몰', 'SHOPPING', 'https://apkcombo.com']\n"
     ]
    },
    {
     "name": "stderr",
     "output_type": "stream",
     "text": [
      " 87%|████████▋ | 725/836 [30:33<05:44,  3.10s/it]"
     ]
    },
    {
     "name": "stdout",
     "output_type": "stream",
     "text": [
      "['kr.co.hpoint.hdgm', 'H.POINT', 'LIFESTYLE', 'https://apkcombo.com']\n"
     ]
    },
    {
     "name": "stderr",
     "output_type": "stream",
     "text": [
      " 87%|████████▋ | 726/836 [30:36<05:44,  3.13s/it]"
     ]
    },
    {
     "name": "stdout",
     "output_type": "stream",
     "text": [
      "['kr.co.iptime.iptime_smart_wizard', 'IPTIME 설치도우미', 'TOOLS', 'https://apkcombo.com']\n"
     ]
    },
    {
     "name": "stderr",
     "output_type": "stream",
     "text": [
      " 87%|████████▋ | 727/836 [30:39<05:24,  2.98s/it]"
     ]
    },
    {
     "name": "stdout",
     "output_type": "stream",
     "text": [
      "['kr.co.ivlog.mobile.app.cjonecard', 'CJ ONE', 'LIFESTYLE', 'https://apkcombo.com']\n"
     ]
    },
    {
     "name": "stderr",
     "output_type": "stream",
     "text": [
      " 87%|████████▋ | 728/836 [30:41<04:54,  2.73s/it]"
     ]
    },
    {
     "name": "stdout",
     "output_type": "stream",
     "text": [
      "['kr.co.kpcard.palrago', '안전하게 거래하는 모바일 쿠폰 직거래 장터, 팔라고', 'SHOPPING', 'https://apkcombo.com']\n"
     ]
    },
    {
     "name": "stderr",
     "output_type": "stream",
     "text": [
      " 87%|████████▋ | 729/836 [30:47<06:30,  3.65s/it]"
     ]
    },
    {
     "name": "stdout",
     "output_type": "stream",
     "text": [
      "Error\n",
      "['kr.co.kyobobook.kel', None, None, 'https://apkcombo.com']\n"
     ]
    },
    {
     "name": "stderr",
     "output_type": "stream",
     "text": [
      " 87%|████████▋ | 730/836 [30:50<05:56,  3.36s/it]"
     ]
    },
    {
     "name": "stdout",
     "output_type": "stream",
     "text": [
      "['kr.co.ll2016.theday', 'BOM CALENDAR - PERIOD TRACKER', 'HEALTH & FITNESS', 'https://apkcombo.com']\n"
     ]
    },
    {
     "name": "stderr",
     "output_type": "stream",
     "text": [
      " 87%|████████▋ | 731/836 [30:52<05:13,  2.98s/it]"
     ]
    },
    {
     "name": "stdout",
     "output_type": "stream",
     "text": [
      "['kr.co.lottecinema.lcm', '롯데시네마', 'ENTERTAINMENT', 'https://apkcombo.com']\n"
     ]
    },
    {
     "name": "stderr",
     "output_type": "stream",
     "text": [
      " 88%|████████▊ | 732/836 [30:54<04:41,  2.71s/it]"
     ]
    },
    {
     "name": "stdout",
     "output_type": "stream",
     "text": [
      "['kr.co.lylstudio.httpsguard', 'UNICORN HTTPS: FAST BYPASS DPI', 'TOOLS', 'https://apkcombo.com']\n"
     ]
    },
    {
     "name": "stderr",
     "output_type": "stream",
     "text": [
      " 88%|████████▊ | 733/836 [30:56<04:17,  2.50s/it]"
     ]
    },
    {
     "name": "stdout",
     "output_type": "stream",
     "text": [
      "['kr.co.millie.millieshelf', '밀리의 서재', 'BOOKS & REFERENCE', 'https://apkcombo.com']\n"
     ]
    },
    {
     "name": "stderr",
     "output_type": "stream",
     "text": [
      " 88%|████████▊ | 734/836 [30:58<04:08,  2.43s/it]"
     ]
    },
    {
     "name": "stdout",
     "output_type": "stream",
     "text": [
      "['kr.co.mywisa.giordano.magicapp', 'GIORDANO', 'SHOPPING', 'https://apkcombo.com']\n"
     ]
    },
    {
     "name": "stderr",
     "output_type": "stream",
     "text": [
      " 88%|████████▊ | 735/836 [31:01<04:04,  2.42s/it]"
     ]
    },
    {
     "name": "stdout",
     "output_type": "stream",
     "text": [
      "['kr.co.nmcs.daejeonpay', '대전사랑카드', 'FINANCE', 'https://apkcombo.com']\n"
     ]
    },
    {
     "name": "stderr",
     "output_type": "stream",
     "text": [
      " 88%|████████▊ | 736/836 [31:03<03:56,  2.36s/it]"
     ]
    },
    {
     "name": "stdout",
     "output_type": "stream",
     "text": [
      "['kr.co.nowcom.mobile.afreeca', 'AFREECATV', 'ENTERTAINMENT', 'https://apkcombo.com']\n"
     ]
    },
    {
     "name": "stderr",
     "output_type": "stream",
     "text": [
      " 88%|████████▊ | 737/836 [31:05<03:41,  2.24s/it]"
     ]
    },
    {
     "name": "stdout",
     "output_type": "stream",
     "text": [
      "['kr.co.orangetaxi.passenger', '티머니ONDA – 티머니온다, 택시앱', 'MAPS & NAVIGATION', 'https://apkcombo.com']\n"
     ]
    },
    {
     "name": "stderr",
     "output_type": "stream",
     "text": [
      " 88%|████████▊ | 738/836 [31:07<03:35,  2.20s/it]"
     ]
    },
    {
     "name": "stdout",
     "output_type": "stream",
     "text": [
      "['kr.co.posbank.compose', '컴포즈커피', 'FOOD & DRINK', 'https://apkcombo.com']\n"
     ]
    },
    {
     "name": "stderr",
     "output_type": "stream",
     "text": [
      " 88%|████████▊ | 739/836 [31:09<03:30,  2.17s/it]"
     ]
    },
    {
     "name": "stdout",
     "output_type": "stream",
     "text": [
      "['kr.co.quicket', '번개장터', 'SHOPPING', 'https://apkcombo.com']\n"
     ]
    },
    {
     "name": "stderr",
     "output_type": "stream",
     "text": [
      " 89%|████████▊ | 740/836 [31:12<03:47,  2.37s/it]"
     ]
    },
    {
     "name": "stdout",
     "output_type": "stream",
     "text": [
      "['kr.co.rinasoft.howuse', 'UBHIND', 'PRODUCTIVITY', 'https://apkcombo.com']\n"
     ]
    },
    {
     "name": "stderr",
     "output_type": "stream",
     "text": [
      " 89%|████████▊ | 741/836 [31:14<03:38,  2.30s/it]"
     ]
    },
    {
     "name": "stdout",
     "output_type": "stream",
     "text": [
      "['kr.co.samsungcard.mpocket', '삼성카드', 'FINANCE', 'https://apkcombo.com']\n"
     ]
    },
    {
     "name": "stderr",
     "output_type": "stream",
     "text": [
      " 89%|████████▉ | 742/836 [31:18<04:38,  2.96s/it]"
     ]
    },
    {
     "name": "stdout",
     "output_type": "stream",
     "text": [
      "['kr.co.saramin.brandapp', '사람인 - 취업 이직을 위한 직장 기업 정보 한 번에', 'BUSINESS', 'https://apkcombo.com']\n"
     ]
    },
    {
     "name": "stderr",
     "output_type": "stream",
     "text": [
      " 89%|████████▉ | 743/836 [31:21<04:13,  2.73s/it]"
     ]
    },
    {
     "name": "stdout",
     "output_type": "stream",
     "text": [
      "['kr.co.sbs.videoplayer', 'SBS - ON AIR, VOD, EVENT', 'VIDEO PLAYERS & EDITORS', 'https://apkcombo.com']\n"
     ]
    },
    {
     "name": "stderr",
     "output_type": "stream",
     "text": [
      " 89%|████████▉ | 744/836 [31:23<04:10,  2.72s/it]"
     ]
    },
    {
     "name": "stdout",
     "output_type": "stream",
     "text": [
      "['kr.co.shiftworks.vguardweb', 'VG 기업용 WEB SDK', 'TOOLS', 'https://apkcombo.com']\n"
     ]
    },
    {
     "name": "stderr",
     "output_type": "stream",
     "text": [
      " 89%|████████▉ | 745/836 [31:26<03:55,  2.58s/it]"
     ]
    },
    {
     "name": "stdout",
     "output_type": "stream",
     "text": [
      "['kr.co.simplebestapp.cheering', '모두의응원 LED 전광판 - 필수 응원 도구', 'TOOLS', 'https://apkcombo.com']\n"
     ]
    },
    {
     "name": "stderr",
     "output_type": "stream",
     "text": [
      " 89%|████████▉ | 746/836 [31:28<03:45,  2.51s/it]"
     ]
    },
    {
     "name": "stdout",
     "output_type": "stream",
     "text": [
      "['kr.co.srail.newapp', 'SRT - 수서고속철도', 'TRAVEL & LOCAL', 'https://apkcombo.com']\n"
     ]
    },
    {
     "name": "stderr",
     "output_type": "stream",
     "text": [
      " 89%|████████▉ | 747/836 [31:30<03:43,  2.51s/it]"
     ]
    },
    {
     "name": "stdout",
     "output_type": "stream",
     "text": [
      "['kr.co.ssg', 'SSG.COM', 'SHOPPING', 'https://apkcombo.com']\n"
     ]
    },
    {
     "name": "stderr",
     "output_type": "stream",
     "text": [
      " 89%|████████▉ | 748/836 [31:33<03:36,  2.46s/it]"
     ]
    },
    {
     "name": "stdout",
     "output_type": "stream",
     "text": [
      "['kr.co.station3.dabang', '다방 – 대한민국 대표 부동산 앱', 'HOUSE & HOME', 'https://apkcombo.com']\n"
     ]
    },
    {
     "name": "stderr",
     "output_type": "stream",
     "text": [
      " 90%|████████▉ | 749/836 [31:35<03:40,  2.53s/it]"
     ]
    },
    {
     "name": "stdout",
     "output_type": "stream",
     "text": [
      "['kr.co.subway.preorder', '써브웨이', 'FOOD & DRINK', 'https://apkcombo.com']\n"
     ]
    },
    {
     "name": "stderr",
     "output_type": "stream",
     "text": [
      " 90%|████████▉ | 750/836 [31:38<03:33,  2.49s/it]"
     ]
    },
    {
     "name": "stdout",
     "output_type": "stream",
     "text": [
      "['kr.co.sungsimdang.membership', '성심당 멤버십', 'FOOD & DRINK', 'https://apkcombo.com']\n"
     ]
    },
    {
     "name": "stderr",
     "output_type": "stream",
     "text": [
      " 90%|████████▉ | 751/836 [31:42<04:09,  2.93s/it]"
     ]
    },
    {
     "name": "stdout",
     "output_type": "stream",
     "text": [
      "['kr.co.thecheat.thecheat', '더치트 - 사기피해 정보공유 공식 앱(인터넷사기,스팸)', 'FINANCE', 'https://apkcombo.com']\n"
     ]
    },
    {
     "name": "stderr",
     "output_type": "stream",
     "text": [
      " 90%|████████▉ | 752/836 [31:44<03:46,  2.70s/it]"
     ]
    },
    {
     "name": "stdout",
     "output_type": "stream",
     "text": [
      "['kr.co.ticketlink.cne', 'TICKETLINK', 'ENTERTAINMENT', 'https://apkcombo.com']\n"
     ]
    },
    {
     "name": "stderr",
     "output_type": "stream",
     "text": [
      " 90%|█████████ | 753/836 [31:47<03:40,  2.65s/it]"
     ]
    },
    {
     "name": "stdout",
     "output_type": "stream",
     "text": [
      "['kr.co.tmoney.tia', '티머니GO(온다택시 고속시외 따릉이 타슈 킥보드)', 'MAPS & NAVIGATION', 'https://apkcombo.com']\n"
     ]
    },
    {
     "name": "stderr",
     "output_type": "stream",
     "text": [
      " 90%|█████████ | 754/836 [31:51<04:20,  3.17s/it]"
     ]
    },
    {
     "name": "stdout",
     "output_type": "stream",
     "text": [
      "Error\n",
      "['kr.co.visoft.kaistmap', None, None, 'https://apkcombo.com']\n"
     ]
    },
    {
     "name": "stderr",
     "output_type": "stream",
     "text": [
      " 90%|█████████ | 755/836 [31:53<04:00,  2.97s/it]"
     ]
    },
    {
     "name": "stdout",
     "output_type": "stream",
     "text": [
      "['kr.co.wheeparam.mall.user', '휘파람- 우리동네배달생활플랫폼', 'FOOD & DRINK', 'https://apkcombo.com']\n"
     ]
    },
    {
     "name": "stderr",
     "output_type": "stream",
     "text": [
      " 90%|█████████ | 756/836 [31:56<03:54,  2.93s/it]"
     ]
    },
    {
     "name": "stdout",
     "output_type": "stream",
     "text": [
      "['kr.co.yjteam.dailyday', 'DAILY DAY - COUNTDOWN DAYS', 'LIFESTYLE', 'https://apkcombo.com']\n"
     ]
    },
    {
     "name": "stderr",
     "output_type": "stream",
     "text": [
      " 91%|█████████ | 757/836 [31:59<03:41,  2.80s/it]"
     ]
    },
    {
     "name": "stdout",
     "output_type": "stream",
     "text": [
      "['kr.co.zet', 'ZET', 'LIFESTYLE', 'https://apkcombo.com']\n"
     ]
    },
    {
     "name": "stderr",
     "output_type": "stream",
     "text": [
      " 91%|█████████ | 758/836 [32:01<03:33,  2.74s/it]"
     ]
    },
    {
     "name": "stdout",
     "output_type": "stream",
     "text": [
      "['kr.crowdworks', 'CROWDWORKS', 'PRODUCTIVITY', 'https://apkcombo.com']\n"
     ]
    },
    {
     "name": "stderr",
     "output_type": "stream",
     "text": [
      " 91%|█████████ | 759/836 [32:06<04:11,  3.27s/it]"
     ]
    },
    {
     "name": "stdout",
     "output_type": "stream",
     "text": [
      "['kr.dietfriends.android', '밸런스프렌즈(구 다이어트프렌즈)-나만의 맞춤코치 람희', 'HEALTH & FITNESS', 'https://apkcombo.com']\n"
     ]
    },
    {
     "name": "stderr",
     "output_type": "stream",
     "text": [
      " 91%|█████████ | 760/836 [32:09<03:57,  3.13s/it]"
     ]
    },
    {
     "name": "stdout",
     "output_type": "stream",
     "text": [
      "['kr.dmb.nine', '실시간TV DMB, 지상파,온에어 라이브방송 시청', 'VIDEO PLAYERS & EDITORS', 'https://apkcombo.com']\n"
     ]
    },
    {
     "name": "stderr",
     "output_type": "stream",
     "text": [
      " 91%|█████████ | 761/836 [32:11<03:34,  2.87s/it]"
     ]
    },
    {
     "name": "stdout",
     "output_type": "stream",
     "text": [
      "['kr.ebs.middle.player', 'EBS 중학ㆍ중학 프리미엄', 'EDUCATION', 'https://apkcombo.com']\n"
     ]
    },
    {
     "name": "stderr",
     "output_type": "stream",
     "text": [
      " 91%|█████████ | 762/836 [32:13<03:10,  2.58s/it]"
     ]
    },
    {
     "name": "stdout",
     "output_type": "stream",
     "text": [
      "['kr.gameone.gameonemobile', '게임원 – GAMEONE, 사회인야구', 'SPORTS', 'https://apkcombo.com']\n"
     ]
    },
    {
     "name": "stderr",
     "output_type": "stream",
     "text": [
      " 91%|█████████▏| 763/836 [32:17<03:41,  3.04s/it]"
     ]
    },
    {
     "name": "stdout",
     "output_type": "stream",
     "text": [
      "Error\n",
      "['kr.go.epost.app.findzip', None, None, 'https://apkcombo.com']\n"
     ]
    },
    {
     "name": "stderr",
     "output_type": "stream",
     "text": [
      " 91%|█████████▏| 764/836 [32:22<04:21,  3.64s/it]"
     ]
    },
    {
     "name": "stdout",
     "output_type": "stream",
     "text": [
      "['kr.go.kdca.coov', '질병관리청 COOV(코로나19 전자예방접종증명서)', 'MEDICAL', 'https://apkcombo.com']\n"
     ]
    },
    {
     "name": "stderr",
     "output_type": "stream",
     "text": [
      " 92%|█████████▏| 765/836 [32:24<03:53,  3.29s/it]"
     ]
    },
    {
     "name": "stdout",
     "output_type": "stream",
     "text": [
      "['kr.go.minwon.m', '정부24(구 민원24)', 'PRODUCTIVITY', 'https://apkcombo.com']\n"
     ]
    },
    {
     "name": "stderr",
     "output_type": "stream",
     "text": [
      " 92%|█████████▏| 766/836 [32:28<04:03,  3.48s/it]"
     ]
    },
    {
     "name": "stdout",
     "output_type": "stream",
     "text": [
      "Error\n",
      "['kr.go.mma.android.byongmu', None, None, 'https://apkcombo.com']\n"
     ]
    },
    {
     "name": "stderr",
     "output_type": "stream",
     "text": [
      " 92%|█████████▏| 767/836 [32:31<03:39,  3.18s/it]"
     ]
    },
    {
     "name": "stdout",
     "output_type": "stream",
     "text": [
      "['kr.go.mma.bcpsapp', 'E-병무지갑', 'BUSINESS', 'https://apkcombo.com']\n"
     ]
    },
    {
     "name": "stderr",
     "output_type": "stream",
     "text": [
      " 92%|█████████▏| 768/836 [32:35<03:58,  3.50s/it]"
     ]
    },
    {
     "name": "stdout",
     "output_type": "stream",
     "text": [
      "['kr.go.mobileid', '모바일 신분증 (운전면허증, 국가보훈등록증)', 'LIFESTYLE', 'https://apkcombo.com']\n"
     ]
    },
    {
     "name": "stderr",
     "output_type": "stream",
     "text": [
      " 92%|█████████▏| 769/836 [32:38<03:33,  3.19s/it]"
     ]
    },
    {
     "name": "stdout",
     "output_type": "stream",
     "text": [
      "['kr.go.nts.android', '국세청 홈택스 [손택스]', 'TOOLS', 'https://apkcombo.com']\n"
     ]
    },
    {
     "name": "stderr",
     "output_type": "stream",
     "text": [
      " 92%|█████████▏| 770/836 [32:40<03:09,  2.87s/it]"
     ]
    },
    {
     "name": "stdout",
     "output_type": "stream",
     "text": [
      "['kr.go.vol1365', '1365자원봉사', 'LIFESTYLE', 'https://apkcombo.com']\n"
     ]
    },
    {
     "name": "stderr",
     "output_type": "stream",
     "text": [
      " 92%|█████████▏| 771/836 [32:42<02:57,  2.73s/it]"
     ]
    },
    {
     "name": "stdout",
     "output_type": "stream",
     "text": [
      "['kr.goodchoice.abouthere', '여기어때 - 호텔, 모텔, 펜션, 항공권 최저가 예약', 'TRAVEL & LOCAL', 'https://apkcombo.com']\n"
     ]
    },
    {
     "name": "stderr",
     "output_type": "stream",
     "text": [
      " 92%|█████████▏| 772/836 [32:46<03:24,  3.20s/it]"
     ]
    },
    {
     "name": "stdout",
     "output_type": "stream",
     "text": [
      "['kr.munpia.forandroid', '문피아 - 웹소설의 유토피아', 'BOOKS & REFERENCE', 'https://apkcombo.com']\n"
     ]
    },
    {
     "name": "stderr",
     "output_type": "stream",
     "text": [
      " 92%|█████████▏| 773/836 [32:49<03:12,  3.06s/it]"
     ]
    },
    {
     "name": "stdout",
     "output_type": "stream",
     "text": [
      "['kr.or.giro.android', '모바일지로', 'FINANCE', 'https://apkcombo.com']\n"
     ]
    },
    {
     "name": "stderr",
     "output_type": "stream",
     "text": [
      " 93%|█████████▎| 774/836 [32:52<02:58,  2.88s/it]"
     ]
    },
    {
     "name": "stdout",
     "output_type": "stream",
     "text": [
      "['kr.or.newtashu.app', 'DAEJEON TASHU (QR ONLY)', 'TRAVEL & LOCAL', 'https://apkcombo.com']\n"
     ]
    },
    {
     "name": "stderr",
     "output_type": "stream",
     "text": [
      " 93%|█████████▎| 775/836 [32:54<02:49,  2.77s/it]"
     ]
    },
    {
     "name": "stdout",
     "output_type": "stream",
     "text": [
      "['kr.or.nhic', 'THE건강보험', 'FINANCE', 'https://apkcombo.com']\n"
     ]
    },
    {
     "name": "stderr",
     "output_type": "stream",
     "text": [
      " 93%|█████████▎| 776/836 [32:57<02:41,  2.68s/it]"
     ]
    },
    {
     "name": "stdout",
     "output_type": "stream",
     "text": [
      "['kr.or.tashu.app', '타슈 - 대전시 공영자전거', 'LIFESTYLE', 'https://apkcombo.com']\n"
     ]
    },
    {
     "name": "stderr",
     "output_type": "stream",
     "text": [
      " 93%|█████████▎| 777/836 [32:59<02:35,  2.64s/it]"
     ]
    },
    {
     "name": "stdout",
     "output_type": "stream",
     "text": [
      "['kr.tenbyten.shopping', '텐바이텐 – 디자인 쇼핑몰 10X10', 'SHOPPING', 'https://apkcombo.com']\n"
     ]
    },
    {
     "name": "stderr",
     "output_type": "stream",
     "text": [
      " 93%|█████████▎| 778/836 [33:01<02:22,  2.45s/it]"
     ]
    },
    {
     "name": "stdout",
     "output_type": "stream",
     "text": [
      "['kr.uco.mobing', '모빙 고객센터 APP (MOBING APP)', 'COMMUNICATION', 'https://apkcombo.com']\n"
     ]
    },
    {
     "name": "stderr",
     "output_type": "stream",
     "text": [
      " 93%|█████████▎| 779/836 [33:07<03:23,  3.58s/it]"
     ]
    },
    {
     "name": "stdout",
     "output_type": "stream",
     "text": [
      "Error\n",
      "['kvp.jjy.mispandroid320', None, None, 'https://apkcombo.com']\n"
     ]
    },
    {
     "name": "stderr",
     "output_type": "stream",
     "text": [
      " 93%|█████████▎| 780/836 [33:15<04:22,  4.69s/it]"
     ]
    },
    {
     "name": "stdout",
     "output_type": "stream",
     "text": [
      "['laftel.net.laftel', '라프텔', 'ENTERTAINMENT', 'https://apkcombo.com']\n"
     ]
    },
    {
     "name": "stderr",
     "output_type": "stream",
     "text": [
      " 93%|█████████▎| 781/836 [33:18<03:58,  4.34s/it]"
     ]
    },
    {
     "name": "stdout",
     "output_type": "stream",
     "text": [
      "['live.arca.android', '아카라이브', 'SOCIAL', 'https://apkcombo.com']\n"
     ]
    },
    {
     "name": "stderr",
     "output_type": "stream",
     "text": [
      " 94%|█████████▎| 782/836 [33:21<03:27,  3.84s/it]"
     ]
    },
    {
     "name": "stdout",
     "output_type": "stream",
     "text": [
      "['me.aftergrowth.disco', '디스코 - 토지, 빌딩, 상가 거래의 시작', 'HOUSE & HOME', 'https://apkcombo.com']\n"
     ]
    },
    {
     "name": "stderr",
     "output_type": "stream",
     "text": [
      " 94%|█████████▎| 783/836 [33:23<02:59,  3.39s/it]"
     ]
    },
    {
     "name": "stdout",
     "output_type": "stream",
     "text": [
      "['me.blog.ghwhsbsb123.gencheminkaist', 'KAIST GENCHEM', 'EDUCATION', 'https://apkcombo.com']\n"
     ]
    },
    {
     "name": "stderr",
     "output_type": "stream",
     "text": [
      " 94%|█████████▍| 784/836 [33:25<02:38,  3.05s/it]"
     ]
    },
    {
     "name": "stdout",
     "output_type": "stream",
     "text": [
      "['me.offoff', '오프오프 - 친구가 필요한 모든 순간', 'SOCIAL', 'https://apkcombo.com']\n"
     ]
    },
    {
     "name": "stderr",
     "output_type": "stream",
     "text": [
      " 94%|█████████▍| 785/836 [33:28<02:22,  2.79s/it]"
     ]
    },
    {
     "name": "stdout",
     "output_type": "stream",
     "text": [
      "['mega.privacy.android.app', 'MEGA', 'PRODUCTIVITY', 'https://apkcombo.com']\n"
     ]
    },
    {
     "name": "stderr",
     "output_type": "stream",
     "text": [
      " 94%|█████████▍| 786/836 [33:30<02:08,  2.56s/it]"
     ]
    },
    {
     "name": "stdout",
     "output_type": "stream",
     "text": [
      "['mobi.jackd.android', \"JACK'D\", 'SOCIAL', 'https://apkcombo.com']\n"
     ]
    },
    {
     "name": "stderr",
     "output_type": "stream",
     "text": [
      " 94%|█████████▍| 787/836 [33:33<02:15,  2.77s/it]"
     ]
    },
    {
     "name": "stdout",
     "output_type": "stream",
     "text": [
      "['mok.android', '교보문고', 'BOOKS & REFERENCE', 'https://apkcombo.com']\n"
     ]
    },
    {
     "name": "stderr",
     "output_type": "stream",
     "text": [
      " 94%|█████████▍| 788/836 [33:35<01:59,  2.48s/it]"
     ]
    },
    {
     "name": "stdout",
     "output_type": "stream",
     "text": [
      "['net.cj.cjhv.gs.tving', '티빙', 'ENTERTAINMENT', 'https://apkcombo.com']\n"
     ]
    },
    {
     "name": "stderr",
     "output_type": "stream",
     "text": [
      " 94%|█████████▍| 789/836 [33:40<02:32,  3.24s/it]"
     ]
    },
    {
     "name": "stdout",
     "output_type": "stream",
     "text": [
      "Error\n",
      "['net.cj.cjhv.gs.tving.samsung', None, None, 'https://apkcombo.com']\n"
     ]
    },
    {
     "name": "stderr",
     "output_type": "stream",
     "text": [
      " 94%|█████████▍| 790/836 [33:42<02:16,  2.96s/it]"
     ]
    },
    {
     "name": "stdout",
     "output_type": "stream",
     "text": [
      "['net.daum.android.cafe', 'DAUMCAFE', 'SOCIAL', 'https://apkcombo.com']\n"
     ]
    },
    {
     "name": "stderr",
     "output_type": "stream",
     "text": [
      " 95%|█████████▍| 791/836 [33:44<02:07,  2.82s/it]"
     ]
    },
    {
     "name": "stdout",
     "output_type": "stream",
     "text": [
      "['net.daum.android.daum', '다음 - DAUM', 'TOOLS', 'https://apkcombo.com']\n"
     ]
    },
    {
     "name": "stderr",
     "output_type": "stream",
     "text": [
      " 95%|█████████▍| 792/836 [33:46<01:52,  2.55s/it]"
     ]
    },
    {
     "name": "stdout",
     "output_type": "stream",
     "text": [
      "['net.daum.android.map', 'KAKAOMAP', 'TRAVEL & LOCAL', 'https://apkcombo.com']\n"
     ]
    },
    {
     "name": "stderr",
     "output_type": "stream",
     "text": [
      " 95%|█████████▍| 793/836 [33:51<02:14,  3.13s/it]"
     ]
    },
    {
     "name": "stdout",
     "output_type": "stream",
     "text": [
      "['net.daum.android.webtoon', '카카오웹툰 – KAKAO WEBTOON', 'COMICS', 'https://apkcombo.com']\n"
     ]
    },
    {
     "name": "stderr",
     "output_type": "stream",
     "text": [
      " 95%|█████████▍| 794/836 [33:53<02:02,  2.92s/it]"
     ]
    },
    {
     "name": "stdout",
     "output_type": "stream",
     "text": [
      "['net.instiz.www.instiz', 'INSTIZ (OFFICIAL)', 'ENTERTAINMENT', 'https://apkcombo.com']\n"
     ]
    },
    {
     "name": "stderr",
     "output_type": "stream",
     "text": [
      " 95%|█████████▌| 795/836 [33:56<01:52,  2.76s/it]"
     ]
    },
    {
     "name": "stdout",
     "output_type": "stream",
     "text": [
      "['net.nrise.quat', '콰트(QUAT) - 가장 새로운 홈트의 시작', 'HEALTH & FITNESS', 'https://apkcombo.com']\n"
     ]
    },
    {
     "name": "stderr",
     "output_type": "stream",
     "text": [
      " 95%|█████████▌| 796/836 [33:58<01:43,  2.59s/it]"
     ]
    },
    {
     "name": "stdout",
     "output_type": "stream",
     "text": [
      "['net.orizinal.subway', 'KAKAOMETRO - SUBWAY NAVIGATION', 'MAPS & NAVIGATION', 'https://apkcombo.com']\n"
     ]
    },
    {
     "name": "stderr",
     "output_type": "stream",
     "text": [
      " 95%|█████████▌| 797/836 [34:00<01:36,  2.49s/it]"
     ]
    },
    {
     "name": "stdout",
     "output_type": "stream",
     "text": [
      "['nh.smart.banking', 'NH스마트뱅킹', 'FINANCE', 'https://apkcombo.com']\n"
     ]
    },
    {
     "name": "stderr",
     "output_type": "stream",
     "text": [
      " 95%|█████████▌| 798/836 [34:02<01:28,  2.32s/it]"
     ]
    },
    {
     "name": "stdout",
     "output_type": "stream",
     "text": [
      "['nh.smart.card', 'NH농협카드 스마트앱', 'FINANCE', 'https://apkcombo.com']\n"
     ]
    },
    {
     "name": "stderr",
     "output_type": "stream",
     "text": [
      " 96%|█████████▌| 799/836 [34:04<01:21,  2.19s/it]"
     ]
    },
    {
     "name": "stdout",
     "output_type": "stream",
     "text": [
      "['nh.smart.nhallonepay', 'NH PAY(NH페이)', 'FINANCE', 'https://apkcombo.com']\n"
     ]
    },
    {
     "name": "stderr",
     "output_type": "stream",
     "text": [
      " 96%|█████████▌| 800/836 [34:07<01:25,  2.36s/it]"
     ]
    },
    {
     "name": "stdout",
     "output_type": "stream",
     "text": [
      "['nh.smart.nhcok', 'NH콕뱅크(농협)', 'FINANCE', 'https://apkcombo.com']\n"
     ]
    },
    {
     "name": "stderr",
     "output_type": "stream",
     "text": [
      " 96%|█████████▌| 801/836 [34:09<01:23,  2.39s/it]"
     ]
    },
    {
     "name": "stdout",
     "output_type": "stream",
     "text": [
      "['notes.notepad.checklist.calendar.todolist.notebook', 'NOTEPAD, NOTES, EASY NOTEBOOK', 'PRODUCTIVITY', 'https://apkcombo.com']\n"
     ]
    },
    {
     "name": "stderr",
     "output_type": "stream",
     "text": [
      " 96%|█████████▌| 802/836 [34:11<01:17,  2.28s/it]"
     ]
    },
    {
     "name": "stdout",
     "output_type": "stream",
     "text": [
      "['notion.id', 'NOTION', 'PRODUCTIVITY', 'https://apkcombo.com']\n"
     ]
    },
    {
     "name": "stderr",
     "output_type": "stream",
     "text": [
      " 96%|█████████▌| 803/836 [34:13<01:14,  2.26s/it]"
     ]
    },
    {
     "name": "stdout",
     "output_type": "stream",
     "text": [
      "['oops.ledscroller', 'LED SCROLLER', 'TOOLS', 'https://apkcombo.com']\n"
     ]
    },
    {
     "name": "stderr",
     "output_type": "stream",
     "text": [
      " 96%|█████████▌| 804/836 [34:18<01:37,  3.05s/it]"
     ]
    },
    {
     "name": "stdout",
     "output_type": "stream",
     "text": [
      "['org.adblockplus.adblockplussbrowser', 'ABP FOR SAMSUNG INTERNET', 'COMMUNICATION', 'https://apkcombo.com']\n"
     ]
    },
    {
     "name": "stderr",
     "output_type": "stream",
     "text": [
      " 96%|█████████▋| 805/836 [34:21<01:29,  2.88s/it]"
     ]
    },
    {
     "name": "stdout",
     "output_type": "stream",
     "text": [
      "['org.adblockplus.browser', 'ADBLOCK BROWSER', 'COMMUNICATION', 'https://apkcombo.com']\n"
     ]
    },
    {
     "name": "stderr",
     "output_type": "stream",
     "text": [
      " 96%|█████████▋| 806/836 [34:25<01:37,  3.26s/it]"
     ]
    },
    {
     "name": "stdout",
     "output_type": "stream",
     "text": [
      "Error\n",
      "['org.chromium.webapk.a7992ce950667f8c4_v2', None, None, 'https://apkcombo.com']\n"
     ]
    },
    {
     "name": "stderr",
     "output_type": "stream",
     "text": [
      " 97%|█████████▋| 807/836 [34:29<01:40,  3.46s/it]"
     ]
    },
    {
     "name": "stdout",
     "output_type": "stream",
     "text": [
      "Error\n",
      "['org.chromium.webapk.aaed277e6daafbaec_v2', None, None, 'https://apkcombo.com']\n"
     ]
    },
    {
     "name": "stderr",
     "output_type": "stream",
     "text": [
      " 97%|█████████▋| 808/836 [34:33<01:40,  3.58s/it]"
     ]
    },
    {
     "name": "stdout",
     "output_type": "stream",
     "text": [
      "Error\n",
      "['org.chromium.webapk.ad90ea3469155f2c2_v2', None, None, 'https://apkcombo.com']\n"
     ]
    },
    {
     "name": "stderr",
     "output_type": "stream",
     "text": [
      " 97%|█████████▋| 809/836 [34:35<01:22,  3.06s/it]"
     ]
    },
    {
     "name": "stdout",
     "output_type": "stream",
     "text": [
      "['org.isoron.uhabits', 'LOOP HABIT TRACKER', 'PRODUCTIVITY', 'https://apkcombo.com']\n"
     ]
    },
    {
     "name": "stderr",
     "output_type": "stream",
     "text": [
      " 97%|█████████▋| 810/836 [34:37<01:11,  2.77s/it]"
     ]
    },
    {
     "name": "stdout",
     "output_type": "stream",
     "text": [
      "['org.joa.zipperplus7', '7ZIPPER', 'TOOLS', 'https://apkcombo.com']\n"
     ]
    },
    {
     "name": "stderr",
     "output_type": "stream",
     "text": [
      " 97%|█████████▋| 811/836 [34:39<01:04,  2.56s/it]"
     ]
    },
    {
     "name": "stdout",
     "output_type": "stream",
     "text": [
      "['org.kftc.fido.lnk.lnk_app', '바이오인증 공동앱', 'FINANCE', 'https://apkcombo.com']\n"
     ]
    },
    {
     "name": "stderr",
     "output_type": "stream",
     "text": [
      " 97%|█████████▋| 812/836 [34:41<00:59,  2.49s/it]"
     ]
    },
    {
     "name": "stdout",
     "output_type": "stream",
     "text": [
      "['org.mozilla.firefox', 'FIREFOX', 'COMMUNICATION', 'https://apkcombo.com']\n"
     ]
    },
    {
     "name": "stderr",
     "output_type": "stream",
     "text": [
      " 97%|█████████▋| 813/836 [34:44<00:57,  2.50s/it]"
     ]
    },
    {
     "name": "stdout",
     "output_type": "stream",
     "text": [
      "['org.nine2one.elecle', '일레클 - 모든 이동의 시작과 끝', 'MAPS & NAVIGATION', 'https://apkcombo.com']\n"
     ]
    },
    {
     "name": "stderr",
     "output_type": "stream",
     "text": [
      " 97%|█████████▋| 814/836 [34:46<00:55,  2.53s/it]"
     ]
    },
    {
     "name": "stdout",
     "output_type": "stream",
     "text": [
      "['org.pocketcampus', 'EPFL CAMPUS', 'EDUCATION', 'https://apkcombo.com']\n"
     ]
    },
    {
     "name": "stderr",
     "output_type": "stream",
     "text": [
      " 97%|█████████▋| 815/836 [34:48<00:50,  2.40s/it]"
     ]
    },
    {
     "name": "stdout",
     "output_type": "stream",
     "text": [
      "['org.sparcs.taxi_app', 'TAXI FOR KAIST', 'SOCIAL', 'https://apkcombo.com']\n"
     ]
    },
    {
     "name": "stderr",
     "output_type": "stream",
     "text": [
      " 98%|█████████▊| 816/836 [34:51<00:47,  2.36s/it]"
     ]
    },
    {
     "name": "stdout",
     "output_type": "stream",
     "text": [
      "['org.telegram.messenger', 'TELEGRAM', 'COMMUNICATION', 'https://apkcombo.com']\n"
     ]
    },
    {
     "name": "stderr",
     "output_type": "stream",
     "text": [
      " 98%|█████████▊| 817/836 [34:53<00:46,  2.46s/it]"
     ]
    },
    {
     "name": "stdout",
     "output_type": "stream",
     "text": [
      "['org.wikipedia', 'WIKIPEDIA', 'BOOKS & REFERENCE', 'https://apkcombo.com']\n"
     ]
    },
    {
     "name": "stderr",
     "output_type": "stream",
     "text": [
      " 98%|█████████▊| 818/836 [34:56<00:44,  2.46s/it]"
     ]
    },
    {
     "name": "stdout",
     "output_type": "stream",
     "text": [
      "['pedometer.steptracker.calorieburner.stepcounter', 'STEP COUNTER - PEDOMETER', 'HEALTH & FITNESS', 'https://apkcombo.com']\n"
     ]
    },
    {
     "name": "stderr",
     "output_type": "stream",
     "text": [
      " 98%|█████████▊| 819/836 [34:58<00:40,  2.38s/it]"
     ]
    },
    {
     "name": "stdout",
     "output_type": "stream",
     "text": [
      "['photo.editor.photoeditor.photoeditorpro', 'POLISH', 'PHOTOGRAPHY', 'https://apkcombo.com']\n"
     ]
    },
    {
     "name": "stderr",
     "output_type": "stream",
     "text": [
      " 98%|█████████▊| 820/836 [35:00<00:38,  2.42s/it]"
     ]
    },
    {
     "name": "stdout",
     "output_type": "stream",
     "text": [
      "['photoeditor.layout.collagemaker', 'COLLAGE MAKER', 'PHOTOGRAPHY', 'https://apkcombo.com']\n"
     ]
    },
    {
     "name": "stderr",
     "output_type": "stream",
     "text": [
      " 98%|█████████▊| 821/836 [35:03<00:37,  2.48s/it]"
     ]
    },
    {
     "name": "stdout",
     "output_type": "stream",
     "text": [
      "['pk.catholic.missa', '매일미사', 'LIFESTYLE', 'https://apkcombo.com']\n"
     ]
    },
    {
     "name": "stderr",
     "output_type": "stream",
     "text": [
      " 98%|█████████▊| 822/836 [35:05<00:32,  2.35s/it]"
     ]
    },
    {
     "name": "stdout",
     "output_type": "stream",
     "text": [
      "['publog.app', '퍼블로그 사진인화 포토북 포토카드 띠부 칼선스티커 굿즈', 'PHOTOGRAPHY', 'https://apkcombo.com']\n"
     ]
    },
    {
     "name": "stderr",
     "output_type": "stream",
     "text": [
      " 98%|█████████▊| 823/836 [35:09<00:38,  2.95s/it]"
     ]
    },
    {
     "name": "stdout",
     "output_type": "stream",
     "text": [
      "['se.leap.riseupvpn', 'RISEUPVPN', 'COMMUNICATION', 'https://apkcombo.com']\n"
     ]
    },
    {
     "name": "stderr",
     "output_type": "stream",
     "text": [
      " 99%|█████████▊| 824/836 [35:12<00:35,  2.97s/it]"
     ]
    },
    {
     "name": "stdout",
     "output_type": "stream",
     "text": [
      "['skplanet.musicmate', 'FLO – 플로', 'MUSIC & AUDIO', 'https://apkcombo.com']\n"
     ]
    },
    {
     "name": "stderr",
     "output_type": "stream",
     "text": [
      " 99%|█████████▊| 825/836 [35:19<00:43,  4.00s/it]"
     ]
    },
    {
     "name": "stdout",
     "output_type": "stream",
     "text": [
      "Error\n",
      "['teamdoppelganger.smartersubway', None, None, 'https://apkcombo.com']\n"
     ]
    },
    {
     "name": "stderr",
     "output_type": "stream",
     "text": [
      " 99%|█████████▉| 826/836 [35:21<00:34,  3.48s/it]"
     ]
    },
    {
     "name": "stdout",
     "output_type": "stream",
     "text": [
      "['todolist.scheduleplanner.dailyplanner.todo.reminders', 'TO-DO LIST', 'PRODUCTIVITY', 'https://apkcombo.com']\n"
     ]
    },
    {
     "name": "stderr",
     "output_type": "stream",
     "text": [
      " 99%|█████████▉| 827/836 [35:24<00:28,  3.20s/it]"
     ]
    },
    {
     "name": "stdout",
     "output_type": "stream",
     "text": [
      "['tv.twitch.android.app', 'TWITCH', 'ENTERTAINMENT', 'https://apkcombo.com']\n"
     ]
    },
    {
     "name": "stderr",
     "output_type": "stream",
     "text": [
      " 99%|█████████▉| 828/836 [35:26<00:23,  2.98s/it]"
     ]
    },
    {
     "name": "stdout",
     "output_type": "stream",
     "text": [
      "['uplus.membership', 'U+멤버스', 'LIFESTYLE', 'https://apkcombo.com']\n"
     ]
    },
    {
     "name": "stderr",
     "output_type": "stream",
     "text": [
      " 99%|█████████▉| 829/836 [35:28<00:18,  2.58s/it]"
     ]
    },
    {
     "name": "stdout",
     "output_type": "stream",
     "text": [
      "Error\n",
      "['us.zoom.videomeetings', None, None, 'https://apkcombo.com']\n"
     ]
    },
    {
     "name": "stderr",
     "output_type": "stream",
     "text": [
      " 99%|█████████▉| 830/836 [35:30<00:15,  2.52s/it]"
     ]
    },
    {
     "name": "stdout",
     "output_type": "stream",
     "text": [
      "['video.crop.audio', 'VIDEO CROP & TRIM (VIDEO CUT)', 'VIDEO PLAYERS & EDITORS', 'https://apkcombo.com']\n"
     ]
    },
    {
     "name": "stderr",
     "output_type": "stream",
     "text": [
      " 99%|█████████▉| 831/836 [35:32<00:12,  2.44s/it]"
     ]
    },
    {
     "name": "stdout",
     "output_type": "stream",
     "text": [
      "['videoeditor.videorecorder.screenrecorder', 'XRECORDER', 'VIDEO PLAYERS & EDITORS', 'https://apkcombo.com']\n"
     ]
    },
    {
     "name": "stderr",
     "output_type": "stream",
     "text": [
      "100%|█████████▉| 832/836 [35:35<00:09,  2.43s/it]"
     ]
    },
    {
     "name": "stdout",
     "output_type": "stream",
     "text": [
      "['viva.republica.toss', '토스', 'FINANCE', 'https://apkcombo.com']\n"
     ]
    },
    {
     "name": "stderr",
     "output_type": "stream",
     "text": [
      "100%|█████████▉| 833/836 [36:03<00:30, 10.01s/it]"
     ]
    },
    {
     "name": "stdout",
     "output_type": "stream",
     "text": [
      "['vpn.japan', 'VPN JAPAN - GET JAPANESE IP', 'TOOLS', 'https://apkcombo.com']\n"
     ]
    },
    {
     "name": "stderr",
     "output_type": "stream",
     "text": [
      "100%|█████████▉| 834/836 [36:05<00:15,  7.83s/it]"
     ]
    },
    {
     "name": "stdout",
     "output_type": "stream",
     "text": [
      "['works.jubilee.timetree', 'TIMETREE', 'PRODUCTIVITY', 'https://apkcombo.com']\n"
     ]
    },
    {
     "name": "stderr",
     "output_type": "stream",
     "text": [
      "100%|█████████▉| 835/836 [36:09<00:06,  6.69s/it]"
     ]
    },
    {
     "name": "stdout",
     "output_type": "stream",
     "text": [
      "['world.mnetplus', 'MNET PLUS', 'ENTERTAINMENT', 'https://apkcombo.com']\n"
     ]
    },
    {
     "name": "stderr",
     "output_type": "stream",
     "text": [
      "100%|██████████| 836/836 [36:14<00:00,  2.60s/it]"
     ]
    },
    {
     "name": "stdout",
     "output_type": "stream",
     "text": [
      "['wsj.reader_sp', 'THE WALL STREET JOURNAL.', 'NEWS & MAGAZINES', 'https://apkcombo.com']\n"
     ]
    },
    {
     "name": "stderr",
     "output_type": "stream",
     "text": [
      "\n"
     ]
    },
    {
     "name": "stdout",
     "output_type": "stream",
     "text": [
      "packageName     0\n",
      "name           67\n",
      "category       67\n",
      "source          0\n",
      "dtype: int64\n"
     ]
    }
   ],
   "source": [
    "#Part 2: Categorize the apps, first stage:\n",
    "\n",
    "print( \"<\"*20 + \" First Extraction Began \" + \">\"*20 )\n",
    "sleep(1)\n",
    "\n",
    "if os.path.exists(os.path.join(PATH_SENSOR, \"app_category_1.csv\")):\n",
    "    os.remove(os.path.join(PATH_SENSOR, \"app_category_1.csv\"))\n",
    "\n",
    "\n",
    "def extractAppCategory1(apps: list)->pd.DataFrame:\n",
    "    search_platform = \"https://apkcombo.com\"\n",
    "    opts = FirefoxOptions()\n",
    "    opts.add_argument(\"--headless\")\n",
    "    browser = webdriver.Firefox(options=opts)\n",
    "\n",
    "    df = []\n",
    "    app_list = pd.read_csv(os.path.join(PATH_SENSOR, \"uncategorized_apps.csv\"), index_col=0).to_numpy().tolist()\n",
    "    for x in tqdm( app_list ):\n",
    "        packageName = x[0].lower()\n",
    "        browser.get(search_platform)\n",
    "\n",
    "        row = [packageName, None, None, search_platform]\n",
    "        # row = [\"com.sktelecom.minit\", None, None, search_platform]\n",
    "\n",
    "        search = browser.find_element(By.NAME, \"q\")\n",
    "        search.send_keys(row[0])\n",
    "        browser.find_element(By.CLASS_NAME, \"button-search\").click()\n",
    "        try:\n",
    "            search_soup = BeautifulSoup(browser.page_source, 'html.parser')\n",
    "            \n",
    "            category_p_tag = search_soup.find('div', text=lambda text: text and 'Category' in text)\n",
    "\n",
    "            category = category_p_tag.find_next_sibling(\"div\").text\n",
    "            row[2] = category.upper()\n",
    "\n",
    "            title_tag = search_soup.find('div', class_='app_name').findChild('h1').findChild('a').text\n",
    "            row[1] = title_tag.upper()\n",
    "        except:\n",
    "            print(\"Error\")\n",
    "        print(row)\n",
    "        df.append(row)\n",
    "    browser.close()\n",
    "    return pd.DataFrame(df, columns=columns)\n",
    "\n",
    "df = extractAppCategory1(pd.read_csv(os.path.join(PATH_SENSOR, 'uncategorized_apps.csv'), index_col=0).to_numpy().tolist())\n",
    "df.drop(columns=[col for col in df.columns if 'Unnamed' in col], inplace=True)\n",
    "df.to_csv(os.path.join(PATH_SENSOR, \"app_category_1.csv\"))\n",
    "print(df.isna().sum())"
   ]
  },
  {
   "cell_type": "code",
   "execution_count": 18,
   "metadata": {},
   "outputs": [
    {
     "name": "stdout",
     "output_type": "stream",
     "text": [
      "<<<<<<<<<<<<<<<<<<<< Second Extraction Began >>>>>>>>>>>>>>>>>>>>\n"
     ]
    },
    {
     "name": "stderr",
     "output_type": "stream",
     "text": [
      "  0%|          | 0/67 [00:00<?, ?it/s]"
     ]
    },
    {
     "name": "stdout",
     "output_type": "stream",
     "text": [
      "['android', '내 안드로이드', 'TOOLS', 'https://play.google.com']\n"
     ]
    },
    {
     "name": "stderr",
     "output_type": "stream",
     "text": [
      "  1%|▏         | 1/67 [00:10<11:47, 10.72s/it]"
     ]
    },
    {
     "name": "stdout",
     "output_type": "stream",
     "text": [
      "Error\n",
      "['com.agentsoft.s1', None, None, 'https://play.google.com']\n"
     ]
    },
    {
     "name": "stderr",
     "output_type": "stream",
     "text": [
      "  3%|▎         | 2/67 [00:25<14:28, 13.37s/it]"
     ]
    },
    {
     "name": "stdout",
     "output_type": "stream",
     "text": [
      "['com.b.gamesimulator', '게임 확산 시뮬레이션', 'GAME_STRATEGY', 'https://play.google.com']\n"
     ]
    },
    {
     "name": "stderr",
     "output_type": "stream",
     "text": [
      "  4%|▍         | 3/67 [00:44<16:59, 15.92s/it]"
     ]
    },
    {
     "name": "stdout",
     "output_type": "stream",
     "text": [
      "['com.exlix.shambles', '샴블즈 (Shambles)  Demo', 'GAME_STRATEGY', 'https://play.google.com']\n"
     ]
    },
    {
     "name": "stderr",
     "output_type": "stream",
     "text": [
      "  6%|▌         | 4/67 [00:57<15:22, 14.64s/it]"
     ]
    },
    {
     "name": "stdout",
     "output_type": "stream",
     "text": [
      "['com.hirameku.iqdungeon', 'IQ Dungeon', 'GAME_PUZZLE', 'https://play.google.com']\n"
     ]
    },
    {
     "name": "stderr",
     "output_type": "stream",
     "text": [
      "  7%|▋         | 5/67 [01:07<13:11, 12.77s/it]"
     ]
    },
    {
     "name": "stdout",
     "output_type": "stream",
     "text": [
      "['com.iiblocks.datadefense', 'Data Defense', 'GAME_STRATEGY', 'https://play.google.com']\n"
     ]
    },
    {
     "name": "stderr",
     "output_type": "stream",
     "text": [
      "  9%|▉         | 6/67 [01:17<12:06, 11.91s/it]"
     ]
    },
    {
     "name": "stdout",
     "output_type": "stream",
     "text": [
      "['com.airbnb.android', 'Airbnb (에어비앤비) - 색다른 숙소 특별한 여행', 'TRAVEL_AND_LOCAL', 'https://play.google.com']\n"
     ]
    },
    {
     "name": "stderr",
     "output_type": "stream",
     "text": [
      " 12%|█▏        | 8/67 [01:31<08:53,  9.05s/it]"
     ]
    },
    {
     "name": "stdout",
     "output_type": "stream",
     "text": [
      "['com.chegg', 'Chegg Study - Homework Helper', 'EDUCATION', 'https://play.google.com']\n"
     ]
    },
    {
     "name": "stderr",
     "output_type": "stream",
     "text": [
      " 13%|█▎        | 9/67 [01:40<08:51,  9.17s/it]"
     ]
    },
    {
     "name": "stdout",
     "output_type": "stream",
     "text": [
      "['com.coupang.mobile', '쿠팡 (Coupang)', 'SHOPPING', 'https://play.google.com']\n"
     ]
    },
    {
     "name": "stderr",
     "output_type": "stream",
     "text": [
      " 15%|█▍        | 10/67 [01:50<08:43,  9.19s/it]"
     ]
    },
    {
     "name": "stdout",
     "output_type": "stream",
     "text": [
      "['com.coupang.mobile.eats', '쿠팡이츠 - 배달앱', 'FOOD_AND_DRINK', 'https://play.google.com']\n"
     ]
    },
    {
     "name": "stderr",
     "output_type": "stream",
     "text": [
      " 16%|█▋        | 11/67 [01:59<08:36,  9.22s/it]"
     ]
    },
    {
     "name": "stdout",
     "output_type": "stream",
     "text": [
      "['com.coupang.mobile.play', 'Coupang Play', 'ENTERTAINMENT', 'https://play.google.com']\n"
     ]
    },
    {
     "name": "stderr",
     "output_type": "stream",
     "text": [
      " 18%|█▊        | 12/67 [02:08<08:24,  9.17s/it]"
     ]
    },
    {
     "name": "stdout",
     "output_type": "stream",
     "text": [
      "['com.emirates.ek.android', 'Emirates', 'TRAVEL_AND_LOCAL', 'https://play.google.com']\n"
     ]
    },
    {
     "name": "stderr",
     "output_type": "stream",
     "text": [
      " 21%|██        | 14/67 [02:22<06:56,  7.85s/it]"
     ]
    },
    {
     "name": "stdout",
     "output_type": "stream",
     "text": [
      "['com.godpeople.gpbible', '갓피플성경', 'BOOKS_AND_REFERENCE', 'https://play.google.com']\n"
     ]
    },
    {
     "name": "stderr",
     "output_type": "stream",
     "text": [
      " 25%|██▌       | 17/67 [02:40<05:20,  6.41s/it]"
     ]
    },
    {
     "name": "stdout",
     "output_type": "stream",
     "text": [
      "['com.hidea.cat', 'Cats & Soup - Cute Cat Game', 'GAME_SIMULATION', 'https://play.google.com']\n"
     ]
    },
    {
     "name": "stderr",
     "output_type": "stream",
     "text": [
      " 27%|██▋       | 18/67 [02:50<05:54,  7.23s/it]"
     ]
    },
    {
     "name": "stdout",
     "output_type": "stream",
     "text": [
      "['com.hm.goe', 'H&M - we love fashion', 'LIFESTYLE', 'https://play.google.com']\n"
     ]
    },
    {
     "name": "stderr",
     "output_type": "stream",
     "text": [
      " 28%|██▊       | 19/67 [02:59<06:14,  7.80s/it]"
     ]
    },
    {
     "name": "stdout",
     "output_type": "stream",
     "text": [
      "['com.hsv.freeadblockerbrowser', 'FAB Adblocker Browser:Adblock', 'COMMUNICATION', 'https://play.google.com']\n"
     ]
    },
    {
     "name": "stderr",
     "output_type": "stream",
     "text": [
      " 31%|███▏      | 21/67 [03:13<05:33,  7.26s/it]"
     ]
    },
    {
     "name": "stdout",
     "output_type": "stream",
     "text": [
      "['com.kosaf.gpsattendance', '한국장학재단 출근부', 'EDUCATION', 'https://play.google.com']\n"
     ]
    },
    {
     "name": "stderr",
     "output_type": "stream",
     "text": [
      " 34%|███▍      | 23/67 [03:27<05:02,  6.89s/it]"
     ]
    },
    {
     "name": "stdout",
     "output_type": "stream",
     "text": [
      "['com.lcacapp', '디지로카(롯데카드)', 'FINANCE', 'https://play.google.com']\n"
     ]
    },
    {
     "name": "stderr",
     "output_type": "stream",
     "text": [
      " 39%|███▉      | 26/67 [03:45<04:09,  6.08s/it]"
     ]
    },
    {
     "name": "stdout",
     "output_type": "stream",
     "text": [
      "['com.lufthansa.android.lufthansa', 'Lufthansa', 'TRAVEL_AND_LOCAL', 'https://play.google.com']\n"
     ]
    },
    {
     "name": "stderr",
     "output_type": "stream",
     "text": [
      " 40%|████      | 27/67 [03:55<04:41,  7.03s/it]"
     ]
    },
    {
     "name": "stdout",
     "output_type": "stream",
     "text": [
      "['com.microblink.photomath', 'Photomath', 'EDUCATION', 'https://play.google.com']\n"
     ]
    },
    {
     "name": "stderr",
     "output_type": "stream",
     "text": [
      " 42%|████▏     | 28/67 [04:04<05:01,  7.74s/it]"
     ]
    },
    {
     "name": "stdout",
     "output_type": "stream",
     "text": [
      "['com.mistplay.mistplay', 'MISTPLAY: Play to Earn Rewards', 'ENTERTAINMENT', 'https://play.google.com']\n"
     ]
    },
    {
     "name": "stderr",
     "output_type": "stream",
     "text": [
      " 45%|████▍     | 30/67 [04:18<04:24,  7.16s/it]"
     ]
    },
    {
     "name": "stdout",
     "output_type": "stream",
     "text": [
      "['com.nike.omega', 'Nike:나이키 신발, 스포츠 패션, 스트리트웨어 쇼핑', 'SHOPPING', 'https://play.google.com']\n"
     ]
    },
    {
     "name": "stderr",
     "output_type": "stream",
     "text": [
      " 46%|████▋     | 31/67 [04:27<04:41,  7.81s/it]"
     ]
    },
    {
     "name": "stdout",
     "output_type": "stream",
     "text": [
      "['com.phantomrosegame.phantomrosescarlett', 'Phantom Rose Scarlet', 'GAME_CARD', 'https://play.google.com']\n"
     ]
    },
    {
     "name": "stderr",
     "output_type": "stream",
     "text": [
      " 48%|████▊     | 32/67 [04:37<04:49,  8.26s/it]"
     ]
    },
    {
     "name": "stdout",
     "output_type": "stream",
     "text": [
      "['com.picsart.studio', 'Picsart 사진 및 동영상 메이커', 'PHOTOGRAPHY', 'https://play.google.com']\n"
     ]
    },
    {
     "name": "stderr",
     "output_type": "stream",
     "text": [
      " 49%|████▉     | 33/67 [04:46<04:52,  8.62s/it]"
     ]
    },
    {
     "name": "stdout",
     "output_type": "stream",
     "text": [
      "['com.realbyteapps.moneymanagerfree', 'Money Manager Expense & Budget', 'FINANCE', 'https://play.google.com']\n"
     ]
    },
    {
     "name": "stderr",
     "output_type": "stream",
     "text": [
      " 55%|█████▌    | 37/67 [05:10<03:04,  6.15s/it]"
     ]
    },
    {
     "name": "stdout",
     "output_type": "stream",
     "text": [
      "['com.satisfyer.connect', 'Satisfyer Connect', 'LIFESTYLE', 'https://play.google.com']\n"
     ]
    },
    {
     "name": "stderr",
     "output_type": "stream",
     "text": [
      " 61%|██████    | 41/67 [05:33<02:23,  5.51s/it]"
     ]
    },
    {
     "name": "stdout",
     "output_type": "stream",
     "text": [
      "['com.sktelecom.danawa.main', '다나와: 최저가 가격비교, 조립PC, 자동차, 여행', 'SHOPPING', 'https://play.google.com']\n"
     ]
    },
    {
     "name": "stderr",
     "output_type": "stream",
     "text": [
      " 63%|██████▎   | 42/67 [05:43<02:48,  6.74s/it]"
     ]
    },
    {
     "name": "stdout",
     "output_type": "stream",
     "text": [
      "['com.susoft.cjonmart', 'CJ더마켓', 'FOOD_AND_DRINK', 'https://play.google.com']\n"
     ]
    },
    {
     "name": "stderr",
     "output_type": "stream",
     "text": [
      "100%|██████████| 67/67 [07:48<00:00,  6.99s/it]\n"
     ]
    },
    {
     "name": "stdout",
     "output_type": "stream",
     "text": [
      "                                   packageName  \\\n",
      "0  advanced.scientific.calculator.calc991.plus   \n",
      "1         air.kr.paikdabang.android.membership   \n",
      "2                                      android   \n",
      "3                          app.heymoon.release   \n",
      "4                                    app.intra   \n",
      "\n",
      "                             name          category                   source  \n",
      "0  SCIENTIFIC CALCULATOR PLUS 991         EDUCATION     https://apkcombo.com  \n",
      "1                             빽다방      FOOD & DRINK     https://apkcombo.com  \n",
      "2                         내 안드로이드             TOOLS  https://play.google.com  \n",
      "3                   헤이문 - 월경 건강 앱  HEALTH & FITNESS     https://apkcombo.com  \n",
      "4                           INTRA             TOOLS     https://apkcombo.com   \n",
      " Index(['packageName', 'name', 'category', 'source'], dtype='object') \n",
      " (836, 4) \n",
      "\n",
      "packageName     0\n",
      "name           40\n",
      "category       40\n",
      "source          0\n",
      "dtype: int64\n"
     ]
    }
   ],
   "source": [
    "#Part 3: Categorize the apps, second stage:\n",
    "\n",
    "print( \"<\"*20 + \" Second Extraction Began \" + \">\"*20 )\n",
    "sleep(1)\n",
    "\n",
    "if os.path.exists(os.path.join(PATH_SENSOR, \"app_category_2.csv\")):\n",
    "    os.remove(os.path.join(PATH_SENSOR, \"app_category_2.csv\"))\n",
    "\n",
    "def extractAppCategory2(apps: list)->pd.DataFrame:\n",
    "    dics = []\n",
    "    opts = FirefoxOptions()\n",
    "    opts.add_argument(\"--headless\")\n",
    "    browser = webdriver.Firefox(options=opts)\n",
    "    for x in tqdm(apps):\n",
    "        id = x[0]\n",
    "        row = [id, None, None, \"https://play.google.com\"]\n",
    "        search_platform = f\"https://www.google.com/search?q={id}&start=1\"\n",
    "\n",
    "        browser.get(search_platform)\n",
    "\n",
    "        anchor_tags = browser.find_elements(By.TAG_NAME, \"a\")\n",
    "\n",
    "        # Extract href attributes from anchor tags\n",
    "        links = [tag.get_attribute(\"href\") for tag in anchor_tags]\n",
    "\n",
    "        # Filter out None values (some anchor tags may not have an href attribute)\n",
    "        links = [link for link in links if link is not None and \"https://play.google.com\" in link]\n",
    "\n",
    "        # Print the list of links\n",
    "        target_link = None\n",
    "        for link in links:\n",
    "            if id.lower() in link.lower():\n",
    "                target_link = link\n",
    "\n",
    "        if target_link:\n",
    "            browser.get(target_link)\n",
    "            sleep(4)\n",
    "            try:\n",
    "                soup = BeautifulSoup(browser.page_source, 'html.parser')\n",
    "\n",
    "                # Find the h1 tag with itemprop=\"name\"\n",
    "                h1_with_itemprop_name = soup.find('h1', {'itemprop': 'name'})\n",
    "\n",
    "                category = soup.find(\"div\", {'class': 'Uc6QCc'}).find(\"a\").attrs['href'].split(\"/\")[-1]\n",
    "                row[1] = h1_with_itemprop_name.text\n",
    "                row[2] = category\n",
    "            except:\n",
    "                print(\"Error\")\n",
    "            print(row)\n",
    "        dics.append(row)\n",
    "        # Close the WebDriver\n",
    "        sleep(4)\n",
    "    browser.quit()\n",
    "    return pd.DataFrame(dics, columns=columns)\n",
    "\n",
    "df = pd.read_csv(os.path.join(PATH_SENSOR, 'app_category_1.csv'), index_col=0)\n",
    "res = extractAppCategory2(df[df.isna().any(axis=1)].to_numpy().tolist())\n",
    "df.set_index('packageName', inplace=True)\n",
    "res.set_index('packageName', inplace=True)\n",
    "df.update(res)\n",
    "df.reset_index(inplace=True)\n",
    "print(df.head(), \"\\n\", df.columns, \"\\n\", df.shape, \"\\n\")\n",
    "df.to_csv(os.path.join(PATH_SENSOR, \"app_category_1.csv\"))\n",
    "print(df.isna().sum())"
   ]
  },
  {
   "cell_type": "code",
   "execution_count": 13,
   "metadata": {},
   "outputs": [
    {
     "name": "stdout",
     "output_type": "stream",
     "text": [
      "Unnamed: 0      0\n",
      "packageName     0\n",
      "name           40\n",
      "category       40\n",
      "source          0\n",
      "dtype: int64\n",
      "--------------------------------------------------\n"
     ]
    },
    {
     "name": "stderr",
     "output_type": "stream",
     "text": [
      "100%|██████████| 836/836 [01:15<00:00, 11.14it/s]\n"
     ]
    },
    {
     "name": "stdout",
     "output_type": "stream",
     "text": [
      "Unnamed: 0     0\n",
      "packageName    0\n",
      "name           7\n",
      "category       7\n",
      "source         0\n",
      "dtype: int64\n"
     ]
    }
   ],
   "source": [
    "def extractAppCategory2(app: pd.DataFrame) -> pd.DataFrame:\n",
    "    for idx, row in tqdm(app.iterrows(), total=app.shape[0]):\n",
    "        package_id = app.iloc[idx, app.columns.get_loc('packageName')]\n",
    "        if not row.isna().any(): continue\n",
    "        try:\n",
    "            search_url = f'https://apkpure.net/search?q={package_id}'\n",
    "            search_response = requests.get(search_url)\n",
    "            search_soup = BeautifulSoup(search_response.text, 'html.parser')\n",
    "            url = search_soup.find('a', class_='first-info').get('href')\n",
    "            response = requests.get(url)\n",
    "            soup = BeautifulSoup(response.text, 'html.parser')\n",
    "            category_p_tag = soup.find('p', text=lambda text: text and 'Category' in text)\n",
    "            if category_p_tag:\n",
    "                category = ' '.join(category_p_tag.find_next_sibling(\"p\").text.split()[1:-1])\n",
    "                app['category'][idx] = category.upper()\n",
    "            title_tag = soup.find('div', class_=\"title_link\" ).find_next(\"h1\")\n",
    "            if title_tag:\n",
    "                app['name'][idx] = title_tag.text\n",
    "            app['source'][idx] = 'apkpure.net'\n",
    "            # print(title_tag.text, category)\n",
    "        except Exception as e:\n",
    "            pass\n",
    "            # print(e)\n",
    "        # input()\n",
    "    return app\n",
    "df = pd.read_csv(os.path.join(PATH_SENSOR, \"app_category_1.csv\"), index_col = False, header = 0)\n",
    "print(df.isna().sum())\n",
    "print(\"-\"*50)\n",
    "df = extractAppCategory2(df)\n",
    "print(df.isna().sum())\n",
    "df.drop(columns=[col for col in df.columns if 'Unnamed' in col], inplace=True)\n",
    "df.to_csv(os.path.join(PATH_SENSOR, \"app_category_1.csv\"))"
   ]
  },
  {
   "cell_type": "code",
   "execution_count": 19,
   "metadata": {},
   "outputs": [
    {
     "name": "stdout",
     "output_type": "stream",
     "text": [
      "[AppUsageEvent.csv]\n"
     ]
    },
    {
     "name": "stderr",
     "output_type": "stream",
     "text": [
      "100%|██████████| 26/26 [00:17<00:00,  1.52it/s]\n"
     ]
    }
   ],
   "source": [
    "apps = pd.read_csv(os.path.join(PATH_SENSOR, 'app_category.csv'), index_col=0)\n",
    "\n",
    "print(\"[AppUsageEvent.csv]\")\n",
    "\n",
    "for uid in tqdm(uids):\n",
    "    if \".csv\" in uid: continue\n",
    "    df = pd.read_csv(os.path.join(PATH_SENSOR, uid, 'APP_USAGE_EVENT.csv'), index_col=0)\n",
    "    package_category_mapping = dict(zip(apps['packageName'], apps['category']))\n",
    "    df['category'] = df['packageName'].map(package_category_mapping)\n",
    "    df.to_csv(os.path.join(PATH_SENSOR, uid, 'APP_USAGE_EVENT.csv'))"
   ]
  }
 ],
 "metadata": {
  "kernelspec": {
   "display_name": "sci-data",
   "language": "python",
   "name": "python3"
  },
  "language_info": {
   "codemirror_mode": {
    "name": "ipython",
    "version": 3
   },
   "file_extension": ".py",
   "mimetype": "text/x-python",
   "name": "python",
   "nbconvert_exporter": "python",
   "pygments_lexer": "ipython3",
   "version": "3.9.15"
  }
 },
 "nbformat": 4,
 "nbformat_minor": 2
}
